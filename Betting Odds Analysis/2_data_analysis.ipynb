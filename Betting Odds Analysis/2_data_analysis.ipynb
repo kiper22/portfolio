{
 "cells": [
  {
   "cell_type": "markdown",
   "metadata": {},
   "source": [
    "## Analysis of the collected data"
   ]
  },
  {
   "cell_type": "markdown",
   "metadata": {},
   "source": [
    "Import data + packages"
   ]
  },
  {
   "cell_type": "code",
   "execution_count": 1,
   "metadata": {},
   "outputs": [],
   "source": [
    "import numpy as np\n",
    "import pandas as pd\n",
    "import time\n",
    "import random\n",
    "\n",
    "data = pd.read_csv('2024-01-26-filled.csv')"
   ]
  },
  {
   "cell_type": "markdown",
   "metadata": {},
   "source": [
    "We have bet rates in columns: 1, 0, 2, 10, 02, 12. Also in column 'Wygrany' we have information about the match result - the first team won(1), draw(0) or lost(2). Using this information lets find a range of width 'x' that will be most profitable for betting."
   ]
  },
  {
   "cell_type": "code",
   "execution_count": 3,
   "metadata": {},
   "outputs": [
    {
     "name": "stdout",
     "output_type": "stream",
     "text": [
      "292 [23.75  1.71  1.92]\n"
     ]
    },
    {
     "name": "stderr",
     "output_type": "stream",
     "text": [
      "C:\\Users\\Prezes\\AppData\\Local\\Temp\\ipykernel_22136\\435679729.py:3: FutureWarning: elementwise comparison failed; returning scalar instead, but in the future will perform elementwise comparison\n",
      "  selected_values = selected_data[selected_data[:, 1] == bet_type][:, 0]\n"
     ]
    }
   ],
   "source": [
    "def function_sum(data, start, iterations, bet_type):\n",
    "    selected_data = data[start:start+iterations]\n",
    "    selected_values = selected_data[selected_data[:, 1] == bet_type][:, 0]\n",
    "    return np.sum(selected_values)\n",
    "\n",
    "# set range and bet type\n",
    "range_count = 100\n",
    "bet_type = '1'\n",
    "\n",
    "row_count = data.shape[0]\n",
    "matrix_result = np.zeros((row_count, 2))\n",
    "matrix_result_count = np.zeros((row_count-range_count+1, 3))\n",
    "\n",
    "for index, row in data.iterrows():\n",
    "    matrix_result[index][0] = row[bet_type]\n",
    "    matrix_result[index][1] = row['Wygrany']\n",
    "\n",
    "matrix_result_sorted = matrix_result[matrix_result[:,0].argsort()]\n",
    "\n",
    "# calculate range count. 1st count outside loop - optimalization\n",
    "matrix_result_count[0][0] = function_sum(matrix_result_sorted, 0, range_count, bet_type)    # value of profit\n",
    "matrix_result_count[0][1] = matrix_result_sorted[0][0]                                      # value min range\n",
    "matrix_result_count[0][2] = matrix_result_sorted[range_count][0]                            # value max range\n",
    "\n",
    "for idx, _ in enumerate(matrix_result_count[1:], start=1):\n",
    "    matrix_result_count[idx][0] = matrix_result_count[idx-1][0]\n",
    "    if np.isnan(matrix_result_sorted[idx-1][1]):\n",
    "        pass\n",
    "    elif str(int(matrix_result_sorted[idx-1][1])) in str(bet_type):\n",
    "        matrix_result_count[idx][0] -= matrix_result_sorted[idx-1][0]\n",
    "    \n",
    "    if np.isnan(matrix_result_sorted[idx+range_count-1][1]):\n",
    "        pass\n",
    "    elif str(int(matrix_result_sorted[idx+range_count-1][1])) in str(bet_type):\n",
    "        matrix_result_count[idx][0] += matrix_result_sorted[idx+range_count-1][0]\n",
    "\n",
    "    matrix_result_count[idx][1] = matrix_result_sorted[idx][0]\n",
    "    matrix_result_count[idx][2] = matrix_result_sorted[idx+range_count-1][0]\n",
    "\n",
    "max_index = np.argmax(matrix_result_count[:, 0])\n",
    "print(max_index, matrix_result_count[max_index])\n"
   ]
  },
  {
   "cell_type": "markdown",
   "metadata": {},
   "source": [
    "A global maximum has been found for all data. Due to the different nature of the leagues, some deviations are possible - instead of the range of 1.7-1.9 it may be 1.6-1.9. For this reason, an analysis will be performed for the 1.6-2 range for each league.\n",
    "\n",
    "Result lis list with ligues, profit and best range. Profit is calculated \n",
    "\n",
    "$ profit = if_{win}(value*tax_{free} - 1) - if_{lose}(1) $"
   ]
  },
  {
   "cell_type": "code",
   "execution_count": 4,
   "metadata": {},
   "outputs": [
    {
     "name": "stdout",
     "output_type": "stream",
     "text": [
      "[['1-portugalia', 0.258, (1.6, 2.0)], ['1-niemcy', 0.147, (1.6600000000000001, 2.06)], ['1-belgia', 0.137, (1.52, 1.92)], ['1-francja', 0.024, (1.55, 1.9500000000000002)], ['1-hiszpania', 0.104, (1.51, 1.9100000000000001)], ['1-anglia', 0.224, (1.7200000000000002, 2.12)], ['1-holandia', -0.057, (1.7200000000000002, 2.12)], ['liga-mistrzow', 0.028, (1.6700000000000002, 2.0700000000000003)], ['liga-europy', 0.208, (1.51, 1.9100000000000001)]]\n"
     ]
    }
   ],
   "source": [
    "ligues = data['Liga'].unique()\n",
    "list_ligues = []\n",
    "bet_type = '1'\n",
    "_x_min = matrix_result_count[max_index][1]\n",
    "_x_max = matrix_result_count[max_index][2]\n",
    "x = _x_min - (_x_max - _x_min)# / 2\n",
    "y = _x_max + (_x_max - _x_min) #/ 2\n",
    "bet_range = 0.4\n",
    "\n",
    "for l in ligues:\n",
    "    list_ligues.append([l, 0.0, 0.0])\n",
    "\n",
    "def calculate_ratio(sublists):\n",
    "    if len(sublists) < 2:\n",
    "        return 0\n",
    "    if sublists[1] == 0:\n",
    "        return 0\n",
    "    return sublists[0] / sublists[1]\n",
    "\n",
    "for ligue in ligues:\n",
    "    best_range = None\n",
    "    best_ratio = -np.inf\n",
    "\n",
    "    for start in np.arange(x, y - bet_range, 0.01):\n",
    "        end = start + bet_range\n",
    "        total_value = 0.0\n",
    "        total_count = 0.0\n",
    "        \n",
    "        for idx, row in data.iterrows():\n",
    "            if row['Liga'] == ligue and start <= row[bet_type] < end:\n",
    "                winner = row['Wygrany']\n",
    "                value = row[bet_type]\n",
    "                \n",
    "                if np.isnan(winner):\n",
    "                    pass\n",
    "                elif str(int(winner)) in str(bet_type):\n",
    "                    total_value += value * 0.88 - 1\n",
    "                    total_count += 1\n",
    "                else:\n",
    "                    total_value -= 1\n",
    "                    total_count += 1\n",
    "        \n",
    "        ratio = calculate_ratio([total_value, total_count])\n",
    "        \n",
    "        if ratio > best_ratio:\n",
    "            best_ratio = round(ratio, 3)\n",
    "            best_range = (start, end)\n",
    "    \n",
    "    for sub in list_ligues:\n",
    "        if sub[0] == ligue:\n",
    "            sub[1] = best_ratio\n",
    "            sub[2] = best_range\n",
    "\n",
    "print(list_ligues)"
   ]
  },
  {
   "cell_type": "markdown",
   "metadata": {},
   "source": [
    "Using data of profitability and best range, a betting simulation will be performed. The code below is responsible for filtering the data."
   ]
  },
  {
   "cell_type": "code",
   "execution_count": 5,
   "metadata": {},
   "outputs": [],
   "source": [
    "# filtering data\n",
    "minimum_profitability = 0.1\n",
    "\n",
    "list_ligues_filtered = [sublist for sublist in list_ligues if sublist[1] > minimum_profitability]\n",
    "\n",
    "def function_filtred_data():\n",
    "    sample = pd.DataFrame(columns=data.columns)\n",
    "    for ligue_info in list_ligues_filtered:\n",
    "        min_range, max_range = ligue_info[2]\n",
    "        \n",
    "        matches = data[(data['Liga'].str.contains(ligue_info[0])) & \n",
    "                       ((data[bet_type].astype(float) > min_range) & (data[bet_type].astype(float) < max_range))]\n",
    "        \n",
    "        sample = pd.concat([sample, matches])\n",
    "    return sample\n",
    "\n",
    "filtered_data = function_filtred_data()\n",
    "filtered_data.to_csv('filtered_data.csv', index=False)"
   ]
  },
  {
   "cell_type": "markdown",
   "metadata": {},
   "source": [
    "Simulation of placing bets for stakes containing x% of the portfolio size."
   ]
  },
  {
   "cell_type": "code",
   "execution_count": 47,
   "metadata": {},
   "outputs": [
    {
     "name": "stdout",
     "output_type": "stream",
     "text": [
      "Number of tests:  1000\n",
      "For 2 matches in one bet, winrate is:  49.07 %\n",
      "Percentage:  [0.02, 0.05, 0.08, 0.12, 0.15, 0.2]\n",
      "Average money in the end:  [125.51, 193.92, 300.52, 538.56, 837.74, 1805.25]\n",
      "Bankruptcy:  [0, 0, 0, 0, 0, 0]\n",
      "How many times we lost:  [131, 93, 117, 149, 170, 220]\n"
     ]
    }
   ],
   "source": [
    "STARTING_MONEY = 100\n",
    "PERCENTAGE_MONEY = [0.02, 0.05, 0.08, 0.12, 0.15, 0.20]\n",
    "BET_PAYMENT_BASIS = 2\n",
    "NUMBER_OF_TESTS = 1000\n",
    "NUMBER_OF_BETS_IN_TEST = 40\n",
    "NUMBER_OF_MATCHES_IN_BET = 2\n",
    "bet_type = '1'\n",
    "tax = 0.12\n",
    "bet_win_rate = NUMBER_OF_TESTS * NUMBER_OF_BETS_IN_TEST\n",
    "\n",
    "def is_win(row):\n",
    "    if row['Bramki_1'] > row['Bramki_2']:\n",
    "        return 1\n",
    "    elif row['Bramki_1'] == row['Bramki_2']:\n",
    "        return 0\n",
    "    else:\n",
    "        return 2\n",
    "\n",
    "def calculate_sample(sample):\n",
    "    global bet_win_rate\n",
    "    bet_value = 1\n",
    "    for index, match in sample.iterrows():\n",
    "        result = is_win(match)\n",
    "        if str(result) in str(bet_type):\n",
    "            bet_value *= filtered_data.at[index, f'{bet_type}']\n",
    "        else:\n",
    "            bet_win_rate -= 1\n",
    "            return 0\n",
    "    return bet_value * (1 - tax)\n",
    "\n",
    "def calculate_bet_base_value(portfolio, percentage):\n",
    "    if(portfolio < BET_PAYMENT_BASIS):\n",
    "        return 0\n",
    "    bet_value = int(portfolio * percentage)\n",
    "    return max(bet_value, 1)\n",
    "\n",
    "def generate_sample():\n",
    "    sample = filtered_data.sample(n=NUMBER_OF_MATCHES_IN_BET)\n",
    "    return sample\n",
    "\n",
    "def calculate_bets_profit(bet_percentage, number_of_bets):\n",
    "    money = [STARTING_MONEY] * len(bet_percentage)\n",
    "    for bet in range(0, number_of_bets):        \n",
    "        sample_matches = generate_sample()\n",
    "        bet_value = calculate_sample(sample_matches)\n",
    "        for percent in range(0, len(bet_percentage)):\n",
    "            bet_base = calculate_bet_base_value(money[percent], bet_percentage[percent])\n",
    "            money[percent] = money[percent] + (bet_value - 1) * bet_base\n",
    "    return money\n",
    "\n",
    "avg_win = [0] * len(PERCENTAGE_MONEY)\n",
    "losses = [0] * len(PERCENTAGE_MONEY)\n",
    "failure = [0] * len(PERCENTAGE_MONEY)\n",
    "portfolio_history = np.zeros((NUMBER_OF_TESTS, len(PERCENTAGE_MONEY)))\n",
    "\n",
    "for i in range(NUMBER_OF_TESTS):\n",
    "    money = calculate_bets_profit(PERCENTAGE_MONEY, NUMBER_OF_BETS_IN_TEST)\n",
    "    for x in range(0, len(money)):\n",
    "        avg_win[x] += money[x]\n",
    "        if money[x] < int(BET_PAYMENT_BASIS):\n",
    "            losses[x] += 1\n",
    "        if money[x] < STARTING_MONEY:\n",
    "            failure[x] += 1\n",
    "        if(money[x] < min_money):\n",
    "            min_money = money[x]\n",
    "        portfolio_history[i][x] = money[x]\n",
    "\n",
    "avg_win = [round(x/NUMBER_OF_TESTS, 2) for x in avg_win]\n",
    "bet_win_rate = round(bet_win_rate / (NUMBER_OF_TESTS * NUMBER_OF_BETS_IN_TEST) * 100, 2)\n",
    "\n",
    "print('Number of tests: ', NUMBER_OF_TESTS)\n",
    "print('For', NUMBER_OF_MATCHES_IN_BET, 'matches in one bet, winrate is: ', bet_win_rate, '%')\n",
    "print('Percentage: ', PERCENTAGE_MONEY)\n",
    "print('Average money in the end: ', avg_win)\n",
    "print('Bankruptcy: ', losses)\n",
    "print('How many times we lost: ', failure)"
   ]
  },
  {
   "cell_type": "code",
   "execution_count": 48,
   "metadata": {},
   "outputs": [
    {
     "name": "stdout",
     "output_type": "stream",
     "text": [
      "For  0.02  percentage:\n",
      "First quartile:  111.08 \tSecond quartile:  126.19 \tThird quartile:  138.51\n",
      "For  0.05  percentage:\n",
      "First quartile:  133.36 \tSecond quartile:  178.43 \tThird quartile:  236.71\n",
      "For  0.08  percentage:\n",
      "First quartile:  149.73 \tSecond quartile:  242.09 \tThird quartile:  378.23\n",
      "For  0.12  percentage:\n",
      "First quartile:  152.01 \tSecond quartile:  325.69 \tThird quartile:  638.19\n",
      "For  0.15  percentage:\n",
      "First quartile:  149.65 \tSecond quartile:  374.99 \tThird quartile:  874.77\n",
      "For  0.2  percentage:\n",
      "First quartile:  119.2 \tSecond quartile:  417.87 \tThird quartile:  1272.15\n"
     ]
    }
   ],
   "source": [
    "for i in range(len(PERCENTAGE_MONEY)):\n",
    "    portfolio_history = portfolio_history[portfolio_history[:,i].argsort()]\n",
    "    q25 = round(portfolio_history[int(NUMBER_OF_TESTS*1/4)][i], 2)\n",
    "    q50 = round(portfolio_history[int(NUMBER_OF_TESTS*1/2)][i], 2)\n",
    "    q75 = round(portfolio_history[int(NUMBER_OF_TESTS*3/4)][i], 2)\n",
    "    print('For ', PERCENTAGE_MONEY[i], ' percentage:')\n",
    "    print('First quartile: ', q25, '\\tSecond quartile: ', q50, '\\tThird quartile: ', q75)"
   ]
  }
 ],
 "metadata": {
  "kernelspec": {
   "display_name": "Python 3",
   "language": "python",
   "name": "python3"
  },
  "language_info": {
   "codemirror_mode": {
    "name": "ipython",
    "version": 3
   },
   "file_extension": ".py",
   "mimetype": "text/x-python",
   "name": "python",
   "nbconvert_exporter": "python",
   "pygments_lexer": "ipython3",
   "version": "3.10.11"
  }
 },
 "nbformat": 4,
 "nbformat_minor": 2
}
