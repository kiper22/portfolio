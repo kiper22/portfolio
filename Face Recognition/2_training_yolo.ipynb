{
 "cells": [
  {
   "attachments": {},
   "cell_type": "markdown",
   "metadata": {},
   "source": [
    "## Yolo training"
   ]
  },
  {
   "cell_type": "code",
   "execution_count": null,
   "metadata": {},
   "outputs": [],
   "source": [
    "from ultralytics import YOLO\n",
    "model = YOLO('C:\\Projekty\\PracaInz\\Models\\yolov8n.pt') # nodel download from https://github.com/ultralytics/ultralytics?tab=readme-ov-file\n",
    "YOLO.amp = False\n",
    "model.train(data=r'C:\\Projekty\\PracaInz\\Data\\Datasets\\CFPW_dataset_manual\\data.yaml', \n",
    "            epochs=200, \n",
    "            save_period=1, \n",
    "            amp=False, \n",
    "            patience=10,\n",
    "            optimizer='SGD',\n",
    "            mosaic=1,\n",
    "            lr0=0.002,\n",
    "            degrees=10\n",
    "            )"
   ]
  },
  {
   "cell_type": "markdown",
   "metadata": {},
   "source": [
    "continue training model"
   ]
  },
  {
   "cell_type": "code",
   "execution_count": null,
   "metadata": {},
   "outputs": [],
   "source": [
    "from ultralytics import YOLO\n",
    "# Load a model\n",
    "model = YOLO(r\"\\runs\\detect\\train3\\weights\\last.pt\")  # load a partially trained model\n",
    "\n",
    "# Resume training\n",
    "results = model.train(resume=True)"
   ]
  }
 ],
 "metadata": {
  "kernelspec": {
   "display_name": "Python 3",
   "language": "python",
   "name": "python3"
  },
  "language_info": {
   "codemirror_mode": {
    "name": "ipython",
    "version": 3
   },
   "file_extension": ".py",
   "mimetype": "text/x-python",
   "name": "python",
   "nbconvert_exporter": "python",
   "pygments_lexer": "ipython3",
   "version": "3.10.11"
  },
  "orig_nbformat": 4
 },
 "nbformat": 4,
 "nbformat_minor": 2
}
