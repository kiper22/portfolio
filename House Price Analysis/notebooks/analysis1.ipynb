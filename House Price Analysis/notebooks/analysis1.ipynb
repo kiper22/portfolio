{
 "cells": [
  {
   "cell_type": "markdown",
   "metadata": {},
   "source": [
    "# House price analysis\n",
    "\n",
    "Goal of the project is to predict house pirces\n",
    "\n",
    "source data: https://www.kaggle.com/datasets/joebeachcapital/house-prices-2001-2020/data\n",
    "\n",
    "Importing the libraries"
   ]
  },
  {
   "cell_type": "code",
   "execution_count": 1,
   "metadata": {},
   "outputs": [],
   "source": [
    "import pandas as pd\n",
    "import numpy as np\n",
    "import matplotlib.pyplot as plt \n",
    "import seaborn as sns"
   ]
  },
  {
   "cell_type": "markdown",
   "metadata": {},
   "source": [
    "## Reading the dataset as a dataframe"
   ]
  },
  {
   "cell_type": "code",
   "execution_count": 5,
   "metadata": {},
   "outputs": [
    {
     "name": "stderr",
     "output_type": "stream",
     "text": [
      "/tmp/ipykernel_4465/2799051608.py:1: DtypeWarning: Columns (8,9,10,11,12) have mixed types. Specify dtype option on import or set low_memory=False.\n",
      "  df = pd.read_csv(r'../data/input/Real_Estate_Sales_2001-2020_GL.csv')\n"
     ]
    },
    {
     "data": {
      "text/html": [
       "<div>\n",
       "<style scoped>\n",
       "    .dataframe tbody tr th:only-of-type {\n",
       "        vertical-align: middle;\n",
       "    }\n",
       "\n",
       "    .dataframe tbody tr th {\n",
       "        vertical-align: top;\n",
       "    }\n",
       "\n",
       "    .dataframe thead th {\n",
       "        text-align: right;\n",
       "    }\n",
       "</style>\n",
       "<table border=\"1\" class=\"dataframe\">\n",
       "  <thead>\n",
       "    <tr style=\"text-align: right;\">\n",
       "      <th></th>\n",
       "      <th>Serial Number</th>\n",
       "      <th>List Year</th>\n",
       "      <th>Date Recorded</th>\n",
       "      <th>Town</th>\n",
       "      <th>Address</th>\n",
       "      <th>Assessed Value</th>\n",
       "      <th>Sale Amount</th>\n",
       "      <th>Sales Ratio</th>\n",
       "      <th>Property Type</th>\n",
       "      <th>Residential Type</th>\n",
       "      <th>Non Use Code</th>\n",
       "      <th>Assessor Remarks</th>\n",
       "      <th>OPM remarks</th>\n",
       "      <th>Location</th>\n",
       "    </tr>\n",
       "  </thead>\n",
       "  <tbody>\n",
       "    <tr>\n",
       "      <th>0</th>\n",
       "      <td>2020177</td>\n",
       "      <td>2020</td>\n",
       "      <td>04/14/2021</td>\n",
       "      <td>Ansonia</td>\n",
       "      <td>323 BEAVER ST</td>\n",
       "      <td>133000.0</td>\n",
       "      <td>248400.0</td>\n",
       "      <td>0.5354</td>\n",
       "      <td>Residential</td>\n",
       "      <td>Single Family</td>\n",
       "      <td>NaN</td>\n",
       "      <td>NaN</td>\n",
       "      <td>NaN</td>\n",
       "      <td>POINT (-73.06822 41.35014)</td>\n",
       "    </tr>\n",
       "    <tr>\n",
       "      <th>1</th>\n",
       "      <td>2020225</td>\n",
       "      <td>2020</td>\n",
       "      <td>05/26/2021</td>\n",
       "      <td>Ansonia</td>\n",
       "      <td>152 JACKSON ST</td>\n",
       "      <td>110500.0</td>\n",
       "      <td>239900.0</td>\n",
       "      <td>0.4606</td>\n",
       "      <td>Residential</td>\n",
       "      <td>Three Family</td>\n",
       "      <td>NaN</td>\n",
       "      <td>NaN</td>\n",
       "      <td>NaN</td>\n",
       "      <td>NaN</td>\n",
       "    </tr>\n",
       "    <tr>\n",
       "      <th>2</th>\n",
       "      <td>2020348</td>\n",
       "      <td>2020</td>\n",
       "      <td>09/13/2021</td>\n",
       "      <td>Ansonia</td>\n",
       "      <td>230 WAKELEE AVE</td>\n",
       "      <td>150500.0</td>\n",
       "      <td>325000.0</td>\n",
       "      <td>0.4630</td>\n",
       "      <td>Commercial</td>\n",
       "      <td>NaN</td>\n",
       "      <td>NaN</td>\n",
       "      <td>NaN</td>\n",
       "      <td>NaN</td>\n",
       "      <td>NaN</td>\n",
       "    </tr>\n",
       "    <tr>\n",
       "      <th>3</th>\n",
       "      <td>2020090</td>\n",
       "      <td>2020</td>\n",
       "      <td>12/14/2020</td>\n",
       "      <td>Ansonia</td>\n",
       "      <td>57 PLATT ST</td>\n",
       "      <td>127400.0</td>\n",
       "      <td>202500.0</td>\n",
       "      <td>0.6291</td>\n",
       "      <td>Residential</td>\n",
       "      <td>Two Family</td>\n",
       "      <td>NaN</td>\n",
       "      <td>NaN</td>\n",
       "      <td>NaN</td>\n",
       "      <td>NaN</td>\n",
       "    </tr>\n",
       "    <tr>\n",
       "      <th>4</th>\n",
       "      <td>200500</td>\n",
       "      <td>2020</td>\n",
       "      <td>09/07/2021</td>\n",
       "      <td>Avon</td>\n",
       "      <td>245 NEW ROAD</td>\n",
       "      <td>217640.0</td>\n",
       "      <td>400000.0</td>\n",
       "      <td>0.5441</td>\n",
       "      <td>Residential</td>\n",
       "      <td>Single Family</td>\n",
       "      <td>NaN</td>\n",
       "      <td>NaN</td>\n",
       "      <td>NaN</td>\n",
       "      <td>NaN</td>\n",
       "    </tr>\n",
       "  </tbody>\n",
       "</table>\n",
       "</div>"
      ],
      "text/plain": [
       "   Serial Number  List Year Date Recorded     Town          Address  \\\n",
       "0        2020177       2020    04/14/2021  Ansonia    323 BEAVER ST   \n",
       "1        2020225       2020    05/26/2021  Ansonia   152 JACKSON ST   \n",
       "2        2020348       2020    09/13/2021  Ansonia  230 WAKELEE AVE   \n",
       "3        2020090       2020    12/14/2020  Ansonia      57 PLATT ST   \n",
       "4         200500       2020    09/07/2021     Avon     245 NEW ROAD   \n",
       "\n",
       "   Assessed Value  Sale Amount  Sales Ratio Property Type Residential Type  \\\n",
       "0        133000.0     248400.0       0.5354   Residential    Single Family   \n",
       "1        110500.0     239900.0       0.4606   Residential     Three Family   \n",
       "2        150500.0     325000.0       0.4630    Commercial              NaN   \n",
       "3        127400.0     202500.0       0.6291   Residential       Two Family   \n",
       "4        217640.0     400000.0       0.5441   Residential    Single Family   \n",
       "\n",
       "  Non Use Code Assessor Remarks OPM remarks                    Location  \n",
       "0          NaN              NaN         NaN  POINT (-73.06822 41.35014)  \n",
       "1          NaN              NaN         NaN                         NaN  \n",
       "2          NaN              NaN         NaN                         NaN  \n",
       "3          NaN              NaN         NaN                         NaN  \n",
       "4          NaN              NaN         NaN                         NaN  "
      ]
     },
     "execution_count": 5,
     "metadata": {},
     "output_type": "execute_result"
    }
   ],
   "source": [
    "df = pd.read_csv(r'../data/input/Real_Estate_Sales_2001-2020_GL.csv')\n",
    "df.head()"
   ]
  },
  {
   "cell_type": "markdown",
   "metadata": {},
   "source": [
    "## Discovering the dataset"
   ]
  },
  {
   "cell_type": "code",
   "execution_count": 6,
   "metadata": {},
   "outputs": [
    {
     "name": "stdout",
     "output_type": "stream",
     "text": [
      "dataset size:  13960982\n",
      "number of rows:  997213\n",
      "number of features:  14\n"
     ]
    }
   ],
   "source": [
    "print(\"dataset size: \", df.size)\n",
    "\n",
    "print(\"number of rows: \", len(df))\n",
    "\n",
    "print(\"number of features: \", len(df.columns)) "
   ]
  },
  {
   "cell_type": "code",
   "execution_count": 7,
   "metadata": {},
   "outputs": [
    {
     "name": "stdout",
     "output_type": "stream",
     "text": [
      "<class 'pandas.core.frame.DataFrame'>\n",
      "RangeIndex: 997213 entries, 0 to 997212\n",
      "Data columns (total 14 columns):\n",
      " #   Column            Non-Null Count   Dtype  \n",
      "---  ------            --------------   -----  \n",
      " 0   Serial Number     997213 non-null  int64  \n",
      " 1   List Year         997213 non-null  int64  \n",
      " 2   Date Recorded     997211 non-null  object \n",
      " 3   Town              997213 non-null  object \n",
      " 4   Address           997162 non-null  object \n",
      " 5   Assessed Value    997213 non-null  float64\n",
      " 6   Sale Amount       997213 non-null  float64\n",
      " 7   Sales Ratio       997213 non-null  float64\n",
      " 8   Property Type     614767 non-null  object \n",
      " 9   Residential Type  608904 non-null  object \n",
      " 10  Non Use Code      289681 non-null  object \n",
      " 11  Assessor Remarks  149864 non-null  object \n",
      " 12  OPM remarks       9934 non-null    object \n",
      " 13  Location          197697 non-null  object \n",
      "dtypes: float64(3), int64(2), object(9)\n",
      "memory usage: 106.5+ MB\n"
     ]
    }
   ],
   "source": [
    "df.info()"
   ]
  },
  {
   "cell_type": "code",
   "execution_count": 8,
   "metadata": {},
   "outputs": [
    {
     "data": {
      "text/html": [
       "<div>\n",
       "<style scoped>\n",
       "    .dataframe tbody tr th:only-of-type {\n",
       "        vertical-align: middle;\n",
       "    }\n",
       "\n",
       "    .dataframe tbody tr th {\n",
       "        vertical-align: top;\n",
       "    }\n",
       "\n",
       "    .dataframe thead th {\n",
       "        text-align: right;\n",
       "    }\n",
       "</style>\n",
       "<table border=\"1\" class=\"dataframe\">\n",
       "  <thead>\n",
       "    <tr style=\"text-align: right;\">\n",
       "      <th></th>\n",
       "      <th>Serial Number</th>\n",
       "      <th>List Year</th>\n",
       "      <th>Assessed Value</th>\n",
       "      <th>Sale Amount</th>\n",
       "      <th>Sales Ratio</th>\n",
       "    </tr>\n",
       "  </thead>\n",
       "  <tbody>\n",
       "    <tr>\n",
       "      <th>count</th>\n",
       "      <td>9.972130e+05</td>\n",
       "      <td>997213.000000</td>\n",
       "      <td>9.972130e+05</td>\n",
       "      <td>9.972130e+05</td>\n",
       "      <td>9.972130e+05</td>\n",
       "    </tr>\n",
       "    <tr>\n",
       "      <th>mean</th>\n",
       "      <td>4.311864e+05</td>\n",
       "      <td>2010.189829</td>\n",
       "      <td>2.791437e+05</td>\n",
       "      <td>3.911512e+05</td>\n",
       "      <td>1.044637e+01</td>\n",
       "    </tr>\n",
       "    <tr>\n",
       "      <th>std</th>\n",
       "      <td>6.549219e+06</td>\n",
       "      <td>6.237877</td>\n",
       "      <td>1.670610e+06</td>\n",
       "      <td>5.347270e+06</td>\n",
       "      <td>1.890192e+03</td>\n",
       "    </tr>\n",
       "    <tr>\n",
       "      <th>min</th>\n",
       "      <td>0.000000e+00</td>\n",
       "      <td>2001.000000</td>\n",
       "      <td>0.000000e+00</td>\n",
       "      <td>0.000000e+00</td>\n",
       "      <td>0.000000e+00</td>\n",
       "    </tr>\n",
       "    <tr>\n",
       "      <th>25%</th>\n",
       "      <td>3.044400e+04</td>\n",
       "      <td>2004.000000</td>\n",
       "      <td>8.760000e+04</td>\n",
       "      <td>1.400000e+05</td>\n",
       "      <td>4.867000e-01</td>\n",
       "    </tr>\n",
       "    <tr>\n",
       "      <th>50%</th>\n",
       "      <td>7.030300e+04</td>\n",
       "      <td>2010.000000</td>\n",
       "      <td>1.383900e+05</td>\n",
       "      <td>2.250000e+05</td>\n",
       "      <td>6.246000e-01</td>\n",
       "    </tr>\n",
       "    <tr>\n",
       "      <th>75%</th>\n",
       "      <td>1.518780e+05</td>\n",
       "      <td>2016.000000</td>\n",
       "      <td>2.255600e+05</td>\n",
       "      <td>3.650000e+05</td>\n",
       "      <td>7.852761e-01</td>\n",
       "    </tr>\n",
       "    <tr>\n",
       "      <th>max</th>\n",
       "      <td>2.000500e+09</td>\n",
       "      <td>2020.000000</td>\n",
       "      <td>8.815100e+08</td>\n",
       "      <td>5.000000e+09</td>\n",
       "      <td>1.226420e+06</td>\n",
       "    </tr>\n",
       "  </tbody>\n",
       "</table>\n",
       "</div>"
      ],
      "text/plain": [
       "       Serial Number      List Year  Assessed Value   Sale Amount  \\\n",
       "count   9.972130e+05  997213.000000    9.972130e+05  9.972130e+05   \n",
       "mean    4.311864e+05    2010.189829    2.791437e+05  3.911512e+05   \n",
       "std     6.549219e+06       6.237877    1.670610e+06  5.347270e+06   \n",
       "min     0.000000e+00    2001.000000    0.000000e+00  0.000000e+00   \n",
       "25%     3.044400e+04    2004.000000    8.760000e+04  1.400000e+05   \n",
       "50%     7.030300e+04    2010.000000    1.383900e+05  2.250000e+05   \n",
       "75%     1.518780e+05    2016.000000    2.255600e+05  3.650000e+05   \n",
       "max     2.000500e+09    2020.000000    8.815100e+08  5.000000e+09   \n",
       "\n",
       "        Sales Ratio  \n",
       "count  9.972130e+05  \n",
       "mean   1.044637e+01  \n",
       "std    1.890192e+03  \n",
       "min    0.000000e+00  \n",
       "25%    4.867000e-01  \n",
       "50%    6.246000e-01  \n",
       "75%    7.852761e-01  \n",
       "max    1.226420e+06  "
      ]
     },
     "execution_count": 8,
     "metadata": {},
     "output_type": "execute_result"
    }
   ],
   "source": [
    "df.describe()"
   ]
  },
  {
   "cell_type": "markdown",
   "metadata": {},
   "source": [
    "From the above information we can see that there are quite high deviations in the estimated value, sales value and sales ratio in the set. We will need to look at these values ​​later"
   ]
  },
  {
   "cell_type": "code",
   "execution_count": 9,
   "metadata": {},
   "outputs": [
    {
     "data": {
      "text/plain": [
       "array(['Residential', 'Commercial', 'Vacant Land', 'Public Utility',\n",
       "       'Apartments', nan, 'Industrial', 'Condo', 'Two Family',\n",
       "       'Single Family', 'Three Family', 'Four Family'], dtype=object)"
      ]
     },
     "execution_count": 9,
     "metadata": {},
     "output_type": "execute_result"
    }
   ],
   "source": [
    "df['Property Type'].unique()"
   ]
  },
  {
   "cell_type": "code",
   "execution_count": 10,
   "metadata": {},
   "outputs": [
    {
     "data": {
      "text/plain": [
       "array(['Single Family', 'Three Family', nan, 'Two Family', 'Condo',\n",
       "       'Four Family'], dtype=object)"
      ]
     },
     "execution_count": 10,
     "metadata": {},
     "output_type": "execute_result"
    }
   ],
   "source": [
    "df['Residential Type'].unique()"
   ]
  },
  {
   "cell_type": "code",
   "execution_count": 11,
   "metadata": {},
   "outputs": [
    {
     "data": {
      "text/plain": [
       "170"
      ]
     },
     "execution_count": 11,
     "metadata": {},
     "output_type": "execute_result"
    }
   ],
   "source": [
    "len(df['Town'].unique())"
   ]
  },
  {
   "cell_type": "code",
   "execution_count": 12,
   "metadata": {},
   "outputs": [
    {
     "data": {
      "text/plain": [
       "array(['Ansonia', 'Avon', 'Barkhamsted', 'Beacon Falls', 'Berlin',\n",
       "       'Bethel', 'Bethlehem', 'Bolton', 'Branford', 'Bristol',\n",
       "       'Brookfield', 'Burlington', 'Canton', 'Cheshire', 'Colchester',\n",
       "       'Coventry', 'Cromwell', 'Danbury', 'Darien', 'Derby',\n",
       "       'East Granby', 'East Haddam', 'East Hartford', 'East Haven',\n",
       "       'East Lyme', 'Easton', 'East Windsor', 'Enfield', 'Essex',\n",
       "       'Farmington', 'Franklin', 'Glastonbury', 'Goshen', 'Granby',\n",
       "       'Greenwich', 'Griswold', 'Groton', 'Guilford', 'Hartford',\n",
       "       'Harwinton', 'Killingly', 'Killingworth', 'Lebanon', 'Lisbon',\n",
       "       'Litchfield', 'Madison', 'Manchester', 'Mansfield', 'Meriden',\n",
       "       'Middlebury', 'Middletown', 'Milford', 'Monroe', 'Montville',\n",
       "       'Naugatuck', 'New Britain', 'New Canaan', 'New Fairfield',\n",
       "       'New Haven', 'New London', 'Newtown', 'North Canaan',\n",
       "       'North Haven', 'Norwalk', 'Norwich', 'Old Lyme', 'Old Saybrook',\n",
       "       'Orange', 'Plainfield', 'Plainville', 'Plymouth', 'Portland',\n",
       "       'Preston', 'Putnam', 'Rocky Hill', 'Salem', 'Sharon', 'Shelton',\n",
       "       'Simsbury', 'Southbury', 'South Windsor', 'Stamford', 'Stonington',\n",
       "       'Stratford', 'Suffield', 'Thomaston', 'Thompson', 'Tolland',\n",
       "       'Torrington', 'Trumbull', 'Vernon', 'Washington', 'Waterbury',\n",
       "       'Waterford', 'Watertown', 'Westbrook', 'West Hartford', 'Hampton',\n",
       "       'Wethersfield', 'Willington', 'Wilton', 'Winchester', 'Ashford',\n",
       "       'Windham', 'Windsor Locks', 'Wolcott', 'Woodbridge', 'Woodstock',\n",
       "       'Lyme', 'Colebrook', 'Bozrah', 'Bloomfield', 'Bridgeport',\n",
       "       'Bethany', 'Columbia', 'Bridgewater', 'Kent', 'Hebron', 'Eastford',\n",
       "       'Cornwall', 'Chaplin', 'Canaan', 'Andover', 'Chester', 'Hamden',\n",
       "       'Clinton', 'East Hampton', 'Hartland', 'Deep River', 'Brooklyn',\n",
       "       'Ridgefield', 'Redding', 'Middlefield', 'Morris', 'New Hartford',\n",
       "       'Sherman', 'Norfolk', 'Scotland', 'Sprague', 'Roxbury', 'Sterling',\n",
       "       'Somers', 'Newington', 'Windsor', 'Weston', 'Warren', 'Woodbury',\n",
       "       'Wallingford', 'Union', 'Ellington', 'Canterbury', 'Stafford',\n",
       "       'Pomfret', 'West Haven', 'Westport', 'Ledyard', 'Oxford',\n",
       "       'Southington', 'New Milford', 'Voluntown', 'Fairfield', 'Durham',\n",
       "       'Seymour', 'Salisbury', 'Marlborough', 'Haddam', 'Prospect',\n",
       "       'North Branford', 'North Stonington', '***Unknown***'],\n",
       "      dtype=object)"
      ]
     },
     "execution_count": 12,
     "metadata": {},
     "output_type": "execute_result"
    }
   ],
   "source": [
    "df['Town'].unique()"
   ]
  },
  {
   "cell_type": "markdown",
   "metadata": {},
   "source": [
    "We can see there is quite a lot of towns, we will need handle them later"
   ]
  },
  {
   "cell_type": "markdown",
   "metadata": {},
   "source": [
    "## Looking for duplicates"
   ]
  },
  {
   "cell_type": "code",
   "execution_count": 13,
   "metadata": {},
   "outputs": [
    {
     "data": {
      "text/html": [
       "<div>\n",
       "<style scoped>\n",
       "    .dataframe tbody tr th:only-of-type {\n",
       "        vertical-align: middle;\n",
       "    }\n",
       "\n",
       "    .dataframe tbody tr th {\n",
       "        vertical-align: top;\n",
       "    }\n",
       "\n",
       "    .dataframe thead th {\n",
       "        text-align: right;\n",
       "    }\n",
       "</style>\n",
       "<table border=\"1\" class=\"dataframe\">\n",
       "  <thead>\n",
       "    <tr style=\"text-align: right;\">\n",
       "      <th></th>\n",
       "      <th>Serial Number</th>\n",
       "      <th>List Year</th>\n",
       "      <th>Date Recorded</th>\n",
       "      <th>Town</th>\n",
       "      <th>Address</th>\n",
       "      <th>Assessed Value</th>\n",
       "      <th>Sale Amount</th>\n",
       "      <th>Sales Ratio</th>\n",
       "      <th>Property Type</th>\n",
       "      <th>Residential Type</th>\n",
       "      <th>Non Use Code</th>\n",
       "      <th>Assessor Remarks</th>\n",
       "      <th>OPM remarks</th>\n",
       "      <th>Location</th>\n",
       "    </tr>\n",
       "  </thead>\n",
       "  <tbody>\n",
       "  </tbody>\n",
       "</table>\n",
       "</div>"
      ],
      "text/plain": [
       "Empty DataFrame\n",
       "Columns: [Serial Number, List Year, Date Recorded, Town, Address, Assessed Value, Sale Amount, Sales Ratio, Property Type, Residential Type, Non Use Code, Assessor Remarks, OPM remarks, Location]\n",
       "Index: []"
      ]
     },
     "execution_count": 13,
     "metadata": {},
     "output_type": "execute_result"
    }
   ],
   "source": [
    "duplicate_rows = df[df.duplicated(keep='first')]\n",
    "duplicate_rows"
   ]
  },
  {
   "cell_type": "code",
   "execution_count": 15,
   "metadata": {},
   "outputs": [
    {
     "data": {
      "text/plain": [
       "(0, 14)"
      ]
     },
     "execution_count": 15,
     "metadata": {},
     "output_type": "execute_result"
    }
   ],
   "source": [
    "duplicate_rows.shape"
   ]
  },
  {
   "cell_type": "markdown",
   "metadata": {},
   "source": [
    "There are no duplicates, so there is no need to deal with them"
   ]
  },
  {
   "cell_type": "markdown",
   "metadata": {},
   "source": [
    "## Looking for outliers\n",
    "Outliers are values that confound the prediction.\n",
    "\n",
    "**Example**:\n",
    "The estimated value of a house was $100 because it was dilapidated in a bad neighborhood and was purchased for $12.000. Because of that we have sales ratio equal to 120, very low assessed value and quite low sale amount compared to the dataset. There are cases where house was saled for $5 000.000.000 while mean vale of house is $390.000. Some models can generalize this fact.\n",
    "\n",
    "Sometimes a given feature  (e.g. being a nobel prize winner in physis) is so rare that we don't have enough observations that have it for the model to draw conclusion from it. Sometimes we can decide to combine such small subpopulations, especially if we suspect that they don't show significant differences. However in our case we can drop outliers."
   ]
  },
  {
   "cell_type": "code",
   "execution_count": 14,
   "metadata": {},
   "outputs": [
    {
     "data": {
      "text/plain": [
       "<Axes: title={'center': 'Sales per year'}, xlabel='List Year'>"
      ]
     },
     "execution_count": 14,
     "metadata": {},
     "output_type": "execute_result"
    },
    {
     "data": {
      "image/png": "[encoded data removed]",
      "text/plain": [
       "<Figure size 640x480 with 1 Axes>"
      ]
     },
     "metadata": {},
     "output_type": "display_data"
    }
   ],
   "source": [
    "df['List Year'].value_counts().sort_index().plot(kind='bar',\n",
    "                                            label='Year',\n",
    "                                            title='Sales per year')"
   ]
  },
  {
   "cell_type": "code",
   "execution_count": 22,
   "metadata": {},
   "outputs": [
    {
     "data": {
      "image/png": "[encoded data removed]",
      "text/plain": [
       "<Figure size 1600x400 with 1 Axes>"
      ]
     },
     "metadata": {},
     "output_type": "display_data"
    }
   ],
   "source": [
    "plt.figure(figsize=(16,4))\n",
    "sns.histplot(data=df, x='Assessed Value', bins=500)\n",
    "# plt.yscale('log')\n",
    "# plt.xscale('log')\n",
    "plt.ylabel('Count')\n",
    "plt.title('Assessed Value')\n",
    "plt.show()"
   ]
  },
  {
   "cell_type": "code",
   "execution_count": 14,
   "metadata": {},
   "outputs": [
    {
     "name": "stdout",
     "output_type": "stream",
     "text": [
      "Assessed value, quantile 0.05 30450.0\n",
      "Assessed value, quantile 0.95 660590.0\n"
     ]
    }
   ],
   "source": [
    "print('Assessed value, quantile 0.05', df['Assessed Value'].quantile(.05))\n",
    "print('Assessed value, quantile 0.95', df['Assessed Value'].quantile(.95))"
   ]
  },
  {
   "cell_type": "code",
   "execution_count": 23,
   "metadata": {},
   "outputs": [
    {
     "data": {
      "image/png": "[encoded data removed]",
      "text/plain": [
       "<Figure size 1600x400 with 1 Axes>"
      ]
     },
     "metadata": {},
     "output_type": "display_data"
    }
   ],
   "source": [
    "plt.figure(figsize=(16,4))\n",
    "sns.histplot(data=df, x='Sale Amount', bins=100)\n",
    "# plt.yscale('log')\n",
    "plt.ylabel('Count')\n",
    "plt.title('Sale Amount')\n",
    "plt.show()"
   ]
  },
  {
   "cell_type": "code",
   "execution_count": 16,
   "metadata": {},
   "outputs": [
    {
     "name": "stdout",
     "output_type": "stream",
     "text": [
      "Sale Amount, quantile 0.05 44305.40000000005\n",
      "Sale Amount, quantile 0.95 975000.0\n"
     ]
    }
   ],
   "source": [
    "df.loc[df['Sale Amount']>1E7].shape\n",
    "print('Sale Amount, quantile 0.05', df['Sale Amount'].quantile(.05))\n",
    "print('Sale Amount, quantile 0.95', df['Sale Amount'].quantile(.95))"
   ]
  },
  {
   "cell_type": "code",
   "execution_count": 24,
   "metadata": {},
   "outputs": [
    {
     "data": {
      "image/png": "[encoded data removed]",
      "text/plain": [
       "<Figure size 1600x400 with 1 Axes>"
      ]
     },
     "metadata": {},
     "output_type": "display_data"
    }
   ],
   "source": [
    "plt.figure(figsize=(16,4))\n",
    "sns.histplot(data=df, x='Sales Ratio', bins=20)\n",
    "# plt.yscale('log')\n",
    "plt.ylabel('Count')\n",
    "plt.title('Sales Ratio = Assessed Value / Sale Amount')\n",
    "plt.show()"
   ]
  },
  {
   "cell_type": "code",
   "execution_count": 18,
   "metadata": {},
   "outputs": [
    {
     "name": "stdout",
     "output_type": "stream",
     "text": [
      "Sales Ratio, quantile 0.05 0.2716\n",
      "Sales Ratio, quantile 0.95 1.686741677599995\n"
     ]
    }
   ],
   "source": [
    "print('Sales Ratio, quantile 0.05', df['Sales Ratio'].quantile(.05))\n",
    "print('Sales Ratio, quantile 0.95', df['Sales Ratio'].quantile(.95))"
   ]
  },
  {
   "cell_type": "markdown",
   "metadata": {},
   "source": [
    "Having informations about outliers we can remove those records from the dataset. On the other hand we also can try to group them with mask function and compare final results.\n",
    "\n",
    "After that we can run again previous code (plots)."
   ]
  },
  {
   "cell_type": "code",
   "execution_count": 15,
   "metadata": {},
   "outputs": [],
   "source": [
    "# # Grouping small groups\n",
    "# df['Assessed Value'] = df['Assessed Value'].mask(df['Assessed Value'] > 1E7, 1E7)\n",
    "# df['Assessed Value'] = df['Assessed Value'].mask(df['Assessed Value'] < 1E4, 1E4)\n",
    "\n",
    "# df['Sale Amount'] = df['Sale Amount'].mask(df['Sale Amount'] > 1E7, 1E7)\n",
    "# df['Sale Amount'] = df['Sale Amount'].mask(df['Sale Amount'] < 1E4, 1E4)\n",
    "\n",
    "# df['Sales Ratio'] = df['Assessed Value'] / df['Sale Amount']\n",
    "\n",
    "# Removing outliers\n",
    "df = df.loc[(df['Assessed Value']>df['Assessed Value'].quantile(.05)) & (df['Assessed Value']<df['Assessed Value'].quantile(.95))]\n",
    "df = df.loc[(df['Sale Amount']>df['Sale Amount'].quantile(.05)) & (df['Sale Amount']<df['Sale Amount'].quantile(.95))]\n",
    "df = df.loc[(df['Sales Ratio']>df['Sales Ratio'].quantile(.05)) & (df['Sales Ratio']<df['Sales Ratio'].quantile(.95))]\n"
   ]
  },
  {
   "cell_type": "code",
   "execution_count": 20,
   "metadata": {},
   "outputs": [
    {
     "data": {
      "text/plain": [
       "(724799, 14)"
      ]
     },
     "execution_count": 20,
     "metadata": {},
     "output_type": "execute_result"
    }
   ],
   "source": [
    "df.shape"
   ]
  },
  {
   "cell_type": "code",
   "execution_count": 25,
   "metadata": {},
   "outputs": [
    {
     "data": {
      "image/png": "[encoded data removed]",
      "text/plain": [
       "<Figure size 1600x400 with 1 Axes>"
      ]
     },
     "metadata": {},
     "output_type": "display_data"
    }
   ],
   "source": [
    "plt.figure(figsize=(16,4))\n",
    "sns.histplot(data=df, x='Property Type')\n",
    "plt.ylabel('Count')\n",
    "plt.title('Property Type')\n",
    "plt.show()"
   ]
  },
  {
   "cell_type": "code",
   "execution_count": 26,
   "metadata": {},
   "outputs": [
    {
     "data": {
      "image/png": "[encoded data removed]",
      "text/plain": [
       "<Figure size 1600x400 with 1 Axes>"
      ]
     },
     "metadata": {},
     "output_type": "display_data"
    }
   ],
   "source": [
    "plt.figure(figsize=(16,4))\n",
    "sns.histplot(data=df, x='Residential Type')\n",
    "plt.ylabel('Count')\n",
    "plt.title('Residential Type')\n",
    "plt.show()"
   ]
  },
  {
   "cell_type": "markdown",
   "metadata": {},
   "source": [
    "## Looking for NA values & removing/adding columns"
   ]
  },
  {
   "cell_type": "code",
   "execution_count": 18,
   "metadata": {},
   "outputs": [
    {
     "data": {
      "text/plain": [
       "Serial Number            0\n",
       "List Year                0\n",
       "Date Recorded            0\n",
       "Town                     0\n",
       "Address                  7\n",
       "Assessed Value           0\n",
       "Sale Amount              0\n",
       "Sales Ratio              0\n",
       "Property Type       251774\n",
       "Residential Type    254216\n",
       "Non Use Code        588516\n",
       "Assessor Remarks    638554\n",
       "OPM remarks         717983\n",
       "Location            579088\n",
       "dtype: int64"
      ]
     },
     "execution_count": 18,
     "metadata": {},
     "output_type": "execute_result"
    }
   ],
   "source": [
    "column_missing_values = df.isna().sum()\n",
    "column_missing_values"
   ]
  },
  {
   "cell_type": "markdown",
   "metadata": {},
   "source": [
    "[Non Use Code, Assessor Remarks, OPM remarks, Location] Columns mainly have NA values - above 70%. For this reason, they will not taken into account later in the project. Also we will drop rows where [Address] == NA. Dropping few rows won't affect the quality of the final solution. About rows where [Property Type, Residential Type] are NA, will be checked with and without these rows and including/excluding these columns. Moreover we should group residential/property type, because we have mainly 2 types each."
   ]
  },
  {
   "cell_type": "code",
   "execution_count": 16,
   "metadata": {},
   "outputs": [
    {
     "data": {
      "text/plain": [
       "Serial Number            0\n",
       "List Year                0\n",
       "Town                     0\n",
       "Address                  0\n",
       "Assessed Value           0\n",
       "Sale Amount              0\n",
       "Sales Ratio              0\n",
       "Property Type       251770\n",
       "Residential Type    254212\n",
       "Month Recorded           0\n",
       "Day Recorded             0\n",
       "Year Recorded            0\n",
       "dtype: int64"
      ]
     },
     "execution_count": 16,
     "metadata": {},
     "output_type": "execute_result"
    }
   ],
   "source": [
    "df[['Month Recorded', 'Day Recorded', 'Year Recorded']] = df['Date Recorded'].str.split('/', expand=True)\n",
    "\n",
    "df['Day Recorded'] = df['Day Recorded'].astype(int)\n",
    "df['Month Recorded'] = df['Month Recorded'].astype(int)\n",
    "df['Year Recorded'] = df['Year Recorded'].astype(int)\n",
    "\n",
    "columns_to_drop = ['Non Use Code', 'Assessor Remarks', 'OPM remarks', 'Location', 'Date Recorded']\n",
    "\n",
    "df_dropped = df.drop(columns=columns_to_drop)\n",
    "df_dropped = df_dropped.dropna(subset=['Address'])\n",
    "\n",
    "df_dropped.isna().sum()"
   ]
  },
  {
   "cell_type": "code",
   "execution_count": 20,
   "metadata": {},
   "outputs": [
    {
     "data": {
      "text/html": [
       "<div>\n",
       "<style scoped>\n",
       "    .dataframe tbody tr th:only-of-type {\n",
       "        vertical-align: middle;\n",
       "    }\n",
       "\n",
       "    .dataframe tbody tr th {\n",
       "        vertical-align: top;\n",
       "    }\n",
       "\n",
       "    .dataframe thead th {\n",
       "        text-align: right;\n",
       "    }\n",
       "</style>\n",
       "<table border=\"1\" class=\"dataframe\">\n",
       "  <thead>\n",
       "    <tr style=\"text-align: right;\">\n",
       "      <th></th>\n",
       "      <th>Serial Number</th>\n",
       "      <th>List Year</th>\n",
       "      <th>Town</th>\n",
       "      <th>Address</th>\n",
       "      <th>Assessed Value</th>\n",
       "      <th>Sale Amount</th>\n",
       "      <th>Sales Ratio</th>\n",
       "      <th>Property Type</th>\n",
       "      <th>Residential Type</th>\n",
       "      <th>Month Recorded</th>\n",
       "      <th>Day Recorded</th>\n",
       "      <th>Year Recorded</th>\n",
       "    </tr>\n",
       "  </thead>\n",
       "  <tbody>\n",
       "    <tr>\n",
       "      <th>997205</th>\n",
       "      <td>190161</td>\n",
       "      <td>2019</td>\n",
       "      <td>Newington</td>\n",
       "      <td>22 ROCKLEDGE DR</td>\n",
       "      <td>306000.0</td>\n",
       "      <td>456000.0</td>\n",
       "      <td>0.6711</td>\n",
       "      <td>Single Family</td>\n",
       "      <td>Single Family</td>\n",
       "      <td>3</td>\n",
       "      <td>2</td>\n",
       "      <td>2020</td>\n",
       "    </tr>\n",
       "    <tr>\n",
       "      <th>997206</th>\n",
       "      <td>19921</td>\n",
       "      <td>2019</td>\n",
       "      <td>West Haven</td>\n",
       "      <td>75 CLOVER ST</td>\n",
       "      <td>125230.0</td>\n",
       "      <td>246000.0</td>\n",
       "      <td>0.5091</td>\n",
       "      <td>Single Family</td>\n",
       "      <td>Single Family</td>\n",
       "      <td>11</td>\n",
       "      <td>18</td>\n",
       "      <td>2019</td>\n",
       "    </tr>\n",
       "    <tr>\n",
       "      <th>997209</th>\n",
       "      <td>190284</td>\n",
       "      <td>2019</td>\n",
       "      <td>Waterbury</td>\n",
       "      <td>126 PERKINS AVE</td>\n",
       "      <td>68280.0</td>\n",
       "      <td>76000.0</td>\n",
       "      <td>0.8984</td>\n",
       "      <td>Single Family</td>\n",
       "      <td>Single Family</td>\n",
       "      <td>11</td>\n",
       "      <td>27</td>\n",
       "      <td>2019</td>\n",
       "    </tr>\n",
       "    <tr>\n",
       "      <th>997210</th>\n",
       "      <td>190129</td>\n",
       "      <td>2019</td>\n",
       "      <td>Windsor Locks</td>\n",
       "      <td>19 HATHAWAY ST</td>\n",
       "      <td>121450.0</td>\n",
       "      <td>210000.0</td>\n",
       "      <td>0.5783</td>\n",
       "      <td>Single Family</td>\n",
       "      <td>Single Family</td>\n",
       "      <td>4</td>\n",
       "      <td>27</td>\n",
       "      <td>2020</td>\n",
       "    </tr>\n",
       "    <tr>\n",
       "      <th>997211</th>\n",
       "      <td>190504</td>\n",
       "      <td>2019</td>\n",
       "      <td>Middletown</td>\n",
       "      <td>8 BYSTREK DR</td>\n",
       "      <td>203360.0</td>\n",
       "      <td>280000.0</td>\n",
       "      <td>0.7263</td>\n",
       "      <td>Single Family</td>\n",
       "      <td>Single Family</td>\n",
       "      <td>6</td>\n",
       "      <td>3</td>\n",
       "      <td>2020</td>\n",
       "    </tr>\n",
       "  </tbody>\n",
       "</table>\n",
       "</div>"
      ],
      "text/plain": [
       "        Serial Number  List Year           Town          Address  \\\n",
       "997205         190161       2019      Newington  22 ROCKLEDGE DR   \n",
       "997206          19921       2019     West Haven     75 CLOVER ST   \n",
       "997209         190284       2019      Waterbury  126 PERKINS AVE   \n",
       "997210         190129       2019  Windsor Locks   19 HATHAWAY ST   \n",
       "997211         190504       2019     Middletown     8 BYSTREK DR   \n",
       "\n",
       "        Assessed Value  Sale Amount  Sales Ratio  Property Type  \\\n",
       "997205        306000.0     456000.0       0.6711  Single Family   \n",
       "997206        125230.0     246000.0       0.5091  Single Family   \n",
       "997209         68280.0      76000.0       0.8984  Single Family   \n",
       "997210        121450.0     210000.0       0.5783  Single Family   \n",
       "997211        203360.0     280000.0       0.7263  Single Family   \n",
       "\n",
       "       Residential Type  Month Recorded  Day Recorded  Year Recorded  \n",
       "997205    Single Family               3             2           2020  \n",
       "997206    Single Family              11            18           2019  \n",
       "997209    Single Family              11            27           2019  \n",
       "997210    Single Family               4            27           2020  \n",
       "997211    Single Family               6             3           2020  "
      ]
     },
     "execution_count": 20,
     "metadata": {},
     "output_type": "execute_result"
    }
   ],
   "source": [
    "df_dropped.tail()"
   ]
  },
  {
   "cell_type": "code",
   "execution_count": 17,
   "metadata": {},
   "outputs": [
    {
     "name": "stdout",
     "output_type": "stream",
     "text": [
      "Property type:  ['Residential' 'Commercial' 'Vacant Land' 'Public Utility' 'Apartments'\n",
      " nan 'Industrial' 'Condo' 'Two Family' 'Single Family' 'Three Family'\n",
      " 'Four Family']\n",
      "Residential type:  ['Single Family' 'Three Family' nan 'Two Family' 'Condo' 'Four Family']\n"
     ]
    },
    {
     "data": {
      "text/plain": [
       "0.35073786686387265"
      ]
     },
     "execution_count": 17,
     "metadata": {},
     "output_type": "execute_result"
    }
   ],
   "source": [
    "df_dropped.loc[(df_dropped['Property Type'].isna()) & (df_dropped['Residential Type'].isna())].shape\n",
    "\n",
    "print('Property type: ', df_dropped['Property Type'].unique())\n",
    "\n",
    "print('Residential type: ', df_dropped['Residential Type'].unique())\n",
    "\n",
    "df_dropped['Residential Type'].isna().sum()/len(df_dropped)"
   ]
  },
  {
   "cell_type": "markdown",
   "metadata": {},
   "source": [
    "Still need to group property/residential type and handle nulls -> residential type (35.1%) and property type (34.7%). It's too much to remove. In that case we can change nulls to 'unknown' or think about advanced technique to fill missing values (e.g based on town, cost and propability of that type in this city or global)"
   ]
  },
  {
   "cell_type": "code",
   "execution_count": 18,
   "metadata": {},
   "outputs": [],
   "source": [
    "df_dropped['Property Type'] = np.where((df_dropped['Property Type'].notna()) & (df_dropped['Property Type'] != 'Single Family'), 'Other', df_dropped['Property Type'])\n",
    "df_dropped['Residential Type'] = np.where((df_dropped['Residential Type'].notna()) & (df_dropped['Residential Type'] != 'Single Family'), 'Other', df_dropped['Residential Type'])"
   ]
  },
  {
   "cell_type": "code",
   "execution_count": 19,
   "metadata": {},
   "outputs": [
    {
     "name": "stderr",
     "output_type": "stream",
     "text": [
      "/tmp/ipykernel_4465/1195654747.py:1: FutureWarning: A value is trying to be set on a copy of a DataFrame or Series through chained assignment using an inplace method.\n",
      "The behavior will change in pandas 3.0. This inplace method will never work because the intermediate object on which we are setting values always behaves as a copy.\n",
      "\n",
      "For example, when doing 'df[col].method(value, inplace=True)', try using 'df.method({col: value}, inplace=True)' or df[col] = df[col].method(value) instead, to perform the operation inplace on the original object.\n",
      "\n",
      "\n",
      "  df_dropped['Residential Type'].fillna('Unknown', inplace=True)\n",
      "/tmp/ipykernel_4465/1195654747.py:2: FutureWarning: A value is trying to be set on a copy of a DataFrame or Series through chained assignment using an inplace method.\n",
      "The behavior will change in pandas 3.0. This inplace method will never work because the intermediate object on which we are setting values always behaves as a copy.\n",
      "\n",
      "For example, when doing 'df[col].method(value, inplace=True)', try using 'df.method({col: value}, inplace=True)' or df[col] = df[col].method(value) instead, to perform the operation inplace on the original object.\n",
      "\n",
      "\n",
      "  df_dropped['Property Type'].fillna('Unknown', inplace=True)\n"
     ]
    }
   ],
   "source": [
    "df_dropped['Residential Type'].fillna('Unknown', inplace=True)\n",
    "df_dropped['Property Type'].fillna('Unknown', inplace=True)"
   ]
  },
  {
   "cell_type": "code",
   "execution_count": 24,
   "metadata": {},
   "outputs": [
    {
     "data": {
      "text/plain": [
       "Serial Number       0\n",
       "List Year           0\n",
       "Town                0\n",
       "Address             0\n",
       "Assessed Value      0\n",
       "Sale Amount         0\n",
       "Sales Ratio         0\n",
       "Property Type       0\n",
       "Residential Type    0\n",
       "Month Recorded      0\n",
       "Day Recorded        0\n",
       "Year Recorded       0\n",
       "dtype: int64"
      ]
     },
     "execution_count": 24,
     "metadata": {},
     "output_type": "execute_result"
    }
   ],
   "source": [
    "df_dropped.isna().sum()"
   ]
  },
  {
   "cell_type": "code",
   "execution_count": 25,
   "metadata": {},
   "outputs": [
    {
     "name": "stdout",
     "output_type": "stream",
     "text": [
      "<class 'pandas.core.frame.DataFrame'>\n",
      "Index: 724792 entries, 0 to 997211\n",
      "Data columns (total 12 columns):\n",
      " #   Column            Non-Null Count   Dtype  \n",
      "---  ------            --------------   -----  \n",
      " 0   Serial Number     724792 non-null  int64  \n",
      " 1   List Year         724792 non-null  int64  \n",
      " 2   Town              724792 non-null  object \n",
      " 3   Address           724792 non-null  object \n",
      " 4   Assessed Value    724792 non-null  float64\n",
      " 5   Sale Amount       724792 non-null  float64\n",
      " 6   Sales Ratio       724792 non-null  float64\n",
      " 7   Property Type     724792 non-null  object \n",
      " 8   Residential Type  724792 non-null  object \n",
      " 9   Month Recorded    724792 non-null  int64  \n",
      " 10  Day Recorded      724792 non-null  int64  \n",
      " 11  Year Recorded     724792 non-null  int64  \n",
      "dtypes: float64(3), int64(5), object(4)\n",
      "memory usage: 71.9+ MB\n"
     ]
    }
   ],
   "source": [
    "df_dropped.info()"
   ]
  },
  {
   "cell_type": "code",
   "execution_count": 35,
   "metadata": {},
   "outputs": [
    {
     "data": {
      "image/png": "[encoded data removed]",
      "text/plain": [
       "<Figure size 1600x400 with 2 Axes>"
      ]
     },
     "metadata": {},
     "output_type": "display_data"
    }
   ],
   "source": [
    "# Create property and residential type after changes\n",
    "fig, (ax1, ax2) = plt.subplots(1, 2, figsize=(16, 4))\n",
    "\n",
    "sns.histplot(data=df_dropped, x='Property Type', ax=ax1)\n",
    "ax1.set_ylabel('Count')\n",
    "ax1.set_title('Property Type')\n",
    "\n",
    "sns.histplot(data=df_dropped, x='Residential Type', ax=ax2)\n",
    "ax2.set_ylabel('Count')\n",
    "ax2.set_title('Residential Type')\n",
    "\n",
    "plt.tight_layout()\n",
    "plt.show()"
   ]
  },
  {
   "cell_type": "markdown",
   "metadata": {},
   "source": [
    "Last step related to df modification is handling towns. During coding categorical variables we will need to choose proper encoder, lets focus on 2 the most usefull in this case:\n",
    "- Oridnal/Label Encoder - assign numbers arbitrarily to the categories. We will have 1 encoded column with values 0,1,2...169, however this can lead to issue with multicollinearity/ model might assume false relationships\n",
    "- One Hot Encoder - converts each unique category value into a new binary column. Unfortunately that means we will have 170 new colums (high dimensionality) so we will need a lot of memory\n",
    "\n",
    "In that case we should group cities into counties - our data is from Connecticut state, with 8 new columns we can try using One Hot Encoder. We can use LLM or write manually dictionary that will group cities."
   ]
  },
  {
   "cell_type": "code",
   "execution_count": 20,
   "metadata": {},
   "outputs": [
    {
     "data": {
      "text/html": [
       "<div>\n",
       "<style scoped>\n",
       "    .dataframe tbody tr th:only-of-type {\n",
       "        vertical-align: middle;\n",
       "    }\n",
       "\n",
       "    .dataframe tbody tr th {\n",
       "        vertical-align: top;\n",
       "    }\n",
       "\n",
       "    .dataframe thead th {\n",
       "        text-align: right;\n",
       "    }\n",
       "</style>\n",
       "<table border=\"1\" class=\"dataframe\">\n",
       "  <thead>\n",
       "    <tr style=\"text-align: right;\">\n",
       "      <th></th>\n",
       "      <th>Serial Number</th>\n",
       "      <th>List Year</th>\n",
       "      <th>Town</th>\n",
       "      <th>Address</th>\n",
       "      <th>Assessed Value</th>\n",
       "      <th>Sale Amount</th>\n",
       "      <th>Sales Ratio</th>\n",
       "      <th>Property Type</th>\n",
       "      <th>Residential Type</th>\n",
       "      <th>Month Recorded</th>\n",
       "      <th>Day Recorded</th>\n",
       "      <th>Year Recorded</th>\n",
       "      <th>Counties</th>\n",
       "    </tr>\n",
       "  </thead>\n",
       "  <tbody>\n",
       "    <tr>\n",
       "      <th>0</th>\n",
       "      <td>2020177</td>\n",
       "      <td>2020</td>\n",
       "      <td>Ansonia</td>\n",
       "      <td>323 BEAVER ST</td>\n",
       "      <td>133000.0</td>\n",
       "      <td>248400.0</td>\n",
       "      <td>0.5354</td>\n",
       "      <td>Other</td>\n",
       "      <td>Single Family</td>\n",
       "      <td>4</td>\n",
       "      <td>14</td>\n",
       "      <td>2021</td>\n",
       "      <td>Fairfield</td>\n",
       "    </tr>\n",
       "    <tr>\n",
       "      <th>1</th>\n",
       "      <td>2020225</td>\n",
       "      <td>2020</td>\n",
       "      <td>Ansonia</td>\n",
       "      <td>152 JACKSON ST</td>\n",
       "      <td>110500.0</td>\n",
       "      <td>239900.0</td>\n",
       "      <td>0.4606</td>\n",
       "      <td>Other</td>\n",
       "      <td>Other</td>\n",
       "      <td>5</td>\n",
       "      <td>26</td>\n",
       "      <td>2021</td>\n",
       "      <td>Fairfield</td>\n",
       "    </tr>\n",
       "    <tr>\n",
       "      <th>2</th>\n",
       "      <td>2020348</td>\n",
       "      <td>2020</td>\n",
       "      <td>Ansonia</td>\n",
       "      <td>230 WAKELEE AVE</td>\n",
       "      <td>150500.0</td>\n",
       "      <td>325000.0</td>\n",
       "      <td>0.4630</td>\n",
       "      <td>Other</td>\n",
       "      <td>Unknown</td>\n",
       "      <td>9</td>\n",
       "      <td>13</td>\n",
       "      <td>2021</td>\n",
       "      <td>Fairfield</td>\n",
       "    </tr>\n",
       "    <tr>\n",
       "      <th>3</th>\n",
       "      <td>2020090</td>\n",
       "      <td>2020</td>\n",
       "      <td>Ansonia</td>\n",
       "      <td>57 PLATT ST</td>\n",
       "      <td>127400.0</td>\n",
       "      <td>202500.0</td>\n",
       "      <td>0.6291</td>\n",
       "      <td>Other</td>\n",
       "      <td>Other</td>\n",
       "      <td>12</td>\n",
       "      <td>14</td>\n",
       "      <td>2020</td>\n",
       "      <td>Fairfield</td>\n",
       "    </tr>\n",
       "    <tr>\n",
       "      <th>4</th>\n",
       "      <td>200500</td>\n",
       "      <td>2020</td>\n",
       "      <td>Avon</td>\n",
       "      <td>245 NEW ROAD</td>\n",
       "      <td>217640.0</td>\n",
       "      <td>400000.0</td>\n",
       "      <td>0.5441</td>\n",
       "      <td>Other</td>\n",
       "      <td>Single Family</td>\n",
       "      <td>9</td>\n",
       "      <td>7</td>\n",
       "      <td>2021</td>\n",
       "      <td>Hartford</td>\n",
       "    </tr>\n",
       "  </tbody>\n",
       "</table>\n",
       "</div>"
      ],
      "text/plain": [
       "   Serial Number  List Year     Town          Address  Assessed Value  \\\n",
       "0        2020177       2020  Ansonia    323 BEAVER ST        133000.0   \n",
       "1        2020225       2020  Ansonia   152 JACKSON ST        110500.0   \n",
       "2        2020348       2020  Ansonia  230 WAKELEE AVE        150500.0   \n",
       "3        2020090       2020  Ansonia      57 PLATT ST        127400.0   \n",
       "4         200500       2020     Avon     245 NEW ROAD        217640.0   \n",
       "\n",
       "   Sale Amount  Sales Ratio Property Type Residential Type  Month Recorded  \\\n",
       "0     248400.0       0.5354         Other    Single Family               4   \n",
       "1     239900.0       0.4606         Other            Other               5   \n",
       "2     325000.0       0.4630         Other          Unknown               9   \n",
       "3     202500.0       0.6291         Other            Other              12   \n",
       "4     400000.0       0.5441         Other    Single Family               9   \n",
       "\n",
       "   Day Recorded  Year Recorded   Counties  \n",
       "0            14           2021  Fairfield  \n",
       "1            26           2021  Fairfield  \n",
       "2            13           2021  Fairfield  \n",
       "3            14           2020  Fairfield  \n",
       "4             7           2021   Hartford  "
      ]
     },
     "execution_count": 20,
     "metadata": {},
     "output_type": "execute_result"
    }
   ],
   "source": [
    "# Dictionary made by ChatGPT, based on df['Towns'].unique()\n",
    "counties_cities = {\n",
    "    'Fairfield': ['Ansonia', 'Bethel', 'Bridgeport', 'Brookfield', 'Danbury', 'Darien', 'Derby', 'Easton', 'Fairfield', 'Greenwich', 'Monroe', 'New Canaan', 'New Fairfield', 'Newtown', 'Norwalk', 'Orange', 'Redding', 'Ridgefield', 'Shelton', 'Sherman', 'Stamford', 'Stratford', 'Trumbull', 'Weston', 'Westport', 'Wilton'],\n",
    "    'Hartford': ['Avon', 'Berlin', 'Bloomfield', 'Bristol', 'Burlington', 'Canton', 'East Granby', 'East Hartford', 'East Windsor', 'Enfield', 'Farmington', 'Glastonbury', 'Granby', 'Hartford', 'Hartland', 'Manchester', 'Marlborough', 'Newington', 'Plainville', 'Rocky Hill', 'Simsbury', 'South Windsor', 'Southington', 'Suffield', 'West Hartford', 'Wethersfield', 'Windsor', 'Windsor Locks'],\n",
    "    'Litchfield': ['Barkhamsted', 'Bethlehem', 'Bridgewater', 'Canaan', 'Colebrook', 'Cornwall', 'Goshen', 'Harwinton', 'Kent', 'Litchfield', 'Morris', 'New Hartford', 'New Milford', 'Norfolk', 'North Canaan', 'Plymouth', 'Roxbury', 'Salisbury', 'Sharon', 'Thomaston', 'Torrington', 'Warren', 'Washington', 'Watertown', 'Winchester', 'Woodbury'],\n",
    "    'Middlesex': ['Chester', 'Clinton', 'Cromwell', 'Deep River', 'Durham', 'East Haddam', 'East Hampton', 'Essex', 'Haddam', 'Killingworth', 'Middlefield', 'Middletown', 'Old Saybrook', 'Portland', 'Westbrook'],\n",
    "    'New Haven': ['Beacon Falls', 'Bethany', 'Branford', 'Cheshire', 'East Haven', 'Guilford', 'Hamden', 'Madison', 'Meriden', 'Middlebury', 'Milford', 'Naugatuck', 'New Haven', 'North Branford', 'North Haven', 'Orange', 'Prospect', 'Seymour', 'Southbury', 'Wallingford', 'Waterbury', 'West Haven', 'Wolcott', 'Woodbridge', 'Woodbury'],\n",
    "    'New London': ['Bozrah', 'Colchester', 'East Lyme', 'Franklin', 'Griswold', 'Groton', 'Lebanon', 'Ledyard', 'Lisbon', 'Lyme', 'Montville', 'New London', 'North Stonington', 'Norwich', 'Old Lyme', 'Preston', 'Salem', 'Sprague', 'Stonington', 'Voluntown', 'Waterford'],\n",
    "    'Tolland': ['Andover', 'Bolton', 'Columbia', 'Coventry', 'Ellington', 'Hebron', 'Mansfield', 'Somers', 'Stafford', 'Tolland', 'Union', 'Vernon', 'Willington'],\n",
    "    'Windham': ['Ashford', 'Brooklyn', 'Canterbury', 'Chaplin', 'Eastford', 'Hampton', 'Killingly', 'Plainfield', 'Pomfret', 'Putnam', 'Scotland', 'Sterling', 'Thompson', 'Windham', 'Woodstock']\n",
    "}\n",
    "\n",
    "def assign_county(town):\n",
    "    for county, cities in counties_cities.items():\n",
    "        if town in cities:\n",
    "            return county\n",
    "    return 'Unknown'\n",
    "\n",
    "df_dropped['Counties'] = df_dropped['Town'].apply(assign_county)\n",
    "\n",
    "df_dropped.head()"
   ]
  },
  {
   "cell_type": "code",
   "execution_count": 21,
   "metadata": {},
   "outputs": [
    {
     "name": "stdout",
     "output_type": "stream",
     "text": [
      "15420\n",
      "724792\n"
     ]
    }
   ],
   "source": [
    "print(df_dropped['Counties'].loc[df_dropped['Counties'] == 'Unknown'].count())\n",
    "print(len(df_dropped['Counties']))"
   ]
  },
  {
   "cell_type": "markdown",
   "metadata": {},
   "source": [
    "## Saving progress\n",
    "We made quite a lot till now. We should save current dataframe. In this point we can also improve our project a little bit. CSV format doesn't save information about colum sizes, so while reading table we will have int64, float64... File size and df speed would be too low. We have few options: save as pickle, parquet or feather - choose based on speed/size we want. Speed (best) pickle>feather>parquet. Memory usage (best) parquet>feather>pickle."
   ]
  },
  {
   "cell_type": "code",
   "execution_count": 22,
   "metadata": {},
   "outputs": [],
   "source": [
    "def optimize_dataframe(df):\n",
    "    for col in df.columns:\n",
    "        col_type = df[col].dtype\n",
    "\n",
    "        if pd.api.types.is_integer_dtype(col_type):\n",
    "            max_val = df[col].max()\n",
    "            if max_val <= np.iinfo(np.int8).max:\n",
    "                df[col] = df[col].astype(np.int8)\n",
    "            elif max_val <= np.iinfo(np.int16).max:\n",
    "                df[col] = df[col].astype(np.int16)\n",
    "            elif max_val <= np.iinfo(np.int32).max:\n",
    "                df[col] = df[col].astype(np.int32)\n",
    "            else:\n",
    "                df[col] = df[col].astype(np.int64)\n",
    "        elif pd.api.types.is_float_dtype(col_type):\n",
    "            df[col] = df[col].astype(np.float32)\n",
    "        elif pd.api.types.is_object_dtype(col_type):\n",
    "            num_unique_values = len(df[col].unique())\n",
    "            num_total_values = len(df[col])\n",
    "            if num_unique_values / num_total_values < 0.5:\n",
    "                df[col] = df[col].astype('category')\n",
    "    \n",
    "    return df\n",
    "\n",
    "df_dropped_copy = df_dropped.copy(deep=True)\n",
    "df_cleared = optimize_dataframe(df_dropped_copy)\n",
    "\n",
    "df_cleared.to_pickle(r'../data/input/data_clear.pkl')"
   ]
  },
  {
   "cell_type": "code",
   "execution_count": 23,
   "metadata": {},
   "outputs": [],
   "source": [
    "df_pickle = pd.read_pickle(r'../data/input/data_clear.pkl')"
   ]
  },
  {
   "cell_type": "code",
   "execution_count": 24,
   "metadata": {},
   "outputs": [
    {
     "name": "stdout",
     "output_type": "stream",
     "text": [
      "<class 'pandas.core.frame.DataFrame'>\n",
      "Index: 724792 entries, 0 to 997211\n",
      "Data columns (total 13 columns):\n",
      " #   Column            Non-Null Count   Dtype   \n",
      "---  ------            --------------   -----   \n",
      " 0   Serial Number     724792 non-null  int32   \n",
      " 1   List Year         724792 non-null  int16   \n",
      " 2   Town              724792 non-null  category\n",
      " 3   Address           724792 non-null  object  \n",
      " 4   Assessed Value    724792 non-null  float32 \n",
      " 5   Sale Amount       724792 non-null  float32 \n",
      " 6   Sales Ratio       724792 non-null  float32 \n",
      " 7   Property Type     724792 non-null  category\n",
      " 8   Residential Type  724792 non-null  category\n",
      " 9   Month Recorded    724792 non-null  int8    \n",
      " 10  Day Recorded      724792 non-null  int8    \n",
      " 11  Year Recorded     724792 non-null  int16   \n",
      " 12  Counties          724792 non-null  category\n",
      "dtypes: category(4), float32(3), int16(2), int32(1), int8(2), object(1)\n",
      "memory usage: 29.7+ MB\n"
     ]
    }
   ],
   "source": [
    "df_pickle.info()"
   ]
  },
  {
   "cell_type": "markdown",
   "metadata": {},
   "source": [
    "## Coding categorical variables"
   ]
  },
  {
   "cell_type": "code",
   "execution_count": 63,
   "metadata": {},
   "outputs": [],
   "source": [
    "from sklearn.model_selection import train_test_split\n",
    "from sklearn.preprocessing import StandardScaler, OneHotEncoder\n",
    "from sklearn.compose import ColumnTransformer\n",
    "from sklearn.pipeline import Pipeline\n",
    "from sklearn.ensemble import RandomForestRegressor\n",
    "from sklearn.svm import SVR\n",
    "from sklearn.metrics import mean_squared_error, r2_score\n",
    "from sklearn.model_selection import RandomizedSearchCV\n",
    "from sklearn.linear_model import LinearRegression, Lasso, Ridge\n",
    "from scipy.stats import randint, uniform\n",
    "import joblib\n",
    "import lightgbm as lgb\n",
    "import optuna"
   ]
  },
  {
   "cell_type": "code",
   "execution_count": 26,
   "metadata": {},
   "outputs": [
    {
     "data": {
      "text/html": [
       "<div>\n",
       "<style scoped>\n",
       "    .dataframe tbody tr th:only-of-type {\n",
       "        vertical-align: middle;\n",
       "    }\n",
       "\n",
       "    .dataframe tbody tr th {\n",
       "        vertical-align: top;\n",
       "    }\n",
       "\n",
       "    .dataframe thead th {\n",
       "        text-align: right;\n",
       "    }\n",
       "</style>\n",
       "<table border=\"1\" class=\"dataframe\">\n",
       "  <thead>\n",
       "    <tr style=\"text-align: right;\">\n",
       "      <th></th>\n",
       "      <th>Town</th>\n",
       "      <th>Assessed Value</th>\n",
       "      <th>Sale Amount</th>\n",
       "      <th>Property Type</th>\n",
       "      <th>Residential Type</th>\n",
       "      <th>Month Recorded</th>\n",
       "      <th>Day Recorded</th>\n",
       "      <th>Year Recorded</th>\n",
       "      <th>Counties</th>\n",
       "    </tr>\n",
       "  </thead>\n",
       "  <tbody>\n",
       "    <tr>\n",
       "      <th>0</th>\n",
       "      <td>Ansonia</td>\n",
       "      <td>133000.0</td>\n",
       "      <td>248400.0</td>\n",
       "      <td>Other</td>\n",
       "      <td>Single Family</td>\n",
       "      <td>4</td>\n",
       "      <td>14</td>\n",
       "      <td>2021</td>\n",
       "      <td>Fairfield</td>\n",
       "    </tr>\n",
       "    <tr>\n",
       "      <th>1</th>\n",
       "      <td>Ansonia</td>\n",
       "      <td>110500.0</td>\n",
       "      <td>239900.0</td>\n",
       "      <td>Other</td>\n",
       "      <td>Other</td>\n",
       "      <td>5</td>\n",
       "      <td>26</td>\n",
       "      <td>2021</td>\n",
       "      <td>Fairfield</td>\n",
       "    </tr>\n",
       "    <tr>\n",
       "      <th>2</th>\n",
       "      <td>Ansonia</td>\n",
       "      <td>150500.0</td>\n",
       "      <td>325000.0</td>\n",
       "      <td>Other</td>\n",
       "      <td>Unknown</td>\n",
       "      <td>9</td>\n",
       "      <td>13</td>\n",
       "      <td>2021</td>\n",
       "      <td>Fairfield</td>\n",
       "    </tr>\n",
       "    <tr>\n",
       "      <th>3</th>\n",
       "      <td>Ansonia</td>\n",
       "      <td>127400.0</td>\n",
       "      <td>202500.0</td>\n",
       "      <td>Other</td>\n",
       "      <td>Other</td>\n",
       "      <td>12</td>\n",
       "      <td>14</td>\n",
       "      <td>2020</td>\n",
       "      <td>Fairfield</td>\n",
       "    </tr>\n",
       "    <tr>\n",
       "      <th>4</th>\n",
       "      <td>Avon</td>\n",
       "      <td>217640.0</td>\n",
       "      <td>400000.0</td>\n",
       "      <td>Other</td>\n",
       "      <td>Single Family</td>\n",
       "      <td>9</td>\n",
       "      <td>7</td>\n",
       "      <td>2021</td>\n",
       "      <td>Hartford</td>\n",
       "    </tr>\n",
       "  </tbody>\n",
       "</table>\n",
       "</div>"
      ],
      "text/plain": [
       "      Town  Assessed Value  Sale Amount Property Type Residential Type  \\\n",
       "0  Ansonia        133000.0     248400.0         Other    Single Family   \n",
       "1  Ansonia        110500.0     239900.0         Other            Other   \n",
       "2  Ansonia        150500.0     325000.0         Other          Unknown   \n",
       "3  Ansonia        127400.0     202500.0         Other            Other   \n",
       "4     Avon        217640.0     400000.0         Other    Single Family   \n",
       "\n",
       "   Month Recorded  Day Recorded  Year Recorded   Counties  \n",
       "0               4            14           2021  Fairfield  \n",
       "1               5            26           2021  Fairfield  \n",
       "2               9            13           2021  Fairfield  \n",
       "3              12            14           2020  Fairfield  \n",
       "4               9             7           2021   Hartford  "
      ]
     },
     "execution_count": 26,
     "metadata": {},
     "output_type": "execute_result"
    }
   ],
   "source": [
    "df_train = df_pickle.drop(['Serial Number', 'List Year', 'Address', 'Sales Ratio'], axis=1)\n",
    "df_train.head()"
   ]
  },
  {
   "cell_type": "code",
   "execution_count": 27,
   "metadata": {},
   "outputs": [],
   "source": [
    "X = df_train.drop(['Town', 'Sale Amount'], axis=1)\n",
    "y = df_train['Sale Amount']\n",
    "\n",
    "X_train, X_test, y_train, y_test = train_test_split(X, y, test_size=0.3, random_state=12)"
   ]
  },
  {
   "cell_type": "code",
   "execution_count": 28,
   "metadata": {},
   "outputs": [],
   "source": [
    "# In categorical features we must remember about 'Town'\n",
    "numeric_features = ['Assessed Value', 'Month Recorded', 'Day Recorded', 'Year Recorded']\n",
    "categorical_features = ['Property Type', 'Residential Type', 'Counties']\n",
    "\n",
    "numeric_transformer = Pipeline(steps=[\n",
    "    ('scaler', StandardScaler())\n",
    "])\n",
    "\n",
    "categorical_transformer = Pipeline(steps=[\n",
    "    ('onehot', OneHotEncoder(handle_unknown='ignore'))\n",
    "])\n",
    "\n",
    "preprocessor = ColumnTransformer(\n",
    "    transformers=[\n",
    "        ('num', numeric_transformer, numeric_features),\n",
    "        ('cat', categorical_transformer, categorical_features)\n",
    "    ])"
   ]
  },
  {
   "cell_type": "markdown",
   "metadata": {},
   "source": [
    "### Linear Regression"
   ]
  },
  {
   "cell_type": "code",
   "execution_count": 29,
   "metadata": {},
   "outputs": [],
   "source": [
    "results = []\n",
    "\n",
    "# Definicja pipeline\n",
    "pipeline_lr = Pipeline(steps=[\n",
    "    ('preprocessor', preprocessor),\n",
    "    ('regressor', LinearRegression())\n",
    "])\n",
    "\n",
    "# Definicja siatki parametrów do strojenia\n",
    "param_dist_lr = {\n",
    "    'regressor__fit_intercept': [True, False]\n",
    "}"
   ]
  },
  {
   "cell_type": "code",
   "execution_count": 30,
   "metadata": {},
   "outputs": [
    {
     "name": "stdout",
     "output_type": "stream",
     "text": [
      "Fitting 5 folds for each of 2 candidates, totalling 10 fits\n"
     ]
    },
    {
     "name": "stderr",
     "output_type": "stream",
     "text": [
      "/usr/local/lib/python3.11/dist-packages/sklearn/model_selection/_search.py:320: UserWarning: The total space of parameters 2 is smaller than n_iter=20. Running 2 iterations. For exhaustive searches, use GridSearchCV.\n",
      "  warnings.warn(\n"
     ]
    },
    {
     "name": "stdout",
     "output_type": "stream",
     "text": [
      "Best parameters found for LinearRegression:\n",
      "{'regressor__fit_intercept': True}\n",
      "Best score found for LinearRegression: 0.7946\n",
      "\n",
      "Linear Regression - Evaluation:\n",
      "Test Mean Squared Error: 3650011961.8771\n",
      "Test R2 Score: 0.7917\n"
     ]
    }
   ],
   "source": [
    "random_search_lr = RandomizedSearchCV(pipeline_lr, param_distributions=param_dist_lr, n_iter=20, cv=5, verbose=1, n_jobs=-1)\n",
    "random_search_lr.fit(X_train, y_train)\n",
    "\n",
    "# Wyniki strojenia\n",
    "print(\"Best parameters found for LinearRegression:\")\n",
    "print(random_search_lr.best_params_)\n",
    "print(\"Best score found for LinearRegression: {:.4f}\".format(random_search_lr.best_score_))\n",
    "\n",
    "# Predykcja na zbiorze testowym i ocena\n",
    "y_pred_lr = random_search_lr.predict(X_test)\n",
    "mse = mean_squared_error(y_test, y_pred_lr)\n",
    "r2 = r2_score(y_test, y_pred_lr)\n",
    "results = {\n",
    "    'Model': 'LinearRegression',\n",
    "    'Params': random_search_lr.best_params_,\n",
    "    'Best Score': random_search_lr.best_score_,\n",
    "    'Mean Squared Error': mse,\n",
    "    'R2 Score': r2\n",
    "}\n",
    "\n",
    "print(\"\\nLinear Regression - Evaluation:\")\n",
    "print(f\"Test Mean Squared Error: {mse:.4f}\")\n",
    "print(f\"Test R2 Score: {r2:.4f}\")"
   ]
  },
  {
   "cell_type": "code",
   "execution_count": 16,
   "metadata": {},
   "outputs": [
    {
     "data": {
      "image/png": "[encoded data removed]",
      "text/plain": [
       "<Figure size 1200x600 with 1 Axes>"
      ]
     },
     "metadata": {},
     "output_type": "display_data"
    }
   ],
   "source": [
    "cv_results = random_search_lr.cv_results_\n",
    "mean_test_scores = cv_results['mean_test_score']\n",
    "param_values = np.arange(1, len(mean_test_scores) + 1)\n",
    "\n",
    "plt.figure(figsize=(12, 6))\n",
    "plt.plot(param_values, mean_test_scores, marker='o')\n",
    "plt.title('Learning/Search Progress')\n",
    "plt.xlabel('Iteration')\n",
    "plt.ylabel('Mean Test Score')\n",
    "plt.grid(True)\n",
    "plt.show()"
   ]
  },
  {
   "cell_type": "code",
   "execution_count": 31,
   "metadata": {},
   "outputs": [
    {
     "name": "stdout",
     "output_type": "stream",
     "text": [
      "Results saved to results.txt\n"
     ]
    }
   ],
   "source": [
    "with open(r'../data/output/results.txt', 'a') as f:\n",
    "    f.write(f\"Model: {results['Model']}\\n\")\n",
    "    f.write(f\"Params: {results['Params']}\\n\")\n",
    "    f.write(f\"Best Score: {results['Best Score']:.4f}\\n\")\n",
    "    f.write(f\"Mean Squared Error: {results['Mean Squared Error']:.4f}\\n\")\n",
    "    f.write(f\"R2 Score: {results['R2 Score']:.4f}\\n\\n\")\n",
    "\n",
    "print(\"Results saved to results.txt\")"
   ]
  },
  {
   "cell_type": "markdown",
   "metadata": {},
   "source": [
    "### Lasso Regresion"
   ]
  },
  {
   "cell_type": "code",
   "execution_count": 32,
   "metadata": {},
   "outputs": [],
   "source": [
    "results = []\n",
    "\n",
    "pipeline_lasso = Pipeline(steps=[\n",
    "    ('preprocessor', preprocessor),\n",
    "    ('regressor', Lasso(random_state=42))\n",
    "])\n",
    "\n",
    "param_dist_lasso = {\n",
    "    'regressor__alpha': uniform(0.01, 10.0),\n",
    "    'regressor__fit_intercept': [True, False],\n",
    "    'regressor__max_iter': randint(50,1000)\n",
    "}"
   ]
  },
  {
   "cell_type": "code",
   "execution_count": 33,
   "metadata": {},
   "outputs": [
    {
     "name": "stdout",
     "output_type": "stream",
     "text": [
      "Fitting 5 folds for each of 20 candidates, totalling 100 fits\n"
     ]
    },
    {
     "name": "stderr",
     "output_type": "stream",
     "text": [
      "/usr/local/lib/python3.11/dist-packages/sklearn/linear_model/_coordinate_descent.py:697: ConvergenceWarning: Objective did not converge. You might want to increase the number of iterations, check the scale of the features or consider increasing regularisation. Duality gap: 4.981e+14, tolerance: 7.137e+11\n",
      "  model = cd_fast.enet_coordinate_descent(\n",
      "/usr/local/lib/python3.11/dist-packages/sklearn/linear_model/_coordinate_descent.py:697: ConvergenceWarning: Objective did not converge. You might want to increase the number of iterations, check the scale of the features or consider increasing regularisation. Duality gap: 4.892e+14, tolerance: 7.146e+11\n",
      "  model = cd_fast.enet_coordinate_descent(\n",
      "/usr/local/lib/python3.11/dist-packages/sklearn/linear_model/_coordinate_descent.py:697: ConvergenceWarning: Objective did not converge. You might want to increase the number of iterations, check the scale of the features or consider increasing regularisation. Duality gap: 5.035e+14, tolerance: 7.138e+11\n",
      "  model = cd_fast.enet_coordinate_descent(\n",
      "/usr/local/lib/python3.11/dist-packages/sklearn/linear_model/_coordinate_descent.py:697: ConvergenceWarning: Objective did not converge. You might want to increase the number of iterations, check the scale of the features or consider increasing regularisation. Duality gap: 5.003e+14, tolerance: 7.139e+11\n",
      "  model = cd_fast.enet_coordinate_descent(\n",
      "/usr/local/lib/python3.11/dist-packages/sklearn/linear_model/_coordinate_descent.py:697: ConvergenceWarning: Objective did not converge. You might want to increase the number of iterations, check the scale of the features or consider increasing regularisation. Duality gap: 5.142e+14, tolerance: 7.135e+11\n",
      "  model = cd_fast.enet_coordinate_descent(\n",
      "/usr/local/lib/python3.11/dist-packages/sklearn/linear_model/_coordinate_descent.py:697: ConvergenceWarning: Objective did not converge. You might want to increase the number of iterations, check the scale of the features or consider increasing regularisation. Duality gap: 2.582e+14, tolerance: 7.137e+11\n",
      "  model = cd_fast.enet_coordinate_descent(\n",
      "/usr/local/lib/python3.11/dist-packages/sklearn/linear_model/_coordinate_descent.py:697: ConvergenceWarning: Objective did not converge. You might want to increase the number of iterations, check the scale of the features or consider increasing regularisation. Duality gap: 2.523e+14, tolerance: 7.146e+11\n",
      "  model = cd_fast.enet_coordinate_descent(\n",
      "/usr/local/lib/python3.11/dist-packages/sklearn/linear_model/_coordinate_descent.py:697: ConvergenceWarning: Objective did not converge. You might want to increase the number of iterations, check the scale of the features or consider increasing regularisation. Duality gap: 7.876e+13, tolerance: 7.138e+11\n",
      "  model = cd_fast.enet_coordinate_descent(\n",
      "/usr/local/lib/python3.11/dist-packages/sklearn/linear_model/_coordinate_descent.py:697: ConvergenceWarning: Objective did not converge. You might want to increase the number of iterations, check the scale of the features or consider increasing regularisation. Duality gap: 7.801e+13, tolerance: 7.139e+11\n",
      "  model = cd_fast.enet_coordinate_descent(\n",
      "/usr/local/lib/python3.11/dist-packages/sklearn/linear_model/_coordinate_descent.py:697: ConvergenceWarning: Objective did not converge. You might want to increase the number of iterations, check the scale of the features or consider increasing regularisation. Duality gap: 7.823e+13, tolerance: 7.135e+11\n",
      "  model = cd_fast.enet_coordinate_descent(\n",
      "/usr/local/lib/python3.11/dist-packages/sklearn/linear_model/_coordinate_descent.py:697: ConvergenceWarning: Objective did not converge. You might want to increase the number of iterations, check the scale of the features or consider increasing regularisation. Duality gap: 2.784e+14, tolerance: 7.135e+11\n",
      "  model = cd_fast.enet_coordinate_descent(\n",
      "/usr/local/lib/python3.11/dist-packages/sklearn/linear_model/_coordinate_descent.py:697: ConvergenceWarning: Objective did not converge. You might want to increase the number of iterations, check the scale of the features or consider increasing regularisation. Duality gap: 2.792e+14, tolerance: 7.139e+11\n",
      "  model = cd_fast.enet_coordinate_descent(\n",
      "/usr/local/lib/python3.11/dist-packages/sklearn/linear_model/_coordinate_descent.py:697: ConvergenceWarning: Objective did not converge. You might want to increase the number of iterations, check the scale of the features or consider increasing regularisation. Duality gap: 2.706e+14, tolerance: 7.138e+11\n",
      "  model = cd_fast.enet_coordinate_descent(\n",
      "/usr/local/lib/python3.11/dist-packages/sklearn/linear_model/_coordinate_descent.py:697: ConvergenceWarning: Objective did not converge. You might want to increase the number of iterations, check the scale of the features or consider increasing regularisation. Duality gap: 7.978e+13, tolerance: 7.146e+11\n",
      "  model = cd_fast.enet_coordinate_descent(\n",
      "/usr/local/lib/python3.11/dist-packages/sklearn/linear_model/_coordinate_descent.py:697: ConvergenceWarning: Objective did not converge. You might want to increase the number of iterations, check the scale of the features or consider increasing regularisation. Duality gap: 7.932e+13, tolerance: 7.137e+11\n",
      "  model = cd_fast.enet_coordinate_descent(\n",
      "/usr/local/lib/python3.11/dist-packages/sklearn/linear_model/_coordinate_descent.py:697: ConvergenceWarning: Objective did not converge. You might want to increase the number of iterations, check the scale of the features or consider increasing regularisation. Duality gap: 1.295e+14, tolerance: 3.423e+12\n",
      "  model = cd_fast.enet_coordinate_descent(\n",
      "/usr/local/lib/python3.11/dist-packages/sklearn/linear_model/_coordinate_descent.py:697: ConvergenceWarning: Objective did not converge. You might want to increase the number of iterations, check the scale of the features or consider increasing regularisation. Duality gap: 1.229e+14, tolerance: 3.419e+12\n",
      "  model = cd_fast.enet_coordinate_descent(\n",
      "/usr/local/lib/python3.11/dist-packages/sklearn/linear_model/_coordinate_descent.py:697: ConvergenceWarning: Objective did not converge. You might want to increase the number of iterations, check the scale of the features or consider increasing regularisation. Duality gap: 2.963e+14, tolerance: 3.423e+12\n",
      "  model = cd_fast.enet_coordinate_descent(\n",
      "/usr/local/lib/python3.11/dist-packages/sklearn/linear_model/_coordinate_descent.py:697: ConvergenceWarning: Objective did not converge. You might want to increase the number of iterations, check the scale of the features or consider increasing regularisation. Duality gap: 1.597e+14, tolerance: 3.419e+12\n",
      "  model = cd_fast.enet_coordinate_descent(\n",
      "/usr/local/lib/python3.11/dist-packages/sklearn/linear_model/_coordinate_descent.py:697: ConvergenceWarning: Objective did not converge. You might want to increase the number of iterations, check the scale of the features or consider increasing regularisation. Duality gap: 1.443e+14, tolerance: 3.420e+12\n",
      "  model = cd_fast.enet_coordinate_descent(\n",
      "/usr/local/lib/python3.11/dist-packages/sklearn/linear_model/_coordinate_descent.py:697: ConvergenceWarning: Objective did not converge. You might want to increase the number of iterations, check the scale of the features or consider increasing regularisation. Duality gap: 1.332e+14, tolerance: 3.419e+12\n",
      "  model = cd_fast.enet_coordinate_descent(\n",
      "/usr/local/lib/python3.11/dist-packages/sklearn/linear_model/_coordinate_descent.py:697: ConvergenceWarning: Objective did not converge. You might want to increase the number of iterations, check the scale of the features or consider increasing regularisation. Duality gap: 2.972e+14, tolerance: 3.419e+12\n",
      "  model = cd_fast.enet_coordinate_descent(\n",
      "/usr/local/lib/python3.11/dist-packages/sklearn/linear_model/_coordinate_descent.py:697: ConvergenceWarning: Objective did not converge. You might want to increase the number of iterations, check the scale of the features or consider increasing regularisation. Duality gap: 3.040e+14, tolerance: 3.419e+12\n",
      "  model = cd_fast.enet_coordinate_descent(\n",
      "/usr/local/lib/python3.11/dist-packages/sklearn/linear_model/_coordinate_descent.py:697: ConvergenceWarning: Objective did not converge. You might want to increase the number of iterations, check the scale of the features or consider increasing regularisation. Duality gap: 3.011e+14, tolerance: 3.420e+12\n",
      "  model = cd_fast.enet_coordinate_descent(\n",
      "/usr/local/lib/python3.11/dist-packages/sklearn/linear_model/_coordinate_descent.py:697: ConvergenceWarning: Objective did not converge. You might want to increase the number of iterations, check the scale of the features or consider increasing regularisation. Duality gap: 3.011e+14, tolerance: 3.419e+12\n",
      "  model = cd_fast.enet_coordinate_descent(\n",
      "/usr/local/lib/python3.11/dist-packages/sklearn/linear_model/_coordinate_descent.py:697: ConvergenceWarning: Objective did not converge. You might want to increase the number of iterations, check the scale of the features or consider increasing regularisation. Duality gap: 4.590e+14, tolerance: 3.419e+12\n",
      "  model = cd_fast.enet_coordinate_descent(\n",
      "/usr/local/lib/python3.11/dist-packages/sklearn/linear_model/_coordinate_descent.py:697: ConvergenceWarning: Objective did not converge. You might want to increase the number of iterations, check the scale of the features or consider increasing regularisation. Duality gap: 4.480e+14, tolerance: 3.419e+12\n",
      "  model = cd_fast.enet_coordinate_descent(\n",
      "/usr/local/lib/python3.11/dist-packages/sklearn/linear_model/_coordinate_descent.py:697: ConvergenceWarning: Objective did not converge. You might want to increase the number of iterations, check the scale of the features or consider increasing regularisation. Duality gap: 4.468e+14, tolerance: 3.423e+12\n",
      "  model = cd_fast.enet_coordinate_descent(\n",
      "/usr/local/lib/python3.11/dist-packages/sklearn/linear_model/_coordinate_descent.py:697: ConvergenceWarning: Objective did not converge. You might want to increase the number of iterations, check the scale of the features or consider increasing regularisation. Duality gap: 4.548e+14, tolerance: 3.420e+12\n",
      "  model = cd_fast.enet_coordinate_descent(\n",
      "/usr/local/lib/python3.11/dist-packages/sklearn/linear_model/_coordinate_descent.py:697: ConvergenceWarning: Objective did not converge. You might want to increase the number of iterations, check the scale of the features or consider increasing regularisation. Duality gap: 4.543e+14, tolerance: 3.419e+12\n",
      "  model = cd_fast.enet_coordinate_descent(\n",
      "/usr/local/lib/python3.11/dist-packages/sklearn/linear_model/_coordinate_descent.py:697: ConvergenceWarning: Objective did not converge. You might want to increase the number of iterations, check the scale of the features or consider increasing regularisation. Duality gap: 3.932e+14, tolerance: 7.137e+11\n",
      "  model = cd_fast.enet_coordinate_descent(\n",
      "/usr/local/lib/python3.11/dist-packages/sklearn/linear_model/_coordinate_descent.py:697: ConvergenceWarning: Objective did not converge. You might want to increase the number of iterations, check the scale of the features or consider increasing regularisation. Duality gap: 3.867e+14, tolerance: 7.146e+11\n",
      "  model = cd_fast.enet_coordinate_descent(\n",
      "/usr/local/lib/python3.11/dist-packages/sklearn/linear_model/_coordinate_descent.py:697: ConvergenceWarning: Objective did not converge. You might want to increase the number of iterations, check the scale of the features or consider increasing regularisation. Duality gap: 4.092e+14, tolerance: 7.139e+11\n",
      "  model = cd_fast.enet_coordinate_descent(\n",
      "/usr/local/lib/python3.11/dist-packages/sklearn/linear_model/_coordinate_descent.py:697: ConvergenceWarning: Objective did not converge. You might want to increase the number of iterations, check the scale of the features or consider increasing regularisation. Duality gap: 4.039e+14, tolerance: 7.138e+11\n",
      "  model = cd_fast.enet_coordinate_descent(\n",
      "/usr/local/lib/python3.11/dist-packages/sklearn/linear_model/_coordinate_descent.py:697: ConvergenceWarning: Objective did not converge. You might want to increase the number of iterations, check the scale of the features or consider increasing regularisation. Duality gap: 4.123e+14, tolerance: 7.135e+11\n",
      "  model = cd_fast.enet_coordinate_descent(\n",
      "/usr/local/lib/python3.11/dist-packages/sklearn/linear_model/_coordinate_descent.py:697: ConvergenceWarning: Objective did not converge. You might want to increase the number of iterations, check the scale of the features or consider increasing regularisation. Duality gap: 9.758e+13, tolerance: 3.423e+12\n",
      "  model = cd_fast.enet_coordinate_descent(\n",
      "/usr/local/lib/python3.11/dist-packages/sklearn/linear_model/_coordinate_descent.py:697: ConvergenceWarning: Objective did not converge. You might want to increase the number of iterations, check the scale of the features or consider increasing regularisation. Duality gap: 5.318e+13, tolerance: 3.419e+12\n",
      "  model = cd_fast.enet_coordinate_descent(\n",
      "/usr/local/lib/python3.11/dist-packages/sklearn/linear_model/_coordinate_descent.py:697: ConvergenceWarning: Objective did not converge. You might want to increase the number of iterations, check the scale of the features or consider increasing regularisation. Duality gap: 2.849e+13, tolerance: 3.420e+12\n",
      "  model = cd_fast.enet_coordinate_descent(\n",
      "/usr/local/lib/python3.11/dist-packages/sklearn/linear_model/_coordinate_descent.py:697: ConvergenceWarning: Objective did not converge. You might want to increase the number of iterations, check the scale of the features or consider increasing regularisation. Duality gap: 1.745e+14, tolerance: 3.419e+12\n",
      "  model = cd_fast.enet_coordinate_descent(\n",
      "/usr/local/lib/python3.11/dist-packages/sklearn/linear_model/_coordinate_descent.py:697: ConvergenceWarning: Objective did not converge. You might want to increase the number of iterations, check the scale of the features or consider increasing regularisation. Duality gap: 9.397e+13, tolerance: 3.419e+12\n",
      "  model = cd_fast.enet_coordinate_descent(\n",
      "/usr/local/lib/python3.11/dist-packages/sklearn/linear_model/_coordinate_descent.py:697: ConvergenceWarning: Objective did not converge. You might want to increase the number of iterations, check the scale of the features or consider increasing regularisation. Duality gap: 9.009e+13, tolerance: 7.146e+11\n",
      "  model = cd_fast.enet_coordinate_descent(\n",
      "/usr/local/lib/python3.11/dist-packages/sklearn/linear_model/_coordinate_descent.py:697: ConvergenceWarning: Objective did not converge. You might want to increase the number of iterations, check the scale of the features or consider increasing regularisation. Duality gap: 7.901e+13, tolerance: 7.146e+11\n",
      "  model = cd_fast.enet_coordinate_descent(\n",
      "/usr/local/lib/python3.11/dist-packages/sklearn/linear_model/_coordinate_descent.py:697: ConvergenceWarning: Objective did not converge. You might want to increase the number of iterations, check the scale of the features or consider increasing regularisation. Duality gap: 8.995e+13, tolerance: 7.139e+11\n",
      "  model = cd_fast.enet_coordinate_descent(\n",
      "/usr/local/lib/python3.11/dist-packages/sklearn/linear_model/_coordinate_descent.py:697: ConvergenceWarning: Objective did not converge. You might want to increase the number of iterations, check the scale of the features or consider increasing regularisation. Duality gap: 7.840e+13, tolerance: 7.137e+11\n",
      "  model = cd_fast.enet_coordinate_descent(\n",
      "/usr/local/lib/python3.11/dist-packages/sklearn/linear_model/_coordinate_descent.py:697: ConvergenceWarning: Objective did not converge. You might want to increase the number of iterations, check the scale of the features or consider increasing regularisation. Duality gap: 8.996e+13, tolerance: 7.135e+11\n",
      "  model = cd_fast.enet_coordinate_descent(\n",
      "/usr/local/lib/python3.11/dist-packages/sklearn/linear_model/_coordinate_descent.py:697: ConvergenceWarning: Objective did not converge. You might want to increase the number of iterations, check the scale of the features or consider increasing regularisation. Duality gap: 8.993e+13, tolerance: 7.137e+11\n",
      "  model = cd_fast.enet_coordinate_descent(\n",
      "/usr/local/lib/python3.11/dist-packages/sklearn/linear_model/_coordinate_descent.py:697: ConvergenceWarning: Objective did not converge. You might want to increase the number of iterations, check the scale of the features or consider increasing regularisation. Duality gap: 9.011e+13, tolerance: 7.138e+11\n",
      "  model = cd_fast.enet_coordinate_descent(\n",
      "/usr/local/lib/python3.11/dist-packages/sklearn/linear_model/_coordinate_descent.py:697: ConvergenceWarning: Objective did not converge. You might want to increase the number of iterations, check the scale of the features or consider increasing regularisation. Duality gap: 7.743e+13, tolerance: 7.139e+11\n",
      "  model = cd_fast.enet_coordinate_descent(\n",
      "/usr/local/lib/python3.11/dist-packages/sklearn/linear_model/_coordinate_descent.py:697: ConvergenceWarning: Objective did not converge. You might want to increase the number of iterations, check the scale of the features or consider increasing regularisation. Duality gap: 7.711e+13, tolerance: 7.135e+11\n",
      "  model = cd_fast.enet_coordinate_descent(\n",
      "/usr/local/lib/python3.11/dist-packages/sklearn/linear_model/_coordinate_descent.py:697: ConvergenceWarning: Objective did not converge. You might want to increase the number of iterations, check the scale of the features or consider increasing regularisation. Duality gap: 7.792e+13, tolerance: 7.138e+11\n",
      "  model = cd_fast.enet_coordinate_descent(\n",
      "/usr/local/lib/python3.11/dist-packages/sklearn/linear_model/_coordinate_descent.py:697: ConvergenceWarning: Objective did not converge. You might want to increase the number of iterations, check the scale of the features or consider increasing regularisation. Duality gap: 1.009e+14, tolerance: 7.146e+11\n",
      "  model = cd_fast.enet_coordinate_descent(\n",
      "/usr/local/lib/python3.11/dist-packages/sklearn/linear_model/_coordinate_descent.py:697: ConvergenceWarning: Objective did not converge. You might want to increase the number of iterations, check the scale of the features or consider increasing regularisation. Duality gap: 1.056e+14, tolerance: 7.137e+11\n",
      "  model = cd_fast.enet_coordinate_descent(\n",
      "/usr/local/lib/python3.11/dist-packages/sklearn/linear_model/_coordinate_descent.py:697: ConvergenceWarning: Objective did not converge. You might want to increase the number of iterations, check the scale of the features or consider increasing regularisation. Duality gap: 2.578e+14, tolerance: 3.423e+12\n",
      "  model = cd_fast.enet_coordinate_descent(\n",
      "/usr/local/lib/python3.11/dist-packages/sklearn/linear_model/_coordinate_descent.py:697: ConvergenceWarning: Objective did not converge. You might want to increase the number of iterations, check the scale of the features or consider increasing regularisation. Duality gap: 2.580e+14, tolerance: 3.419e+12\n",
      "  model = cd_fast.enet_coordinate_descent(\n",
      "/usr/local/lib/python3.11/dist-packages/sklearn/linear_model/_coordinate_descent.py:697: ConvergenceWarning: Objective did not converge. You might want to increase the number of iterations, check the scale of the features or consider increasing regularisation. Duality gap: 2.582e+14, tolerance: 3.420e+12\n",
      "  model = cd_fast.enet_coordinate_descent(\n",
      "/usr/local/lib/python3.11/dist-packages/sklearn/linear_model/_coordinate_descent.py:697: ConvergenceWarning: Objective did not converge. You might want to increase the number of iterations, check the scale of the features or consider increasing regularisation. Duality gap: 2.589e+14, tolerance: 3.419e+12\n",
      "  model = cd_fast.enet_coordinate_descent(\n",
      "/usr/local/lib/python3.11/dist-packages/sklearn/linear_model/_coordinate_descent.py:697: ConvergenceWarning: Objective did not converge. You might want to increase the number of iterations, check the scale of the features or consider increasing regularisation. Duality gap: 2.589e+14, tolerance: 3.419e+12\n",
      "  model = cd_fast.enet_coordinate_descent(\n",
      "/usr/local/lib/python3.11/dist-packages/sklearn/linear_model/_coordinate_descent.py:697: ConvergenceWarning: Objective did not converge. You might want to increase the number of iterations, check the scale of the features or consider increasing regularisation. Duality gap: 1.159e+14, tolerance: 7.139e+11\n",
      "  model = cd_fast.enet_coordinate_descent(\n",
      "/usr/local/lib/python3.11/dist-packages/sklearn/linear_model/_coordinate_descent.py:697: ConvergenceWarning: Objective did not converge. You might want to increase the number of iterations, check the scale of the features or consider increasing regularisation. Duality gap: 1.193e+14, tolerance: 7.135e+11\n",
      "  model = cd_fast.enet_coordinate_descent(\n",
      "/usr/local/lib/python3.11/dist-packages/sklearn/linear_model/_coordinate_descent.py:697: ConvergenceWarning: Objective did not converge. You might want to increase the number of iterations, check the scale of the features or consider increasing regularisation. Duality gap: 1.123e+14, tolerance: 7.138e+11\n",
      "  model = cd_fast.enet_coordinate_descent(\n",
      "/usr/local/lib/python3.11/dist-packages/sklearn/linear_model/_coordinate_descent.py:697: ConvergenceWarning: Objective did not converge. You might want to increase the number of iterations, check the scale of the features or consider increasing regularisation. Duality gap: 4.054e+13, tolerance: 7.137e+11\n",
      "  model = cd_fast.enet_coordinate_descent(\n",
      "/usr/local/lib/python3.11/dist-packages/sklearn/linear_model/_coordinate_descent.py:697: ConvergenceWarning: Objective did not converge. You might want to increase the number of iterations, check the scale of the features or consider increasing regularisation. Duality gap: 2.704e+13, tolerance: 7.146e+11\n",
      "  model = cd_fast.enet_coordinate_descent(\n",
      "/usr/local/lib/python3.11/dist-packages/sklearn/linear_model/_coordinate_descent.py:697: ConvergenceWarning: Objective did not converge. You might want to increase the number of iterations, check the scale of the features or consider increasing regularisation. Duality gap: 4.552e+14, tolerance: 7.146e+11\n",
      "  model = cd_fast.enet_coordinate_descent(\n",
      "/usr/local/lib/python3.11/dist-packages/sklearn/linear_model/_coordinate_descent.py:697: ConvergenceWarning: Objective did not converge. You might want to increase the number of iterations, check the scale of the features or consider increasing regularisation. Duality gap: 4.590e+14, tolerance: 7.137e+11\n",
      "  model = cd_fast.enet_coordinate_descent(\n",
      "/usr/local/lib/python3.11/dist-packages/sklearn/linear_model/_coordinate_descent.py:697: ConvergenceWarning: Objective did not converge. You might want to increase the number of iterations, check the scale of the features or consider increasing regularisation. Duality gap: 4.827e+13, tolerance: 7.139e+11\n",
      "  model = cd_fast.enet_coordinate_descent(\n",
      "/usr/local/lib/python3.11/dist-packages/sklearn/linear_model/_coordinate_descent.py:697: ConvergenceWarning: Objective did not converge. You might want to increase the number of iterations, check the scale of the features or consider increasing regularisation. Duality gap: 4.775e+14, tolerance: 7.135e+11\n",
      "  model = cd_fast.enet_coordinate_descent(\n",
      "/usr/local/lib/python3.11/dist-packages/sklearn/linear_model/_coordinate_descent.py:697: ConvergenceWarning: Objective did not converge. You might want to increase the number of iterations, check the scale of the features or consider increasing regularisation. Duality gap: 5.087e+13, tolerance: 7.138e+11\n",
      "  model = cd_fast.enet_coordinate_descent(\n",
      "/usr/local/lib/python3.11/dist-packages/sklearn/linear_model/_coordinate_descent.py:697: ConvergenceWarning: Objective did not converge. You might want to increase the number of iterations, check the scale of the features or consider increasing regularisation. Duality gap: 8.580e+13, tolerance: 7.135e+11\n",
      "  model = cd_fast.enet_coordinate_descent(\n",
      "/usr/local/lib/python3.11/dist-packages/sklearn/linear_model/_coordinate_descent.py:697: ConvergenceWarning: Objective did not converge. You might want to increase the number of iterations, check the scale of the features or consider increasing regularisation. Duality gap: 4.859e+14, tolerance: 7.139e+11\n",
      "  model = cd_fast.enet_coordinate_descent(\n",
      "/usr/local/lib/python3.11/dist-packages/sklearn/linear_model/_coordinate_descent.py:697: ConvergenceWarning: Objective did not converge. You might want to increase the number of iterations, check the scale of the features or consider increasing regularisation. Duality gap: 4.739e+14, tolerance: 7.138e+11\n",
      "  model = cd_fast.enet_coordinate_descent(\n",
      "/usr/local/lib/python3.11/dist-packages/sklearn/linear_model/_coordinate_descent.py:697: ConvergenceWarning: Objective did not converge. You might want to increase the number of iterations, check the scale of the features or consider increasing regularisation. Duality gap: 4.690e+14, tolerance: 3.423e+12\n",
      "  model = cd_fast.enet_coordinate_descent(\n",
      "/usr/local/lib/python3.11/dist-packages/sklearn/linear_model/_coordinate_descent.py:697: ConvergenceWarning: Objective did not converge. You might want to increase the number of iterations, check the scale of the features or consider increasing regularisation. Duality gap: 4.704e+14, tolerance: 3.419e+12\n",
      "  model = cd_fast.enet_coordinate_descent(\n",
      "/usr/local/lib/python3.11/dist-packages/sklearn/linear_model/_coordinate_descent.py:697: ConvergenceWarning: Objective did not converge. You might want to increase the number of iterations, check the scale of the features or consider increasing regularisation. Duality gap: 4.827e+14, tolerance: 3.419e+12\n",
      "  model = cd_fast.enet_coordinate_descent(\n",
      "/usr/local/lib/python3.11/dist-packages/sklearn/linear_model/_coordinate_descent.py:697: ConvergenceWarning: Objective did not converge. You might want to increase the number of iterations, check the scale of the features or consider increasing regularisation. Duality gap: 4.774e+14, tolerance: 3.419e+12\n",
      "  model = cd_fast.enet_coordinate_descent(\n",
      "/usr/local/lib/python3.11/dist-packages/sklearn/linear_model/_coordinate_descent.py:697: ConvergenceWarning: Objective did not converge. You might want to increase the number of iterations, check the scale of the features or consider increasing regularisation. Duality gap: 4.781e+14, tolerance: 3.420e+12\n",
      "  model = cd_fast.enet_coordinate_descent(\n"
     ]
    },
    {
     "name": "stdout",
     "output_type": "stream",
     "text": [
      "Best parameters found for Lasso:\n",
      "{'regressor__alpha': 0.16966252220214195, 'regressor__fit_intercept': False, 'regressor__max_iter': 389}\n",
      "Best score found for Lasso: 0.7946\n"
     ]
    },
    {
     "name": "stderr",
     "output_type": "stream",
     "text": [
      "/usr/local/lib/python3.11/dist-packages/sklearn/linear_model/_coordinate_descent.py:697: ConvergenceWarning: Objective did not converge. You might want to increase the number of iterations, check the scale of the features or consider increasing regularisation. Duality gap: 5.944e+14, tolerance: 4.275e+12\n",
      "  model = cd_fast.enet_coordinate_descent(\n"
     ]
    }
   ],
   "source": [
    "random_search_lasso = RandomizedSearchCV(pipeline_lasso, param_distributions=param_dist_lasso, n_iter=20, cv=5, verbose=1, n_jobs=-1, random_state=42)\n",
    "random_search_lasso.fit(X_train, y_train)\n",
    "\n",
    "print(\"Best parameters found for Lasso:\")\n",
    "print(random_search_lasso.best_params_)\n",
    "print(\"Best score found for Lasso: {:.4f}\".format(random_search_lasso.best_score_))\n",
    "\n",
    "# Predykcja na zbiorze testowym i ocena\n",
    "y_pred_lasso = random_search_lasso.predict(X_test)\n",
    "mse = mean_squared_error(y_test, y_pred_lasso)\n",
    "r2 = r2_score(y_test, y_pred_lasso)\n",
    "results.append({\n",
    "    'Model': 'Lasso',\n",
    "    'Params': random_search_lasso.best_params_,\n",
    "    'Best Score': random_search_lasso.best_score_,\n",
    "    'Mean Squared Error': mse,\n",
    "    'R2 Score': r2\n",
    "})"
   ]
  },
  {
   "cell_type": "code",
   "execution_count": 35,
   "metadata": {},
   "outputs": [
    {
     "name": "stdout",
     "output_type": "stream",
     "text": [
      "Results saved to results.txt\n"
     ]
    }
   ],
   "source": [
    "with open(r'../data/output/results.txt', 'a') as f:\n",
    "    for result in results:\n",
    "        f.write(f\"Model: {result['Model']}\\n\")\n",
    "        f.write(f\"Params: {result['Params']}\\n\")\n",
    "        f.write(f\"Best Score: {result['Best Score']:.4f}\\n\")\n",
    "        f.write(f\"Mean Squared Error: {result['Mean Squared Error']:.4f}\\n\")\n",
    "        f.write(f\"R2 Score: {result['R2 Score']:.4f}\\n\\n\")\n",
    "\n",
    "print(\"Results saved to results.txt\")"
   ]
  },
  {
   "cell_type": "markdown",
   "metadata": {},
   "source": [
    "### Ridge Regression"
   ]
  },
  {
   "cell_type": "code",
   "execution_count": 36,
   "metadata": {},
   "outputs": [],
   "source": [
    "results = []\n",
    "\n",
    "pipeline_ridge = Pipeline(steps=[\n",
    "    ('preprocessor', preprocessor),\n",
    "    ('regressor', Ridge(random_state=42))\n",
    "])\n",
    "\n",
    "# Siatka parametrów do strojenia\n",
    "param_dist_ridge = {\n",
    "    'regressor__alpha': uniform(0.01, 10.0),  # Losowy zakres wartości dla parametru alpha\n",
    "    'regressor__fit_intercept': [True, False],\n",
    "    'regressor__solver': ['svd', 'lsqr', 'sparse_cg', 'lbfsg', 'sag', 'saga']\n",
    "}"
   ]
  },
  {
   "cell_type": "code",
   "execution_count": 37,
   "metadata": {},
   "outputs": [
    {
     "name": "stdout",
     "output_type": "stream",
     "text": [
      "Fitting 5 folds for each of 20 candidates, totalling 100 fits\n"
     ]
    },
    {
     "name": "stderr",
     "output_type": "stream",
     "text": [
      "/usr/local/lib/python3.11/dist-packages/sklearn/model_selection/_validation.py:540: FitFailedWarning: \n",
      "20 fits failed out of a total of 100.\n",
      "The score on these train-test partitions for these parameters will be set to nan.\n",
      "If these failures are not expected, you can try to debug them by setting error_score='raise'.\n",
      "\n",
      "Below are more details about the failures:\n",
      "--------------------------------------------------------------------------------\n",
      "4 fits failed with the following error:\n",
      "Traceback (most recent call last):\n",
      "  File \"/usr/local/lib/python3.11/dist-packages/sklearn/model_selection/_validation.py\", line 888, in _fit_and_score\n",
      "    estimator.fit(X_train, y_train, **fit_params)\n",
      "  File \"/usr/local/lib/python3.11/dist-packages/sklearn/base.py\", line 1473, in wrapper\n",
      "    return fit_method(estimator, *args, **kwargs)\n",
      "           ^^^^^^^^^^^^^^^^^^^^^^^^^^^^^^^^^^^^^^\n",
      "  File \"/usr/local/lib/python3.11/dist-packages/sklearn/pipeline.py\", line 476, in fit\n",
      "    self._final_estimator.fit(Xt, y, **last_step_params[\"fit\"])\n",
      "  File \"/usr/local/lib/python3.11/dist-packages/sklearn/base.py\", line 1466, in wrapper\n",
      "    estimator._validate_params()\n",
      "  File \"/usr/local/lib/python3.11/dist-packages/sklearn/base.py\", line 666, in _validate_params\n",
      "    validate_parameter_constraints(\n",
      "  File \"/usr/local/lib/python3.11/dist-packages/sklearn/utils/_param_validation.py\", line 95, in validate_parameter_constraints\n",
      "    raise InvalidParameterError(\n",
      "sklearn.utils._param_validation.InvalidParameterError: The 'solver' parameter of Ridge must be a str among {'lsqr', 'svd', 'saga', 'sag', 'auto', 'lbfgs', 'sparse_cg', 'cholesky'}. Got 'lbfsg' instead.\n",
      "\n",
      "--------------------------------------------------------------------------------\n",
      "1 fits failed with the following error:\n",
      "Traceback (most recent call last):\n",
      "  File \"/usr/local/lib/python3.11/dist-packages/sklearn/model_selection/_validation.py\", line 888, in _fit_and_score\n",
      "    estimator.fit(X_train, y_train, **fit_params)\n",
      "  File \"/usr/local/lib/python3.11/dist-packages/sklearn/base.py\", line 1473, in wrapper\n",
      "    return fit_method(estimator, *args, **kwargs)\n",
      "           ^^^^^^^^^^^^^^^^^^^^^^^^^^^^^^^^^^^^^^\n",
      "  File \"/usr/local/lib/python3.11/dist-packages/sklearn/pipeline.py\", line 476, in fit\n",
      "    self._final_estimator.fit(Xt, y, **last_step_params[\"fit\"])\n",
      "  File \"/usr/local/lib/python3.11/dist-packages/sklearn/base.py\", line 1466, in wrapper\n",
      "    estimator._validate_params()\n",
      "  File \"/usr/local/lib/python3.11/dist-packages/sklearn/base.py\", line 666, in _validate_params\n",
      "    validate_parameter_constraints(\n",
      "  File \"/usr/local/lib/python3.11/dist-packages/sklearn/utils/_param_validation.py\", line 95, in validate_parameter_constraints\n",
      "    raise InvalidParameterError(\n",
      "sklearn.utils._param_validation.InvalidParameterError: The 'solver' parameter of Ridge must be a str among {'svd', 'auto', 'lsqr', 'lbfgs', 'cholesky', 'saga', 'sparse_cg', 'sag'}. Got 'lbfsg' instead.\n",
      "\n",
      "--------------------------------------------------------------------------------\n",
      "4 fits failed with the following error:\n",
      "Traceback (most recent call last):\n",
      "  File \"/usr/local/lib/python3.11/dist-packages/sklearn/model_selection/_validation.py\", line 888, in _fit_and_score\n",
      "    estimator.fit(X_train, y_train, **fit_params)\n",
      "  File \"/usr/local/lib/python3.11/dist-packages/sklearn/base.py\", line 1473, in wrapper\n",
      "    return fit_method(estimator, *args, **kwargs)\n",
      "           ^^^^^^^^^^^^^^^^^^^^^^^^^^^^^^^^^^^^^^\n",
      "  File \"/usr/local/lib/python3.11/dist-packages/sklearn/pipeline.py\", line 476, in fit\n",
      "    self._final_estimator.fit(Xt, y, **last_step_params[\"fit\"])\n",
      "  File \"/usr/local/lib/python3.11/dist-packages/sklearn/base.py\", line 1466, in wrapper\n",
      "    estimator._validate_params()\n",
      "  File \"/usr/local/lib/python3.11/dist-packages/sklearn/base.py\", line 666, in _validate_params\n",
      "    validate_parameter_constraints(\n",
      "  File \"/usr/local/lib/python3.11/dist-packages/sklearn/utils/_param_validation.py\", line 95, in validate_parameter_constraints\n",
      "    raise InvalidParameterError(\n",
      "sklearn.utils._param_validation.InvalidParameterError: The 'solver' parameter of Ridge must be a str among {'auto', 'lsqr', 'sag', 'lbfgs', 'svd', 'sparse_cg', 'cholesky', 'saga'}. Got 'lbfsg' instead.\n",
      "\n",
      "--------------------------------------------------------------------------------\n",
      "2 fits failed with the following error:\n",
      "Traceback (most recent call last):\n",
      "  File \"/usr/local/lib/python3.11/dist-packages/sklearn/model_selection/_validation.py\", line 888, in _fit_and_score\n",
      "    estimator.fit(X_train, y_train, **fit_params)\n",
      "  File \"/usr/local/lib/python3.11/dist-packages/sklearn/base.py\", line 1473, in wrapper\n",
      "    return fit_method(estimator, *args, **kwargs)\n",
      "           ^^^^^^^^^^^^^^^^^^^^^^^^^^^^^^^^^^^^^^\n",
      "  File \"/usr/local/lib/python3.11/dist-packages/sklearn/pipeline.py\", line 476, in fit\n",
      "    self._final_estimator.fit(Xt, y, **last_step_params[\"fit\"])\n",
      "  File \"/usr/local/lib/python3.11/dist-packages/sklearn/base.py\", line 1466, in wrapper\n",
      "    estimator._validate_params()\n",
      "  File \"/usr/local/lib/python3.11/dist-packages/sklearn/base.py\", line 666, in _validate_params\n",
      "    validate_parameter_constraints(\n",
      "  File \"/usr/local/lib/python3.11/dist-packages/sklearn/utils/_param_validation.py\", line 95, in validate_parameter_constraints\n",
      "    raise InvalidParameterError(\n",
      "sklearn.utils._param_validation.InvalidParameterError: The 'solver' parameter of Ridge must be a str among {'lbfgs', 'cholesky', 'lsqr', 'saga', 'sparse_cg', 'auto', 'sag', 'svd'}. Got 'lbfsg' instead.\n",
      "\n",
      "--------------------------------------------------------------------------------\n",
      "1 fits failed with the following error:\n",
      "Traceback (most recent call last):\n",
      "  File \"/usr/local/lib/python3.11/dist-packages/sklearn/model_selection/_validation.py\", line 888, in _fit_and_score\n",
      "    estimator.fit(X_train, y_train, **fit_params)\n",
      "  File \"/usr/local/lib/python3.11/dist-packages/sklearn/base.py\", line 1473, in wrapper\n",
      "    return fit_method(estimator, *args, **kwargs)\n",
      "           ^^^^^^^^^^^^^^^^^^^^^^^^^^^^^^^^^^^^^^\n",
      "  File \"/usr/local/lib/python3.11/dist-packages/sklearn/pipeline.py\", line 476, in fit\n",
      "    self._final_estimator.fit(Xt, y, **last_step_params[\"fit\"])\n",
      "  File \"/usr/local/lib/python3.11/dist-packages/sklearn/base.py\", line 1466, in wrapper\n",
      "    estimator._validate_params()\n",
      "  File \"/usr/local/lib/python3.11/dist-packages/sklearn/base.py\", line 666, in _validate_params\n",
      "    validate_parameter_constraints(\n",
      "  File \"/usr/local/lib/python3.11/dist-packages/sklearn/utils/_param_validation.py\", line 95, in validate_parameter_constraints\n",
      "    raise InvalidParameterError(\n",
      "sklearn.utils._param_validation.InvalidParameterError: The 'solver' parameter of Ridge must be a str among {'svd', 'saga', 'lsqr', 'auto', 'sag', 'cholesky', 'lbfgs', 'sparse_cg'}. Got 'lbfsg' instead.\n",
      "\n",
      "--------------------------------------------------------------------------------\n",
      "1 fits failed with the following error:\n",
      "Traceback (most recent call last):\n",
      "  File \"/usr/local/lib/python3.11/dist-packages/sklearn/model_selection/_validation.py\", line 888, in _fit_and_score\n",
      "    estimator.fit(X_train, y_train, **fit_params)\n",
      "  File \"/usr/local/lib/python3.11/dist-packages/sklearn/base.py\", line 1473, in wrapper\n",
      "    return fit_method(estimator, *args, **kwargs)\n",
      "           ^^^^^^^^^^^^^^^^^^^^^^^^^^^^^^^^^^^^^^\n",
      "  File \"/usr/local/lib/python3.11/dist-packages/sklearn/pipeline.py\", line 476, in fit\n",
      "    self._final_estimator.fit(Xt, y, **last_step_params[\"fit\"])\n",
      "  File \"/usr/local/lib/python3.11/dist-packages/sklearn/base.py\", line 1466, in wrapper\n",
      "    estimator._validate_params()\n",
      "  File \"/usr/local/lib/python3.11/dist-packages/sklearn/base.py\", line 666, in _validate_params\n",
      "    validate_parameter_constraints(\n",
      "  File \"/usr/local/lib/python3.11/dist-packages/sklearn/utils/_param_validation.py\", line 95, in validate_parameter_constraints\n",
      "    raise InvalidParameterError(\n",
      "sklearn.utils._param_validation.InvalidParameterError: The 'solver' parameter of Ridge must be a str among {'cholesky', 'auto', 'saga', 'sparse_cg', 'lbfgs', 'sag', 'svd', 'lsqr'}. Got 'lbfsg' instead.\n",
      "\n",
      "--------------------------------------------------------------------------------\n",
      "1 fits failed with the following error:\n",
      "Traceback (most recent call last):\n",
      "  File \"/usr/local/lib/python3.11/dist-packages/sklearn/model_selection/_validation.py\", line 888, in _fit_and_score\n",
      "    estimator.fit(X_train, y_train, **fit_params)\n",
      "  File \"/usr/local/lib/python3.11/dist-packages/sklearn/base.py\", line 1473, in wrapper\n",
      "    return fit_method(estimator, *args, **kwargs)\n",
      "           ^^^^^^^^^^^^^^^^^^^^^^^^^^^^^^^^^^^^^^\n",
      "  File \"/usr/local/lib/python3.11/dist-packages/sklearn/pipeline.py\", line 476, in fit\n",
      "    self._final_estimator.fit(Xt, y, **last_step_params[\"fit\"])\n",
      "  File \"/usr/local/lib/python3.11/dist-packages/sklearn/base.py\", line 1466, in wrapper\n",
      "    estimator._validate_params()\n",
      "  File \"/usr/local/lib/python3.11/dist-packages/sklearn/base.py\", line 666, in _validate_params\n",
      "    validate_parameter_constraints(\n",
      "  File \"/usr/local/lib/python3.11/dist-packages/sklearn/utils/_param_validation.py\", line 95, in validate_parameter_constraints\n",
      "    raise InvalidParameterError(\n",
      "sklearn.utils._param_validation.InvalidParameterError: The 'solver' parameter of Ridge must be a str among {'auto', 'lbfgs', 'sag', 'cholesky', 'svd', 'sparse_cg', 'lsqr', 'saga'}. Got 'lbfsg' instead.\n",
      "\n",
      "--------------------------------------------------------------------------------\n",
      "1 fits failed with the following error:\n",
      "Traceback (most recent call last):\n",
      "  File \"/usr/local/lib/python3.11/dist-packages/sklearn/model_selection/_validation.py\", line 888, in _fit_and_score\n",
      "    estimator.fit(X_train, y_train, **fit_params)\n",
      "  File \"/usr/local/lib/python3.11/dist-packages/sklearn/base.py\", line 1473, in wrapper\n",
      "    return fit_method(estimator, *args, **kwargs)\n",
      "           ^^^^^^^^^^^^^^^^^^^^^^^^^^^^^^^^^^^^^^\n",
      "  File \"/usr/local/lib/python3.11/dist-packages/sklearn/pipeline.py\", line 476, in fit\n",
      "    self._final_estimator.fit(Xt, y, **last_step_params[\"fit\"])\n",
      "  File \"/usr/local/lib/python3.11/dist-packages/sklearn/base.py\", line 1466, in wrapper\n",
      "    estimator._validate_params()\n",
      "  File \"/usr/local/lib/python3.11/dist-packages/sklearn/base.py\", line 666, in _validate_params\n",
      "    validate_parameter_constraints(\n",
      "  File \"/usr/local/lib/python3.11/dist-packages/sklearn/utils/_param_validation.py\", line 95, in validate_parameter_constraints\n",
      "    raise InvalidParameterError(\n",
      "sklearn.utils._param_validation.InvalidParameterError: The 'solver' parameter of Ridge must be a str among {'lbfgs', 'sag', 'saga', 'sparse_cg', 'svd', 'auto', 'lsqr', 'cholesky'}. Got 'lbfsg' instead.\n",
      "\n",
      "--------------------------------------------------------------------------------\n",
      "4 fits failed with the following error:\n",
      "Traceback (most recent call last):\n",
      "  File \"/usr/local/lib/python3.11/dist-packages/sklearn/model_selection/_validation.py\", line 888, in _fit_and_score\n",
      "    estimator.fit(X_train, y_train, **fit_params)\n",
      "  File \"/usr/local/lib/python3.11/dist-packages/sklearn/base.py\", line 1473, in wrapper\n",
      "    return fit_method(estimator, *args, **kwargs)\n",
      "           ^^^^^^^^^^^^^^^^^^^^^^^^^^^^^^^^^^^^^^\n",
      "  File \"/usr/local/lib/python3.11/dist-packages/sklearn/pipeline.py\", line 476, in fit\n",
      "    self._final_estimator.fit(Xt, y, **last_step_params[\"fit\"])\n",
      "  File \"/usr/local/lib/python3.11/dist-packages/sklearn/base.py\", line 1466, in wrapper\n",
      "    estimator._validate_params()\n",
      "  File \"/usr/local/lib/python3.11/dist-packages/sklearn/base.py\", line 666, in _validate_params\n",
      "    validate_parameter_constraints(\n",
      "  File \"/usr/local/lib/python3.11/dist-packages/sklearn/utils/_param_validation.py\", line 95, in validate_parameter_constraints\n",
      "    raise InvalidParameterError(\n",
      "sklearn.utils._param_validation.InvalidParameterError: The 'solver' parameter of Ridge must be a str among {'sparse_cg', 'sag', 'cholesky', 'saga', 'lsqr', 'auto', 'svd', 'lbfgs'}. Got 'lbfsg' instead.\n",
      "\n",
      "--------------------------------------------------------------------------------\n",
      "1 fits failed with the following error:\n",
      "Traceback (most recent call last):\n",
      "  File \"/usr/local/lib/python3.11/dist-packages/sklearn/model_selection/_validation.py\", line 888, in _fit_and_score\n",
      "    estimator.fit(X_train, y_train, **fit_params)\n",
      "  File \"/usr/local/lib/python3.11/dist-packages/sklearn/base.py\", line 1473, in wrapper\n",
      "    return fit_method(estimator, *args, **kwargs)\n",
      "           ^^^^^^^^^^^^^^^^^^^^^^^^^^^^^^^^^^^^^^\n",
      "  File \"/usr/local/lib/python3.11/dist-packages/sklearn/pipeline.py\", line 476, in fit\n",
      "    self._final_estimator.fit(Xt, y, **last_step_params[\"fit\"])\n",
      "  File \"/usr/local/lib/python3.11/dist-packages/sklearn/base.py\", line 1466, in wrapper\n",
      "    estimator._validate_params()\n",
      "  File \"/usr/local/lib/python3.11/dist-packages/sklearn/base.py\", line 666, in _validate_params\n",
      "    validate_parameter_constraints(\n",
      "  File \"/usr/local/lib/python3.11/dist-packages/sklearn/utils/_param_validation.py\", line 95, in validate_parameter_constraints\n",
      "    raise InvalidParameterError(\n",
      "sklearn.utils._param_validation.InvalidParameterError: The 'solver' parameter of Ridge must be a str among {'sparse_cg', 'lsqr', 'auto', 'svd', 'saga', 'cholesky', 'sag', 'lbfgs'}. Got 'lbfsg' instead.\n",
      "\n",
      "  warnings.warn(some_fits_failed_message, FitFailedWarning)\n",
      "/usr/local/lib/python3.11/dist-packages/sklearn/model_selection/_search.py:1052: UserWarning: One or more of the test scores are non-finite: [0.79459294 0.79459289 0.79459293 0.79459339        nan        nan\n",
      " 0.79459341 0.79459341 0.7945929  0.79459349 0.79459341 0.79459341\n",
      " 0.79459343        nan 0.79459338 0.79459328        nan 0.79459293\n",
      " 0.79459339 0.79459343]\n",
      "  warnings.warn(\n"
     ]
    },
    {
     "name": "stdout",
     "output_type": "stream",
     "text": [
      "Best parameters found for Ridge:\n",
      "{'regressor__alpha': 0.4766566321361543, 'regressor__fit_intercept': False, 'regressor__solver': 'saga'}\n",
      "Best score found for Ridge: 0.7946\n"
     ]
    }
   ],
   "source": [
    "random_search_ridge = RandomizedSearchCV(pipeline_ridge, param_distributions=param_dist_ridge, n_iter=20, cv=5, verbose=1, n_jobs=-1, random_state=42)\n",
    "random_search_ridge.fit(X_train, y_train)\n",
    "\n",
    "print(\"Best parameters found for Ridge:\")\n",
    "print(random_search_ridge.best_params_)\n",
    "print(\"Best score found for Ridge: {:.4f}\".format(random_search_ridge.best_score_))\n",
    "\n",
    "# Predykcja na zbiorze testowym i ocena\n",
    "y_pred_ridge = random_search_ridge.predict(X_test)\n",
    "mse = mean_squared_error(y_test, y_pred_ridge)\n",
    "r2 = r2_score(y_test, y_pred_ridge)\n",
    "results.append({\n",
    "    'Model': 'Ridge',\n",
    "    'Params': random_search_ridge.best_params_,\n",
    "    'Best Score': random_search_ridge.best_score_,\n",
    "    'Mean Squared Error': mse,\n",
    "    'R2 Score': r2\n",
    "})"
   ]
  },
  {
   "cell_type": "code",
   "execution_count": 39,
   "metadata": {},
   "outputs": [
    {
     "name": "stdout",
     "output_type": "stream",
     "text": [
      "Results saved to results.txt\n"
     ]
    }
   ],
   "source": [
    "with open(r'../data/output/results.txt', 'a') as f:\n",
    "    for result in results:\n",
    "        f.write(f\"Model: {result['Model']}\\n\")\n",
    "        f.write(f\"Params: {result['Params']}\\n\")\n",
    "        f.write(f\"Best Score: {result['Best Score']:.4f}\\n\")\n",
    "        f.write(f\"Mean Squared Error: {result['Mean Squared Error']:.4f}\\n\")\n",
    "        f.write(f\"R2 Score: {result['R2 Score']:.4f}\\n\\n\")\n",
    "\n",
    "print(\"Results saved to results.txt\")"
   ]
  },
  {
   "cell_type": "markdown",
   "metadata": {},
   "source": [
    "### Random Forest Regression\n",
    "\n",
    "We can start with GridSearch, do every iteration. This dataset isn't especially big, on my CPU 1 iteration take nearly 40 seconds (didn't incude town during mesurements). So we can try doing this with couple of estimators, features and depth, but calculating every combination will take too much time. We can solve this with 3 diffrent approaches:\n",
    "- use another libraries e.g RAPIDS cuML. This provides ability to train with GPU, this can shorten the time by a dozen or even several dozen times\n",
    "- use RandomizedSearch - instead of doing every iteration we do n iterations with random chosen parameters. Results like these can help quickly narrow down search to best ranges\n",
    "- use parallel_backend from joblib for parallel processing\n",
    "\n",
    "I'll use 2nd method and write 3rd."
   ]
  },
  {
   "cell_type": "code",
   "execution_count": 40,
   "metadata": {},
   "outputs": [],
   "source": [
    "results = []\n",
    "\n",
    "pipeline_rf = Pipeline(steps=[\n",
    "    ('preprocessor', preprocessor),\n",
    "    ('regressor', RandomForestRegressor(random_state=42))\n",
    "])\n",
    "\n",
    "param_dist_rf = {\n",
    "    'regressor__n_estimators': randint(50, 300),\n",
    "    'regressor__max_features': ['auto', 'sqrt', 'log2'],\n",
    "    'regressor__max_depth': randint(1, 10)\n",
    "}"
   ]
  },
  {
   "cell_type": "code",
   "execution_count": 41,
   "metadata": {},
   "outputs": [
    {
     "name": "stdout",
     "output_type": "stream",
     "text": [
      "Fitting 5 folds for each of 20 candidates, totalling 100 fits\n"
     ]
    },
    {
     "name": "stderr",
     "output_type": "stream",
     "text": [
      "/usr/local/lib/python3.11/dist-packages/sklearn/model_selection/_validation.py:540: FitFailedWarning: \n",
      "20 fits failed out of a total of 100.\n",
      "The score on these train-test partitions for these parameters will be set to nan.\n",
      "If these failures are not expected, you can try to debug them by setting error_score='raise'.\n",
      "\n",
      "Below are more details about the failures:\n",
      "--------------------------------------------------------------------------------\n",
      "18 fits failed with the following error:\n",
      "Traceback (most recent call last):\n",
      "  File \"/usr/local/lib/python3.11/dist-packages/sklearn/model_selection/_validation.py\", line 888, in _fit_and_score\n",
      "    estimator.fit(X_train, y_train, **fit_params)\n",
      "  File \"/usr/local/lib/python3.11/dist-packages/sklearn/base.py\", line 1473, in wrapper\n",
      "    return fit_method(estimator, *args, **kwargs)\n",
      "           ^^^^^^^^^^^^^^^^^^^^^^^^^^^^^^^^^^^^^^\n",
      "  File \"/usr/local/lib/python3.11/dist-packages/sklearn/pipeline.py\", line 476, in fit\n",
      "    self._final_estimator.fit(Xt, y, **last_step_params[\"fit\"])\n",
      "  File \"/usr/local/lib/python3.11/dist-packages/sklearn/base.py\", line 1466, in wrapper\n",
      "    estimator._validate_params()\n",
      "  File \"/usr/local/lib/python3.11/dist-packages/sklearn/base.py\", line 666, in _validate_params\n",
      "    validate_parameter_constraints(\n",
      "  File \"/usr/local/lib/python3.11/dist-packages/sklearn/utils/_param_validation.py\", line 95, in validate_parameter_constraints\n",
      "    raise InvalidParameterError(\n",
      "sklearn.utils._param_validation.InvalidParameterError: The 'max_features' parameter of RandomForestRegressor must be an int in the range [1, inf), a float in the range (0.0, 1.0], a str among {'log2', 'sqrt'} or None. Got 'auto' instead.\n",
      "\n",
      "--------------------------------------------------------------------------------\n",
      "2 fits failed with the following error:\n",
      "Traceback (most recent call last):\n",
      "  File \"/usr/local/lib/python3.11/dist-packages/sklearn/model_selection/_validation.py\", line 888, in _fit_and_score\n",
      "    estimator.fit(X_train, y_train, **fit_params)\n",
      "  File \"/usr/local/lib/python3.11/dist-packages/sklearn/base.py\", line 1473, in wrapper\n",
      "    return fit_method(estimator, *args, **kwargs)\n",
      "           ^^^^^^^^^^^^^^^^^^^^^^^^^^^^^^^^^^^^^^\n",
      "  File \"/usr/local/lib/python3.11/dist-packages/sklearn/pipeline.py\", line 476, in fit\n",
      "    self._final_estimator.fit(Xt, y, **last_step_params[\"fit\"])\n",
      "  File \"/usr/local/lib/python3.11/dist-packages/sklearn/base.py\", line 1466, in wrapper\n",
      "    estimator._validate_params()\n",
      "  File \"/usr/local/lib/python3.11/dist-packages/sklearn/base.py\", line 666, in _validate_params\n",
      "    validate_parameter_constraints(\n",
      "  File \"/usr/local/lib/python3.11/dist-packages/sklearn/utils/_param_validation.py\", line 95, in validate_parameter_constraints\n",
      "    raise InvalidParameterError(\n",
      "sklearn.utils._param_validation.InvalidParameterError: The 'max_features' parameter of RandomForestRegressor must be an int in the range [1, inf), a float in the range (0.0, 1.0], a str among {'sqrt', 'log2'} or None. Got 'auto' instead.\n",
      "\n",
      "  warnings.warn(some_fits_failed_message, FitFailedWarning)\n",
      "/usr/local/lib/python3.11/dist-packages/sklearn/model_selection/_search.py:1052: UserWarning: One or more of the test scores are non-finite: [0.69430994 0.73233995 0.54375133        nan 0.76201274 0.75945743\n",
      " 0.27849427 0.76085353 0.54590214 0.80723578 0.44892066 0.76083002\n",
      "        nan 0.61871332        nan 0.25829912 0.44021954 0.26611728\n",
      "        nan 0.78494487]\n",
      "  warnings.warn(\n"
     ]
    },
    {
     "name": "stdout",
     "output_type": "stream",
     "text": [
      "Best parameters found for RandomForestRegressor:\n",
      "{'regressor__max_depth': 9, 'regressor__max_features': 'sqrt', 'regressor__n_estimators': 94}\n",
      "Best score found for RandomForestRegressor: 0.8072\n"
     ]
    }
   ],
   "source": [
    "# Second method\n",
    "random_search_rf = RandomizedSearchCV(pipeline_rf, param_distributions=param_dist_rf, n_iter=20, cv=5, verbose=1, n_jobs=-1)\n",
    "random_search_rf.fit(X_train, y_train)\n",
    "\n",
    "print(\"Best parameters found for RandomForestRegressor:\")\n",
    "print(random_search_rf.best_params_)\n",
    "print(\"Best score found for RandomForestRegressor: {:.4f}\".format(random_search_rf.best_score_))\n",
    "\n",
    "y_pred_rf = random_search_rf.predict(X_test)\n",
    "mse = mean_squared_error(y_test, y_pred_rf)\n",
    "r2 = r2_score(y_test, y_pred_rf)\n",
    "results.append({\n",
    "    'Model': 'RandomForestRegressor',\n",
    "    'Params': random_search_rf.best_params_,\n",
    "    'Best Score': random_search_rf.best_score_,\n",
    "    'Mean Squared Error': mse,\n",
    "    'R2 Score': r2\n",
    "})"
   ]
  },
  {
   "cell_type": "code",
   "execution_count": 44,
   "metadata": {},
   "outputs": [],
   "source": [
    "# Saving results in txt file\n",
    "with open(r'../data/output/results.txt', 'a') as f:\n",
    "    for result in results:\n",
    "        f.write(f\"Model: {result['Model']}\\n\")\n",
    "        f.write(f\"Params: {result['Params']}\\n\")\n",
    "        f.write(f\"Best Score: {result['Best Score']:.4f}\\n\")\n",
    "        f.write(f\"Mean Squared Error: {result['Mean Squared Error']:.4f}\\n\")\n",
    "        f.write(f\"R2 Score: {result['R2 Score']:.4f}\\n\\n\")"
   ]
  },
  {
   "cell_type": "code",
   "execution_count": 64,
   "metadata": {},
   "outputs": [
    {
     "data": {
      "text/plain": [
       "['../data/output/models/random_forest_model.pkl']"
      ]
     },
     "execution_count": 64,
     "metadata": {},
     "output_type": "execute_result"
    }
   ],
   "source": [
    "joblib.dump(random_search_rf, r'../data/output/models/random_forest_model.pkl')"
   ]
  },
  {
   "cell_type": "markdown",
   "metadata": {},
   "source": [
    "### LightGBM"
   ]
  },
  {
   "cell_type": "code",
   "execution_count": 45,
   "metadata": {},
   "outputs": [],
   "source": [
    "results = []\n",
    "\n",
    "def objective(trial):\n",
    "    params = {\n",
    "        'n_estimators': trial.suggest_int('n_estimators', 50, 200),\n",
    "        'learning_rate': trial.suggest_uniform('learning_rate', 0.01, 0.3),\n",
    "        'num_leaves': trial.suggest_int('num_leaves', 20, 50),\n",
    "        'max_depth': trial.suggest_int('max_depth', 1, 15),\n",
    "        'min_child_samples': trial.suggest_int('min_child_samples', 20, 100),\n",
    "        'subsample': trial.suggest_uniform('subsample', 0.5, 1.0),\n",
    "        'colsample_bytree': trial.suggest_uniform('colsample_bytree', 0.5, 1.0)\n",
    "    }\n",
    "\n",
    "    model = lgb.LGBMRegressor(**params, random_state=42)\n",
    "\n",
    "    pipeline = Pipeline(steps=[\n",
    "        ('preprocessor', preprocessor),\n",
    "        ('regressor', model)\n",
    "    ])\n",
    "    \n",
    "    pipeline.fit(X_train, y_train)\n",
    "    y_pred = pipeline.predict(X_test)\n",
    "    mse = mean_squared_error(y_test, y_pred)\n",
    "    \n",
    "    return mse"
   ]
  },
  {
   "cell_type": "code",
   "execution_count": null,
   "metadata": {},
   "outputs": [],
   "source": [
    "study = optuna.create_study(direction='minimize')\n",
    "study.optimize(objective, n_trials=20)\n",
    "\n",
    "print(\"Best parameters found for LightGBM:\")\n",
    "print(study.best_params)\n",
    "\n",
    "best_params = study.best_params\n",
    "best_model = lgb.LGBMRegressor(**best_params, random_state=42)\n",
    "\n",
    "pipeline_best = Pipeline(steps=[\n",
    "    ('preprocessor', preprocessor),\n",
    "    ('regressor', best_model)\n",
    "])\n",
    "\n",
    "pipeline_best.fit(X_train, y_train)\n",
    "y_pred_best = pipeline_best.predict(X_test)\n",
    "\n",
    "mse_best = mean_squared_error(y_test, y_pred_best)\n",
    "r2_best = r2_score(y_test, y_pred_best)\n",
    "\n",
    "results = [{\n",
    "    'Model': 'LightGBM',\n",
    "    'Params': study.best_params,\n",
    "    'Mean Squared Error': mse_best,\n",
    "    'R2 Score': r2_best\n",
    "}]"
   ]
  },
  {
   "cell_type": "code",
   "execution_count": 47,
   "metadata": {},
   "outputs": [
    {
     "name": "stdout",
     "output_type": "stream",
     "text": [
      "Results saved to results.txt\n"
     ]
    }
   ],
   "source": [
    "with open(r'../data/output/results.txt', 'a') as f:\n",
    "    for result in results:\n",
    "        f.write(f\"Model: {result['Model']}\\n\")\n",
    "        f.write(f\"Params: {result['Params']}\\n\")\n",
    "        f.write(f\"Mean Squared Error: {result['Mean Squared Error']:.4f}\\n\")\n",
    "        f.write(f\"R2 Score: {result['R2 Score']:.4f}\\n\\n\")\n",
    "\n",
    "print(\"Results saved to results.txt\")"
   ]
  },
  {
   "cell_type": "code",
   "execution_count": 65,
   "metadata": {},
   "outputs": [
    {
     "data": {
      "text/plain": [
       "['../data/output/models/LightGBM_model.pkl']"
      ]
     },
     "execution_count": 65,
     "metadata": {},
     "output_type": "execute_result"
    }
   ],
   "source": [
    "# Save the model\n",
    "joblib.dump(pipeline_best, r'../data/output/models/LightGBM_model.pkl')"
   ]
  },
  {
   "cell_type": "markdown",
   "metadata": {},
   "source": [
    "### Neural Network"
   ]
  },
  {
   "cell_type": "code",
   "execution_count": 48,
   "metadata": {},
   "outputs": [
    {
     "name": "stderr",
     "output_type": "stream",
     "text": [
      "2024-06-14 17:58:23.790921: I tensorflow/core/platform/cpu_feature_guard.cc:210] This TensorFlow binary is optimized to use available CPU instructions in performance-critical operations.\n",
      "To enable the following instructions: AVX2 FMA, in other operations, rebuild TensorFlow with the appropriate compiler flags.\n"
     ]
    }
   ],
   "source": [
    "import tensorflow as tf\n",
    "from tensorflow.keras.models import Sequential\n",
    "from tensorflow.keras.layers import Dense, Dropout, BatchNormalization\n",
    "from tensorflow.keras.optimizers import Adam"
   ]
  },
  {
   "cell_type": "code",
   "execution_count": 52,
   "metadata": {},
   "outputs": [
    {
     "name": "stdout",
     "output_type": "stream",
     "text": [
      "Num GPUs Available:  0\n",
      "TensorFlow version: 2.16.1\n",
      "Error checking cuDNN version: module 'tensorflow.python.platform.build_info' has no attribute 'cudnn_version_number'\n"
     ]
    }
   ],
   "source": [
    "# Check if TensorFlow can access the GPU\n",
    "print(\"Num GPUs Available: \", len(tf.config.list_physical_devices('GPU')))\n",
    "\n",
    "# Print TensorFlow version and cuDNN version if available\n",
    "print(\"TensorFlow version:\", tf.__version__)\n",
    "\n",
    "# Check if cuDNN is properly installed\n",
    "try:\n",
    "    from tensorflow.python.platform import build_info as tf_build_info\n",
    "    print(\"cuDNN version:\", tf_build_info.cudnn_version_number)\n",
    "except Exception as e:\n",
    "    print(\"Error checking cuDNN version:\", e)"
   ]
  },
  {
   "cell_type": "code",
   "execution_count": 58,
   "metadata": {},
   "outputs": [
    {
     "name": "stdout",
     "output_type": "stream",
     "text": [
      "Epoch 1/25\n"
     ]
    },
    {
     "name": "stderr",
     "output_type": "stream",
     "text": [
      "/usr/local/lib/python3.11/dist-packages/keras/src/layers/core/dense.py:85: UserWarning: Do not pass an `input_shape`/`input_dim` argument to a layer. When using Sequential models, prefer using an `Input(shape)` object as the first layer in the model instead.\n",
      "  super().__init__(activity_regularizer=activity_regularizer, **kwargs)\n"
     ]
    },
    {
     "name": "stdout",
     "output_type": "stream",
     "text": [
      "\u001b[1m3964/3964\u001b[0m \u001b[32m━━━━━━━━━━━━━━━━━━━━\u001b[0m\u001b[37m\u001b[0m \u001b[1m15s\u001b[0m 3ms/step - loss: 84382572544.0000 - mean_squared_error: 84382572544.0000 - val_loss: 83280191488.0000 - val_mean_squared_error: 83280543744.0000\n",
      "Epoch 2/25\n",
      "\u001b[1m3964/3964\u001b[0m \u001b[32m━━━━━━━━━━━━━━━━━━━━\u001b[0m\u001b[37m\u001b[0m \u001b[1m13s\u001b[0m 3ms/step - loss: 82999836672.0000 - mean_squared_error: 82999836672.0000 - val_loss: 81308000256.0000 - val_mean_squared_error: 81308319744.0000\n",
      "Epoch 3/25\n",
      "\u001b[1m3964/3964\u001b[0m \u001b[32m━━━━━━━━━━━━━━━━━━━━\u001b[0m\u001b[37m\u001b[0m \u001b[1m13s\u001b[0m 3ms/step - loss: 81066508288.0000 - mean_squared_error: 81066508288.0000 - val_loss: 78493777920.0000 - val_mean_squared_error: 78494048256.0000\n",
      "Epoch 4/25\n",
      "\u001b[1m3964/3964\u001b[0m \u001b[32m━━━━━━━━━━━━━━━━━━━━\u001b[0m\u001b[37m\u001b[0m \u001b[1m16s\u001b[0m 4ms/step - loss: 77771055104.0000 - mean_squared_error: 77771055104.0000 - val_loss: 74836058112.0000 - val_mean_squared_error: 74836271104.0000\n",
      "Epoch 5/25\n",
      "\u001b[1m3964/3964\u001b[0m \u001b[32m━━━━━━━━━━━━━━━━━━━━\u001b[0m\u001b[37m\u001b[0m \u001b[1m16s\u001b[0m 4ms/step - loss: 74011795456.0000 - mean_squared_error: 74011795456.0000 - val_loss: 70663651328.0000 - val_mean_squared_error: 70663806976.0000\n",
      "Epoch 6/25\n",
      "\u001b[1m3964/3964\u001b[0m \u001b[32m━━━━━━━━━━━━━━━━━━━━\u001b[0m\u001b[37m\u001b[0m \u001b[1m14s\u001b[0m 4ms/step - loss: 69766250496.0000 - mean_squared_error: 69766250496.0000 - val_loss: 65897955328.0000 - val_mean_squared_error: 65898053632.0000\n",
      "Epoch 7/25\n",
      "\u001b[1m3964/3964\u001b[0m \u001b[32m━━━━━━━━━━━━━━━━━━━━\u001b[0m\u001b[37m\u001b[0m \u001b[1m17s\u001b[0m 4ms/step - loss: 64704864256.0000 - mean_squared_error: 64704864256.0000 - val_loss: 60813185024.0000 - val_mean_squared_error: 60813185024.0000\n",
      "Epoch 8/25\n",
      "\u001b[1m3964/3964\u001b[0m \u001b[32m━━━━━━━━━━━━━━━━━━━━\u001b[0m\u001b[37m\u001b[0m \u001b[1m14s\u001b[0m 4ms/step - loss: 59132813312.0000 - mean_squared_error: 59132813312.0000 - val_loss: 54999785472.0000 - val_mean_squared_error: 54999740416.0000\n",
      "Epoch 9/25\n",
      "\u001b[1m3964/3964\u001b[0m \u001b[32m━━━━━━━━━━━━━━━━━━━━\u001b[0m\u001b[37m\u001b[0m \u001b[1m15s\u001b[0m 4ms/step - loss: 53237796864.0000 - mean_squared_error: 53237796864.0000 - val_loss: 48769249280.0000 - val_mean_squared_error: 48769081344.0000\n",
      "Epoch 10/25\n",
      "\u001b[1m3964/3964\u001b[0m \u001b[32m━━━━━━━━━━━━━━━━━━━━\u001b[0m\u001b[37m\u001b[0m \u001b[1m14s\u001b[0m 4ms/step - loss: 47447019520.0000 - mean_squared_error: 47447019520.0000 - val_loss: 43306012672.0000 - val_mean_squared_error: 43305828352.0000\n",
      "Epoch 11/25\n",
      "\u001b[1m3964/3964\u001b[0m \u001b[32m━━━━━━━━━━━━━━━━━━━━\u001b[0m\u001b[37m\u001b[0m \u001b[1m14s\u001b[0m 4ms/step - loss: 41432162304.0000 - mean_squared_error: 41432162304.0000 - val_loss: 36944527360.0000 - val_mean_squared_error: 36944277504.0000\n",
      "Epoch 12/25\n",
      "\u001b[1m3964/3964\u001b[0m \u001b[32m━━━━━━━━━━━━━━━━━━━━\u001b[0m\u001b[37m\u001b[0m \u001b[1m14s\u001b[0m 3ms/step - loss: 35533299712.0000 - mean_squared_error: 35533299712.0000 - val_loss: 30856847360.0000 - val_mean_squared_error: 30856531968.0000\n",
      "Epoch 13/25\n",
      "\u001b[1m3964/3964\u001b[0m \u001b[32m━━━━━━━━━━━━━━━━━━━━\u001b[0m\u001b[37m\u001b[0m \u001b[1m14s\u001b[0m 4ms/step - loss: 30109276160.0000 - mean_squared_error: 30109276160.0000 - val_loss: 25613148160.0000 - val_mean_squared_error: 25612810240.0000\n",
      "Epoch 14/25\n",
      "\u001b[1m3964/3964\u001b[0m \u001b[32m━━━━━━━━━━━━━━━━━━━━\u001b[0m\u001b[37m\u001b[0m \u001b[1m15s\u001b[0m 4ms/step - loss: 24919314432.0000 - mean_squared_error: 24919316480.0000 - val_loss: 21260582912.0000 - val_mean_squared_error: 21260263424.0000\n",
      "Epoch 15/25\n",
      "\u001b[1m3964/3964\u001b[0m \u001b[32m━━━━━━━━━━━━━━━━━━━━\u001b[0m\u001b[37m\u001b[0m \u001b[1m15s\u001b[0m 4ms/step - loss: 20251541504.0000 - mean_squared_error: 20251541504.0000 - val_loss: 16174191616.0000 - val_mean_squared_error: 16173869056.0000\n",
      "Epoch 16/25\n",
      "\u001b[1m3964/3964\u001b[0m \u001b[32m━━━━━━━━━━━━━━━━━━━━\u001b[0m\u001b[37m\u001b[0m \u001b[1m14s\u001b[0m 4ms/step - loss: 16031989760.0000 - mean_squared_error: 16031989760.0000 - val_loss: 12997725184.0000 - val_mean_squared_error: 12997441536.0000\n",
      "Epoch 17/25\n",
      "\u001b[1m3964/3964\u001b[0m \u001b[32m━━━━━━━━━━━━━━━━━━━━\u001b[0m\u001b[37m\u001b[0m \u001b[1m22s\u001b[0m 4ms/step - loss: 12420195328.0000 - mean_squared_error: 12420196352.0000 - val_loss: 8740618240.0000 - val_mean_squared_error: 8740393984.0000\n",
      "Epoch 18/25\n",
      "\u001b[1m3964/3964\u001b[0m \u001b[32m━━━━━━━━━━━━━━━━━━━━\u001b[0m\u001b[37m\u001b[0m \u001b[1m14s\u001b[0m 4ms/step - loss: 9233243136.0000 - mean_squared_error: 9233243136.0000 - val_loss: 6773342208.0000 - val_mean_squared_error: 6773105152.0000\n",
      "Epoch 19/25\n",
      "\u001b[1m3964/3964\u001b[0m \u001b[32m━━━━━━━━━━━━━━━━━━━━\u001b[0m\u001b[37m\u001b[0m \u001b[1m14s\u001b[0m 4ms/step - loss: 6688710656.0000 - mean_squared_error: 6688710656.0000 - val_loss: 4539926528.0000 - val_mean_squared_error: 4539739648.0000\n",
      "Epoch 20/25\n",
      "\u001b[1m3964/3964\u001b[0m \u001b[32m━━━━━━━━━━━━━━━━━━━━\u001b[0m\u001b[37m\u001b[0m \u001b[1m14s\u001b[0m 4ms/step - loss: 4860717056.0000 - mean_squared_error: 4860717056.0000 - val_loss: 3163317760.0000 - val_mean_squared_error: 3163159040.0000\n",
      "Epoch 21/25\n",
      "\u001b[1m3964/3964\u001b[0m \u001b[32m━━━━━━━━━━━━━━━━━━━━\u001b[0m\u001b[37m\u001b[0m \u001b[1m16s\u001b[0m 4ms/step - loss: 3850556160.0000 - mean_squared_error: 3850556160.0000 - val_loss: 2695708160.0000 - val_mean_squared_error: 2695560448.0000\n",
      "Epoch 22/25\n",
      "\u001b[1m3964/3964\u001b[0m \u001b[32m━━━━━━━━━━━━━━━━━━━━\u001b[0m\u001b[37m\u001b[0m \u001b[1m14s\u001b[0m 4ms/step - loss: 3504082944.0000 - mean_squared_error: 3504083200.0000 - val_loss: 2640076032.0000 - val_mean_squared_error: 2639945984.0000\n",
      "Epoch 23/25\n",
      "\u001b[1m3964/3964\u001b[0m \u001b[32m━━━━━━━━━━━━━━━━━━━━\u001b[0m\u001b[37m\u001b[0m \u001b[1m14s\u001b[0m 4ms/step - loss: 3430867456.0000 - mean_squared_error: 3430867456.0000 - val_loss: 2653211392.0000 - val_mean_squared_error: 2653080064.0000\n",
      "Epoch 24/25\n",
      "\u001b[1m3964/3964\u001b[0m \u001b[32m━━━━━━━━━━━━━━━━━━━━\u001b[0m\u001b[37m\u001b[0m \u001b[1m14s\u001b[0m 4ms/step - loss: 3448562944.0000 - mean_squared_error: 3448562944.0000 - val_loss: 2606008320.0000 - val_mean_squared_error: 2605884928.0000\n",
      "Epoch 25/25\n",
      "\u001b[1m3964/3964\u001b[0m \u001b[32m━━━━━━━━━━━━━━━━━━━━\u001b[0m\u001b[37m\u001b[0m \u001b[1m14s\u001b[0m 3ms/step - loss: 3440791552.0000 - mean_squared_error: 3440791552.0000 - val_loss: 2608676864.0000 - val_mean_squared_error: 2608547328.0000\n",
      "\u001b[1m6795/6795\u001b[0m \u001b[32m━━━━━━━━━━━━━━━━━━━━\u001b[0m\u001b[37m\u001b[0m \u001b[1m10s\u001b[0m 1ms/step - loss: 2603851264.0000 - mean_squared_error: 2603851264.0000\n",
      "\n",
      "Simple Neural Network - Evaluation:\n",
      "Test MSE: 2608549888.0000\n",
      "\u001b[1m6795/6795\u001b[0m \u001b[32m━━━━━━━━━━━━━━━━━━━━\u001b[0m\u001b[37m\u001b[0m \u001b[1m10s\u001b[0m 1ms/step\n",
      "Mean Squared Error: 2608546560.0000\n",
      "R2 Score: 0.8511\n"
     ]
    }
   ],
   "source": [
    "X_train_processed = preprocessor.fit_transform(X_train)\n",
    "X_test_processed = preprocessor.transform(X_test)\n",
    "\n",
    "# Model definition\n",
    "model = Sequential([\n",
    "    Dense(64, activation='relu', input_shape=(X_train_processed.shape[1],)),\n",
    "    BatchNormalization(),\n",
    "    Dropout(0.1),\n",
    "    Dense(16, activation='relu'),\n",
    "    BatchNormalization(),\n",
    "    Dropout(0.1),\n",
    "    Dense(1, activation='linear')  # Use linear activation for regression\n",
    "])\n",
    "\n",
    "# Model compilation\n",
    "learning_rate = 0.0015\n",
    "batch_size = 128\n",
    "epochs = 25\n",
    "model.compile(optimizer=Adam(learning_rate=learning_rate),  # Adam(learning_rate=0.0003)\n",
    "              loss='mean_squared_error',  # Use mean_squared_error for regression\n",
    "              metrics=['mean_squared_error'])\n",
    "\n",
    "# Model training\n",
    "history = model.fit(X_train_processed, y_train, epochs=epochs, batch_size=batch_size, validation_data=(X_test_processed, y_test), verbose=1)\n",
    "\n",
    "# Model evaluation\n",
    "test_loss, test_mse = model.evaluate(X_test_processed, y_test, verbose=1)\n",
    "print(\"\\nSimple Neural Network - Evaluation:\")\n",
    "print(f'Test MSE: {test_mse:.4f}')\n",
    "\n",
    "# Prediction\n",
    "y_pred_nn = model.predict(X_test_processed)\n",
    "\n",
    "# Compute additional metrics\n",
    "mse_nn = mean_squared_error(y_test, y_pred_nn)\n",
    "r2_nn = r2_score(y_test, y_pred_nn)\n",
    "\n",
    "print(f'Mean Squared Error: {mse_nn:.4f}')\n",
    "print(f'R2 Score: {r2_nn:.4f}')\n",
    "\n",
    "# Save results to a file with additional parameters\n",
    "results = [{\n",
    "    'Model': 'Simple Neural Network',\n",
    "    'Mean Squared Error': mse_nn,\n",
    "    'R2 Score': r2_nn,\n",
    "    'Model Architecture': [\n",
    "        {'layer_type': 'Dense', 'units': 64, 'activation': 'relu'},\n",
    "        {'layer_type': 'BatchNormalization'},\n",
    "        {'layer_type': 'Dropout', 'rate': 0.1},\n",
    "        {'layer_type': 'Dense', 'units': 16, 'activation': 'relu'},\n",
    "        {'layer_type': 'BatchNormalization'},\n",
    "        {'layer_type': 'Dropout', 'rate': 0.1},\n",
    "        {'layer_type': 'Dense', 'units': 1, 'activation': 'linear'}\n",
    "    ],\n",
    "    'Optimizer': 'Adam',\n",
    "    'Learning Rate': learning_rate,\n",
    "    'Batch Size': batch_size,\n",
    "    'Epochs': epochs\n",
    "}]\n"
   ]
  },
  {
   "cell_type": "code",
   "execution_count": 59,
   "metadata": {},
   "outputs": [
    {
     "data": {
      "image/png": "[encoded data removed]",
      "text/plain": [
       "<Figure size 1200x600 with 1 Axes>"
      ]
     },
     "metadata": {},
     "output_type": "display_data"
    }
   ],
   "source": [
    "plt.figure(figsize=(12, 6))\n",
    "plt.plot(history.history['loss'], label='Training Loss')\n",
    "plt.plot(history.history['val_loss'], label='Validation Loss')\n",
    "plt.title('Training and Validation Loss')\n",
    "plt.xlabel('Epochs')\n",
    "plt.ylabel('Loss')\n",
    "plt.legend()\n",
    "plt.show()"
   ]
  },
  {
   "cell_type": "code",
   "execution_count": 60,
   "metadata": {},
   "outputs": [
    {
     "name": "stdout",
     "output_type": "stream",
     "text": [
      "Results appended to results.txt\n"
     ]
    }
   ],
   "source": [
    "with open('../data/output/results.txt', 'a') as f:\n",
    "    for result in results:\n",
    "        f.write(f\"Model: {result['Model']}\\n\")\n",
    "        f.write(f\"Mean Squared Error: {result['Mean Squared Error']:.4f}\\n\")\n",
    "        f.write(f\"R2 Score: {result['R2 Score']:.4f}\\n\")\n",
    "        f.write(f\"Model Architecture: {result['Model Architecture']}\\n\")\n",
    "        f.write(f\"Optimizer: {result['Optimizer']}\\n\")\n",
    "        f.write(f\"Learning Rate: {result['Learning Rate']}\\n\")\n",
    "        f.write(f\"Batch Size: {result['Batch Size']}\\n\")\n",
    "        f.write(f\"Epochs: {result['Epochs']}\\n\")\n",
    "        f.write(\"\\n\")\n",
    "\n",
    "print(\"Results appended to results.txt\")"
   ]
  },
  {
   "cell_type": "code",
   "execution_count": 61,
   "metadata": {},
   "outputs": [
    {
     "name": "stderr",
     "output_type": "stream",
     "text": [
      "WARNING:absl:You are saving your model as an HDF5 file via `model.save()` or `keras.saving.save_model(model)`. This file format is considered legacy. We recommend using instead the native Keras format, e.g. `model.save('my_model.keras')` or `keras.saving.save_model(model, 'my_model.keras')`. \n"
     ]
    },
    {
     "name": "stdout",
     "output_type": "stream",
     "text": [
      "Model saved as 'simple_nn_model.h5'\n"
     ]
    }
   ],
   "source": [
    "\n",
    "# Save the model\n",
    "model.save(r'../data/output/models/nn_model.h5')\n",
    "print(\"Model saved as 'simple_nn_model.h5'\")\n"
   ]
  }
 ],
 "metadata": {
  "kernelspec": {
   "display_name": "Python 3",
   "language": "python",
   "name": "python3"
  },
  "language_info": {
   "codemirror_mode": {
    "name": "ipython",
    "version": 3
   },
   "file_extension": ".py",
   "mimetype": "text/x-python",
   "name": "python",
   "nbconvert_exporter": "python",
   "pygments_lexer": "ipython3",
   "version": "3.11.0rc1"
  }
 },
 "nbformat": 4,
 "nbformat_minor": 2
}
