{
 "cells": [
  {
   "cell_type": "markdown",
   "metadata": {},
   "source": [
    "# House price analysis\n",
    "\n",
    "The dataset used in this project proved to be largely uninformative, as it lacked essential features necessary for accurately determining property values, such as the number of rooms, bathrooms, or bedrooms. Consequently, the analysis could only reveal broad trends based on location, property type, and date. However, the project served primarily as a proof of concept for handling and processing data. The inherent limitations of the dataset provided a valuable opportunity to tackle a challenging scenario and demonstrate effective data analysis workflows despite suboptimal conditions."
   ]
  },
  {
   "cell_type": "markdown",
   "metadata": {},
   "source": [
    "## Overview\n",
    "\n",
    "The goal of this project is to predict house prices based on collected data from the Connecticut State. The dataset covers the years 2001 to 2020 and includes various features relevant to house prices. More detailed information about the dataset can be found at the following link:\n",
    "\n",
    "Source data: https://www.kaggle.com/datasets/joebeachcapital/house-prices-2001-2020/data\n",
    "\n",
    "The first step is to import all necessary libraries. At this stage, we will import the packages required for data overview and cleaning. In subsequent sections, we will import additional libraries as needed for modeling and evaluation."
   ]
  },
  {
   "cell_type": "code",
   "execution_count": 1,
   "metadata": {},
   "outputs": [],
   "source": [
    "import pandas as pd\n",
    "import numpy as np\n",
    "import matplotlib.pyplot as plt \n",
    "import seaborn as sns"
   ]
  },
  {
   "cell_type": "markdown",
   "metadata": {},
   "source": [
    "## Discovering the dataset\n",
    "\n",
    "This section focuses on exploring the dataset to understand its structure and content. We will examine the data types of each column and generate summary statistics."
   ]
  },
  {
   "cell_type": "code",
   "execution_count": 3,
   "metadata": {},
   "outputs": [
    {
     "name": "stderr",
     "output_type": "stream",
     "text": [
      "C:\\Users\\Prezes\\AppData\\Local\\Temp\\ipykernel_7580\\677864093.py:2: DtypeWarning: Columns (8,9,10,11,12) have mixed types. Specify dtype option on import or set low_memory=False.\n",
      "  df = pd.read_csv(r'../data/input/Real_Estate_Sales_2001-2020_GL.csv')\n"
     ]
    },
    {
     "data": {
      "text/html": [
       "<div>\n",
       "<style scoped>\n",
       "    .dataframe tbody tr th:only-of-type {\n",
       "        vertical-align: middle;\n",
       "    }\n",
       "\n",
       "    .dataframe tbody tr th {\n",
       "        vertical-align: top;\n",
       "    }\n",
       "\n",
       "    .dataframe thead th {\n",
       "        text-align: right;\n",
       "    }\n",
       "</style>\n",
       "<table border=\"1\" class=\"dataframe\">\n",
       "  <thead>\n",
       "    <tr style=\"text-align: right;\">\n",
       "      <th></th>\n",
       "      <th>Serial Number</th>\n",
       "      <th>List Year</th>\n",
       "      <th>Date Recorded</th>\n",
       "      <th>Town</th>\n",
       "      <th>Address</th>\n",
       "      <th>Assessed Value</th>\n",
       "      <th>Sale Amount</th>\n",
       "      <th>Sales Ratio</th>\n",
       "      <th>Property Type</th>\n",
       "      <th>Residential Type</th>\n",
       "      <th>Non Use Code</th>\n",
       "      <th>Assessor Remarks</th>\n",
       "      <th>OPM remarks</th>\n",
       "      <th>Location</th>\n",
       "    </tr>\n",
       "  </thead>\n",
       "  <tbody>\n",
       "    <tr>\n",
       "      <th>0</th>\n",
       "      <td>2020348</td>\n",
       "      <td>2020</td>\n",
       "      <td>09/13/2021</td>\n",
       "      <td>Ansonia</td>\n",
       "      <td>230 WAKELEE AVE</td>\n",
       "      <td>150500.0</td>\n",
       "      <td>325000.0</td>\n",
       "      <td>0.4630</td>\n",
       "      <td>Commercial</td>\n",
       "      <td>NaN</td>\n",
       "      <td>NaN</td>\n",
       "      <td>NaN</td>\n",
       "      <td>NaN</td>\n",
       "      <td>NaN</td>\n",
       "    </tr>\n",
       "    <tr>\n",
       "      <th>1</th>\n",
       "      <td>20002</td>\n",
       "      <td>2020</td>\n",
       "      <td>10/02/2020</td>\n",
       "      <td>Ashford</td>\n",
       "      <td>390 TURNPIKE RD</td>\n",
       "      <td>253000.0</td>\n",
       "      <td>430000.0</td>\n",
       "      <td>0.5883</td>\n",
       "      <td>Residential</td>\n",
       "      <td>Single Family</td>\n",
       "      <td>NaN</td>\n",
       "      <td>NaN</td>\n",
       "      <td>NaN</td>\n",
       "      <td>NaN</td>\n",
       "    </tr>\n",
       "    <tr>\n",
       "      <th>2</th>\n",
       "      <td>200212</td>\n",
       "      <td>2020</td>\n",
       "      <td>03/09/2021</td>\n",
       "      <td>Avon</td>\n",
       "      <td>5 CHESTNUT DRIVE</td>\n",
       "      <td>130400.0</td>\n",
       "      <td>179900.0</td>\n",
       "      <td>0.7248</td>\n",
       "      <td>Residential</td>\n",
       "      <td>Condo</td>\n",
       "      <td>NaN</td>\n",
       "      <td>NaN</td>\n",
       "      <td>NaN</td>\n",
       "      <td>NaN</td>\n",
       "    </tr>\n",
       "    <tr>\n",
       "      <th>3</th>\n",
       "      <td>200243</td>\n",
       "      <td>2020</td>\n",
       "      <td>04/13/2021</td>\n",
       "      <td>Avon</td>\n",
       "      <td>111 NORTHINGTON DRIVE</td>\n",
       "      <td>619290.0</td>\n",
       "      <td>890000.0</td>\n",
       "      <td>0.6958</td>\n",
       "      <td>Residential</td>\n",
       "      <td>Single Family</td>\n",
       "      <td>NaN</td>\n",
       "      <td>NaN</td>\n",
       "      <td>NaN</td>\n",
       "      <td>NaN</td>\n",
       "    </tr>\n",
       "    <tr>\n",
       "      <th>4</th>\n",
       "      <td>200377</td>\n",
       "      <td>2020</td>\n",
       "      <td>07/02/2021</td>\n",
       "      <td>Avon</td>\n",
       "      <td>70 FAR HILLS DRIVE</td>\n",
       "      <td>862330.0</td>\n",
       "      <td>1447500.0</td>\n",
       "      <td>0.5957</td>\n",
       "      <td>Residential</td>\n",
       "      <td>Single Family</td>\n",
       "      <td>NaN</td>\n",
       "      <td>NaN</td>\n",
       "      <td>NaN</td>\n",
       "      <td>NaN</td>\n",
       "    </tr>\n",
       "  </tbody>\n",
       "</table>\n",
       "</div>"
      ],
      "text/plain": [
       "   Serial Number  List Year Date Recorded     Town                Address  \\\n",
       "0        2020348       2020    09/13/2021  Ansonia        230 WAKELEE AVE   \n",
       "1          20002       2020    10/02/2020  Ashford        390 TURNPIKE RD   \n",
       "2         200212       2020    03/09/2021     Avon       5 CHESTNUT DRIVE   \n",
       "3         200243       2020    04/13/2021     Avon  111 NORTHINGTON DRIVE   \n",
       "4         200377       2020    07/02/2021     Avon     70 FAR HILLS DRIVE   \n",
       "\n",
       "   Assessed Value  Sale Amount  Sales Ratio Property Type Residential Type  \\\n",
       "0        150500.0     325000.0       0.4630    Commercial              NaN   \n",
       "1        253000.0     430000.0       0.5883   Residential    Single Family   \n",
       "2        130400.0     179900.0       0.7248   Residential            Condo   \n",
       "3        619290.0     890000.0       0.6958   Residential    Single Family   \n",
       "4        862330.0    1447500.0       0.5957   Residential    Single Family   \n",
       "\n",
       "  Non Use Code Assessor Remarks OPM remarks Location  \n",
       "0          NaN              NaN         NaN      NaN  \n",
       "1          NaN              NaN         NaN      NaN  \n",
       "2          NaN              NaN         NaN      NaN  \n",
       "3          NaN              NaN         NaN      NaN  \n",
       "4          NaN              NaN         NaN      NaN  "
      ]
     },
     "execution_count": 3,
     "metadata": {},
     "output_type": "execute_result"
    }
   ],
   "source": [
    "# Load data as DataFrame\n",
    "df = pd.read_csv(r'../data/input/Real_Estate_Sales_2001-2020_GL.csv')\n",
    "df.head()"
   ]
  },
  {
   "cell_type": "code",
   "execution_count": 4,
   "metadata": {},
   "outputs": [
    {
     "name": "stdout",
     "output_type": "stream",
     "text": [
      "<class 'pandas.core.frame.DataFrame'>\n",
      "RangeIndex: 997213 entries, 0 to 997212\n",
      "Data columns (total 14 columns):\n",
      " #   Column            Non-Null Count   Dtype  \n",
      "---  ------            --------------   -----  \n",
      " 0   Serial Number     997213 non-null  int64  \n",
      " 1   List Year         997213 non-null  int64  \n",
      " 2   Date Recorded     997211 non-null  object \n",
      " 3   Town              997213 non-null  object \n",
      " 4   Address           997162 non-null  object \n",
      " 5   Assessed Value    997213 non-null  float64\n",
      " 6   Sale Amount       997213 non-null  float64\n",
      " 7   Sales Ratio       997213 non-null  float64\n",
      " 8   Property Type     614767 non-null  object \n",
      " 9   Residential Type  608904 non-null  object \n",
      " 10  Non Use Code      289681 non-null  object \n",
      " 11  Assessor Remarks  149864 non-null  object \n",
      " 12  OPM remarks       9934 non-null    object \n",
      " 13  Location          197697 non-null  object \n",
      "dtypes: float64(3), int64(2), object(9)\n",
      "memory usage: 106.5+ MB\n"
     ]
    }
   ],
   "source": [
    "df.info()"
   ]
  },
  {
   "cell_type": "code",
   "execution_count": 5,
   "metadata": {},
   "outputs": [
    {
     "data": {
      "text/html": [
       "<div>\n",
       "<style scoped>\n",
       "    .dataframe tbody tr th:only-of-type {\n",
       "        vertical-align: middle;\n",
       "    }\n",
       "\n",
       "    .dataframe tbody tr th {\n",
       "        vertical-align: top;\n",
       "    }\n",
       "\n",
       "    .dataframe thead th {\n",
       "        text-align: right;\n",
       "    }\n",
       "</style>\n",
       "<table border=\"1\" class=\"dataframe\">\n",
       "  <thead>\n",
       "    <tr style=\"text-align: right;\">\n",
       "      <th></th>\n",
       "      <th>Serial Number</th>\n",
       "      <th>List Year</th>\n",
       "      <th>Assessed Value</th>\n",
       "      <th>Sale Amount</th>\n",
       "      <th>Sales Ratio</th>\n",
       "    </tr>\n",
       "  </thead>\n",
       "  <tbody>\n",
       "    <tr>\n",
       "      <th>count</th>\n",
       "      <td>9.972130e+05</td>\n",
       "      <td>997213.000000</td>\n",
       "      <td>9.972130e+05</td>\n",
       "      <td>9.972130e+05</td>\n",
       "      <td>9.972130e+05</td>\n",
       "    </tr>\n",
       "    <tr>\n",
       "      <th>mean</th>\n",
       "      <td>4.311864e+05</td>\n",
       "      <td>2010.189829</td>\n",
       "      <td>2.791437e+05</td>\n",
       "      <td>3.911512e+05</td>\n",
       "      <td>1.044637e+01</td>\n",
       "    </tr>\n",
       "    <tr>\n",
       "      <th>std</th>\n",
       "      <td>6.549219e+06</td>\n",
       "      <td>6.237877</td>\n",
       "      <td>1.670610e+06</td>\n",
       "      <td>5.347270e+06</td>\n",
       "      <td>1.890192e+03</td>\n",
       "    </tr>\n",
       "    <tr>\n",
       "      <th>min</th>\n",
       "      <td>0.000000e+00</td>\n",
       "      <td>2001.000000</td>\n",
       "      <td>0.000000e+00</td>\n",
       "      <td>0.000000e+00</td>\n",
       "      <td>0.000000e+00</td>\n",
       "    </tr>\n",
       "    <tr>\n",
       "      <th>25%</th>\n",
       "      <td>3.044400e+04</td>\n",
       "      <td>2004.000000</td>\n",
       "      <td>8.760000e+04</td>\n",
       "      <td>1.400000e+05</td>\n",
       "      <td>4.867000e-01</td>\n",
       "    </tr>\n",
       "    <tr>\n",
       "      <th>50%</th>\n",
       "      <td>7.030300e+04</td>\n",
       "      <td>2010.000000</td>\n",
       "      <td>1.383900e+05</td>\n",
       "      <td>2.250000e+05</td>\n",
       "      <td>6.246000e-01</td>\n",
       "    </tr>\n",
       "    <tr>\n",
       "      <th>75%</th>\n",
       "      <td>1.518780e+05</td>\n",
       "      <td>2016.000000</td>\n",
       "      <td>2.255600e+05</td>\n",
       "      <td>3.650000e+05</td>\n",
       "      <td>7.852761e-01</td>\n",
       "    </tr>\n",
       "    <tr>\n",
       "      <th>max</th>\n",
       "      <td>2.000500e+09</td>\n",
       "      <td>2020.000000</td>\n",
       "      <td>8.815100e+08</td>\n",
       "      <td>5.000000e+09</td>\n",
       "      <td>1.226420e+06</td>\n",
       "    </tr>\n",
       "  </tbody>\n",
       "</table>\n",
       "</div>"
      ],
      "text/plain": [
       "       Serial Number      List Year  Assessed Value   Sale Amount  \\\n",
       "count   9.972130e+05  997213.000000    9.972130e+05  9.972130e+05   \n",
       "mean    4.311864e+05    2010.189829    2.791437e+05  3.911512e+05   \n",
       "std     6.549219e+06       6.237877    1.670610e+06  5.347270e+06   \n",
       "min     0.000000e+00    2001.000000    0.000000e+00  0.000000e+00   \n",
       "25%     3.044400e+04    2004.000000    8.760000e+04  1.400000e+05   \n",
       "50%     7.030300e+04    2010.000000    1.383900e+05  2.250000e+05   \n",
       "75%     1.518780e+05    2016.000000    2.255600e+05  3.650000e+05   \n",
       "max     2.000500e+09    2020.000000    8.815100e+08  5.000000e+09   \n",
       "\n",
       "        Sales Ratio  \n",
       "count  9.972130e+05  \n",
       "mean   1.044637e+01  \n",
       "std    1.890192e+03  \n",
       "min    0.000000e+00  \n",
       "25%    4.867000e-01  \n",
       "50%    6.246000e-01  \n",
       "75%    7.852761e-01  \n",
       "max    1.226420e+06  "
      ]
     },
     "execution_count": 5,
     "metadata": {},
     "output_type": "execute_result"
    }
   ],
   "source": [
    "df.describe()"
   ]
  },
  {
   "cell_type": "code",
   "execution_count": 6,
   "metadata": {},
   "outputs": [
    {
     "data": {
      "text/plain": [
       "array(['Residential', 'Commercial', 'Vacant Land', 'Public Utility',\n",
       "       'Apartments', nan, 'Industrial', 'Condo', 'Two Family',\n",
       "       'Single Family', 'Three Family', 'Four Family'], dtype=object)"
      ]
     },
     "execution_count": 6,
     "metadata": {},
     "output_type": "execute_result"
    }
   ],
   "source": [
    "df['Property Type'].unique()"
   ]
  },
  {
   "cell_type": "code",
   "execution_count": 7,
   "metadata": {},
   "outputs": [
    {
     "data": {
      "image/png": "[encoded data removed]",
      "text/plain": [
       "<Figure size 1600x400 with 1 Axes>"
      ]
     },
     "metadata": {},
     "output_type": "display_data"
    }
   ],
   "source": [
    "plt.figure(figsize=(16,4))\n",
    "sns.histplot(data=df, x='Property Type')\n",
    "plt.ylabel('Count')\n",
    "plt.title('Property Type')\n",
    "plt.show()"
   ]
  },
  {
   "cell_type": "code",
   "execution_count": 8,
   "metadata": {},
   "outputs": [
    {
     "data": {
      "text/plain": [
       "array(['Single Family', 'Three Family', nan, 'Two Family', 'Condo',\n",
       "       'Four Family'], dtype=object)"
      ]
     },
     "execution_count": 8,
     "metadata": {},
     "output_type": "execute_result"
    }
   ],
   "source": [
    "df['Residential Type'].unique()"
   ]
  },
  {
   "cell_type": "code",
   "execution_count": 9,
   "metadata": {},
   "outputs": [
    {
     "data": {
      "image/png": "[encoded data removed]",
      "text/plain": [
       "<Figure size 1600x400 with 1 Axes>"
      ]
     },
     "metadata": {},
     "output_type": "display_data"
    }
   ],
   "source": [
    "plt.figure(figsize=(16,4))\n",
    "sns.histplot(data=df, x='Residential Type')\n",
    "plt.ylabel('Count')\n",
    "plt.title('Residential Type')\n",
    "plt.show()"
   ]
  },
  {
   "cell_type": "code",
   "execution_count": 10,
   "metadata": {},
   "outputs": [
    {
     "data": {
      "text/plain": [
       "170"
      ]
     },
     "execution_count": 10,
     "metadata": {},
     "output_type": "execute_result"
    }
   ],
   "source": [
    "# df['Town'].unique()\n",
    "\n",
    "len(df['Town'].unique())"
   ]
  },
  {
   "cell_type": "markdown",
   "metadata": {},
   "source": [
    "## Data Cleaning and Wrangling\n",
    "\n",
    "In this chapter, we focus on preparing our dataset for analysis and modeling. Proper data cleaning and wrangling are essential steps to ensure the quality and accuracy of our predictions. We will address issues such as duplicates, outliers, and missing values, and transform the data into a more usable format."
   ]
  },
  {
   "cell_type": "markdown",
   "metadata": {},
   "source": [
    "### Duplicates\n",
    "\n",
    "In this section, we will identify and remove any duplicate records from our dataset to ensure that each observation is unique and contributes meaningful information."
   ]
  },
  {
   "cell_type": "code",
   "execution_count": 11,
   "metadata": {},
   "outputs": [
    {
     "data": {
      "text/html": [
       "<div>\n",
       "<style scoped>\n",
       "    .dataframe tbody tr th:only-of-type {\n",
       "        vertical-align: middle;\n",
       "    }\n",
       "\n",
       "    .dataframe tbody tr th {\n",
       "        vertical-align: top;\n",
       "    }\n",
       "\n",
       "    .dataframe thead th {\n",
       "        text-align: right;\n",
       "    }\n",
       "</style>\n",
       "<table border=\"1\" class=\"dataframe\">\n",
       "  <thead>\n",
       "    <tr style=\"text-align: right;\">\n",
       "      <th></th>\n",
       "      <th>Serial Number</th>\n",
       "      <th>List Year</th>\n",
       "      <th>Date Recorded</th>\n",
       "      <th>Town</th>\n",
       "      <th>Address</th>\n",
       "      <th>Assessed Value</th>\n",
       "      <th>Sale Amount</th>\n",
       "      <th>Sales Ratio</th>\n",
       "      <th>Property Type</th>\n",
       "      <th>Residential Type</th>\n",
       "      <th>Non Use Code</th>\n",
       "      <th>Assessor Remarks</th>\n",
       "      <th>OPM remarks</th>\n",
       "      <th>Location</th>\n",
       "    </tr>\n",
       "  </thead>\n",
       "  <tbody>\n",
       "  </tbody>\n",
       "</table>\n",
       "</div>"
      ],
      "text/plain": [
       "Empty DataFrame\n",
       "Columns: [Serial Number, List Year, Date Recorded, Town, Address, Assessed Value, Sale Amount, Sales Ratio, Property Type, Residential Type, Non Use Code, Assessor Remarks, OPM remarks, Location]\n",
       "Index: []"
      ]
     },
     "execution_count": 11,
     "metadata": {},
     "output_type": "execute_result"
    }
   ],
   "source": [
    "duplicate_rows = df[df.duplicated(keep='first')]\n",
    "duplicate_rows"
   ]
  },
  {
   "cell_type": "code",
   "execution_count": 12,
   "metadata": {},
   "outputs": [
    {
     "data": {
      "text/plain": [
       "(0, 14)"
      ]
     },
     "execution_count": 12,
     "metadata": {},
     "output_type": "execute_result"
    }
   ],
   "source": [
    "duplicate_rows.shape"
   ]
  },
  {
   "cell_type": "markdown",
   "metadata": {},
   "source": [
    "There are no duplicates, so this part is finished."
   ]
  },
  {
   "cell_type": "markdown",
   "metadata": {},
   "source": [
    "### Outliers\n",
    "Outliers are data points that differ significantly from other observations and can distort statistical analyses and model performance. We will detect and handle outliers by either removing them or transforming the data to minimize their impact.\n",
    "\n",
    "**Example**:\n",
    "The estimated value of a house was $100 because it was dilapidated in a bad neighborhood and was purchased for $12.000. Because of that we have sales ratio equal to 120, very low assessed value and quite low sale amount compared to the dataset. There are cases where house was saled for $5 000.000.000 while mean vale of house is $390.000. Some models can generalize this fact.\n",
    "\n",
    "Sometimes a given feature  (e.g. being a nobel prize winner in physis) is so rare that we don't have enough observations that have it for the model to draw conclusion from it. Sometimes we can decide to combine such small subpopulations, especially if we suspect that they don't show significant differences. However in our case we can drop outliers."
   ]
  },
  {
   "cell_type": "code",
   "execution_count": 21,
   "metadata": {},
   "outputs": [
    {
     "data": {
      "text/plain": [
       "<Axes: title={'center': 'Sales per year'}, xlabel='List Year'>"
      ]
     },
     "execution_count": 21,
     "metadata": {},
     "output_type": "execute_result"
    },
    {
     "data": {
      "image/png": "[encoded data removed]",
      "text/plain": [
       "<Figure size 640x480 with 1 Axes>"
      ]
     },
     "metadata": {},
     "output_type": "display_data"
    }
   ],
   "source": [
    "df['List Year'].value_counts().sort_index().plot(kind='bar',\n",
    "                                            label='Year',\n",
    "                                            title='Sales per year')"
   ]
  },
  {
   "cell_type": "code",
   "execution_count": 22,
   "metadata": {},
   "outputs": [
    {
     "data": {
      "image/png": "[encoded data removed]",
      "text/plain": [
       "<Figure size 1600x400 with 1 Axes>"
      ]
     },
     "metadata": {},
     "output_type": "display_data"
    }
   ],
   "source": [
    "plt.figure(figsize=(16,4))\n",
    "sns.histplot(data=df, x='Assessed Value', bins=500)\n",
    "# plt.yscale('log')\n",
    "# plt.xscale('log')\n",
    "plt.ylabel('Count')\n",
    "plt.title('Assessed Value')\n",
    "plt.show()"
   ]
  },
  {
   "cell_type": "code",
   "execution_count": 15,
   "metadata": {},
   "outputs": [
    {
     "name": "stdout",
     "output_type": "stream",
     "text": [
      "Assessed value, quantile 0.05 30450.0\n",
      "Assessed value, quantile 0.95 660590.0\n"
     ]
    }
   ],
   "source": [
    "print('Assessed value, quantile 0.05', df['Assessed Value'].quantile(.05))\n",
    "print('Assessed value, quantile 0.95', df['Assessed Value'].quantile(.95))"
   ]
  },
  {
   "cell_type": "code",
   "execution_count": 23,
   "metadata": {},
   "outputs": [
    {
     "data": {
      "image/png": "[encoded data removed]",
      "text/plain": [
       "<Figure size 1600x400 with 1 Axes>"
      ]
     },
     "metadata": {},
     "output_type": "display_data"
    }
   ],
   "source": [
    "plt.figure(figsize=(16,4))\n",
    "sns.histplot(data=df, x='Sale Amount', bins=100)\n",
    "# plt.yscale('log')\n",
    "plt.ylabel('Count')\n",
    "plt.title('Sale Amount')\n",
    "plt.show()"
   ]
  },
  {
   "cell_type": "code",
   "execution_count": 17,
   "metadata": {},
   "outputs": [
    {
     "name": "stdout",
     "output_type": "stream",
     "text": [
      "Sale Amount, quantile 0.05 44305.40000000005\n",
      "Sale Amount, quantile 0.95 975000.0\n"
     ]
    }
   ],
   "source": [
    "df.loc[df['Sale Amount']>1E7].shape\n",
    "print('Sale Amount, quantile 0.05', df['Sale Amount'].quantile(.05))\n",
    "print('Sale Amount, quantile 0.95', df['Sale Amount'].quantile(.95))"
   ]
  },
  {
   "cell_type": "code",
   "execution_count": 24,
   "metadata": {},
   "outputs": [
    {
     "data": {
      "image/png": "[encoded data removed]",
      "text/plain": [
       "<Figure size 1600x400 with 1 Axes>"
      ]
     },
     "metadata": {},
     "output_type": "display_data"
    }
   ],
   "source": [
    "plt.figure(figsize=(16,4))\n",
    "sns.histplot(data=df, x='Sales Ratio', bins=20)\n",
    "# plt.yscale('log')\n",
    "plt.ylabel('Count')\n",
    "plt.title('Sales Ratio = Assessed Value / Sale Amount')\n",
    "plt.show()"
   ]
  },
  {
   "cell_type": "code",
   "execution_count": 19,
   "metadata": {},
   "outputs": [
    {
     "name": "stdout",
     "output_type": "stream",
     "text": [
      "Sales Ratio, quantile 0.05 0.2716\n",
      "Sales Ratio, quantile 0.95 1.686741677599995\n"
     ]
    }
   ],
   "source": [
    "print('Sales Ratio, quantile 0.05', df['Sales Ratio'].quantile(.05))\n",
    "print('Sales Ratio, quantile 0.95', df['Sales Ratio'].quantile(.95))"
   ]
  },
  {
   "cell_type": "markdown",
   "metadata": {},
   "source": [
    "Having informations about outliers we can remove those records from the dataset. On the other hand we also can try to group them with mask function and compare final results.\n",
    "\n",
    "After that we can run again previous code (plots)."
   ]
  },
  {
   "cell_type": "code",
   "execution_count": 20,
   "metadata": {},
   "outputs": [],
   "source": [
    "# # Grouping small groups\n",
    "# df['Assessed Value'] = df['Assessed Value'].mask(df['Assessed Value'] > 1E7, 1E7)\n",
    "# df['Assessed Value'] = df['Assessed Value'].mask(df['Assessed Value'] < 1E4, 1E4)\n",
    "\n",
    "# df['Sale Amount'] = df['Sale Amount'].mask(df['Sale Amount'] > 1E7, 1E7)\n",
    "# df['Sale Amount'] = df['Sale Amount'].mask(df['Sale Amount'] < 1E4, 1E4)\n",
    "\n",
    "# df['Sales Ratio'] = df['Assessed Value'] / df['Sale Amount']\n",
    "\n",
    "# Removing outliers\n",
    "df = df.loc[(df['Assessed Value']>df['Assessed Value'].quantile(.05)) & (df['Assessed Value']<df['Assessed Value'].quantile(.95)) &\n",
    "            (df['Sale Amount']>df['Sale Amount'].quantile(.05)) & (df['Sale Amount']<df['Sale Amount'].quantile(.95)) &\n",
    "            (df['Sales Ratio']>df['Sales Ratio'].quantile(.05)) & (df['Sales Ratio']<df['Sales Ratio'].quantile(.95))]\n"
   ]
  },
  {
   "cell_type": "code",
   "execution_count": 25,
   "metadata": {},
   "outputs": [
    {
     "data": {
      "text/plain": [
       "(817368, 14)"
      ]
     },
     "execution_count": 25,
     "metadata": {},
     "output_type": "execute_result"
    }
   ],
   "source": [
    "df.shape"
   ]
  },
  {
   "cell_type": "markdown",
   "metadata": {},
   "source": [
    "### NA Values & Data Wrangling\n",
    "\n",
    "This section will cover methods to handle NA values, like imputation, removal, and other techniques to ensure that our dataset remains robust and complete."
   ]
  },
  {
   "cell_type": "code",
   "execution_count": 26,
   "metadata": {},
   "outputs": [
    {
     "data": {
      "text/plain": [
       "Serial Number            0\n",
       "List Year                0\n",
       "Date Recorded            0\n",
       "Town                     0\n",
       "Address                 10\n",
       "Assessed Value           0\n",
       "Sale Amount              0\n",
       "Sales Ratio              0\n",
       "Property Type       290275\n",
       "Residential Type    293349\n",
       "Non Use Code        639173\n",
       "Assessor Remarks    711328\n",
       "OPM remarks         809322\n",
       "Location            653539\n",
       "dtype: int64"
      ]
     },
     "execution_count": 26,
     "metadata": {},
     "output_type": "execute_result"
    }
   ],
   "source": [
    "# Count missing values\n",
    "column_missing_values = df.isna().sum()\n",
    "column_missing_values"
   ]
  },
  {
   "cell_type": "markdown",
   "metadata": {},
   "source": [
    "Some columns in our dataset contain a high percentage of missing values, specifically [Non Use Code, Assessor Remarks, OPM Remarks, Location], which have over 70% NA values. Due to the sparsity of data in these columns, they will not be considered in further analysis and modeling as the incomplete data could lead to unreliable insights and predictions.\n",
    "\n",
    "The [Address] column, which includes street and apartment numbers, will also be excluded from the training dataset. While the address can provide specific location information, it introduces challenges: high cardinality and irrelevance to target variable."
   ]
  },
  {
   "cell_type": "code",
   "execution_count": 44,
   "metadata": {},
   "outputs": [],
   "source": [
    "columns_to_drop = ['Non Use Code', 'Assessor Remarks', 'OPM remarks', 'Location', 'Address']\n",
    "df_dropped = df.drop(columns=columns_to_drop)"
   ]
  },
  {
   "cell_type": "markdown",
   "metadata": {},
   "source": [
    "Rows where [Property Type, Residential Type] have a lot of missing values. We should look a bit colser to it."
   ]
  },
  {
   "cell_type": "code",
   "execution_count": 45,
   "metadata": {},
   "outputs": [
    {
     "name": "stdout",
     "output_type": "stream",
     "text": [
      "Property type:  ['Residential' 'Commercial' 'Vacant Land' 'Public Utility' 'Apartments'\n",
      " nan 'Industrial' 'Condo' 'Two Family' 'Single Family' 'Three Family'\n",
      " 'Four Family']\n",
      "Residential type:  ['Single Family' 'Three Family' nan 'Two Family' 'Condo' 'Four Family']\n"
     ]
    },
    {
     "data": {
      "text/plain": [
       "0.35889464720909064"
      ]
     },
     "execution_count": 45,
     "metadata": {},
     "output_type": "execute_result"
    }
   ],
   "source": [
    "df_dropped.loc[(df_dropped['Property Type'].isna()) & (df_dropped['Residential Type'].isna())].shape\n",
    "\n",
    "print('Property type: ', df_dropped['Property Type'].unique())\n",
    "\n",
    "print('Residential type: ', df_dropped['Residential Type'].unique())\n",
    "\n",
    "df_dropped['Residential Type'].isna().sum()/len(df_dropped)"
   ]
  },
  {
   "cell_type": "markdown",
   "metadata": {},
   "source": [
    "We need to group property/residential type and handle nulls -> residential type (35.1%) and property type (34.7%). It's too much to remove (but we can compare this with impact caused by removing these rows). In that case we can change nulls to 'unknown' or think about advanced technique to fill missing values (e.g based on town, cost and propability of that type in this city or global)."
   ]
  },
  {
   "cell_type": "code",
   "execution_count": 46,
   "metadata": {},
   "outputs": [],
   "source": [
    "df_dropped['Property Type'] = np.where((df_dropped['Property Type'].notna()) & (df_dropped['Property Type'] != 'Single Family'), 'Other', df_dropped['Property Type'])\n",
    "df_dropped['Residential Type'] = np.where((df_dropped['Residential Type'].notna()) & (df_dropped['Residential Type'] != 'Single Family'), 'Other', df_dropped['Residential Type'])"
   ]
  },
  {
   "cell_type": "code",
   "execution_count": 47,
   "metadata": {},
   "outputs": [
    {
     "name": "stderr",
     "output_type": "stream",
     "text": [
      "/tmp/ipykernel_714/1195654747.py:1: FutureWarning: A value is trying to be set on a copy of a DataFrame or Series through chained assignment using an inplace method.\n",
      "The behavior will change in pandas 3.0. This inplace method will never work because the intermediate object on which we are setting values always behaves as a copy.\n",
      "\n",
      "For example, when doing 'df[col].method(value, inplace=True)', try using 'df.method({col: value}, inplace=True)' or df[col] = df[col].method(value) instead, to perform the operation inplace on the original object.\n",
      "\n",
      "\n",
      "  df_dropped['Residential Type'].fillna('Unknown', inplace=True)\n",
      "/tmp/ipykernel_714/1195654747.py:2: FutureWarning: A value is trying to be set on a copy of a DataFrame or Series through chained assignment using an inplace method.\n",
      "The behavior will change in pandas 3.0. This inplace method will never work because the intermediate object on which we are setting values always behaves as a copy.\n",
      "\n",
      "For example, when doing 'df[col].method(value, inplace=True)', try using 'df.method({col: value}, inplace=True)' or df[col] = df[col].method(value) instead, to perform the operation inplace on the original object.\n",
      "\n",
      "\n",
      "  df_dropped['Property Type'].fillna('Unknown', inplace=True)\n"
     ]
    }
   ],
   "source": [
    "df_dropped['Residential Type'].fillna('Unknown', inplace=True)\n",
    "df_dropped['Property Type'].fillna('Unknown', inplace=True)"
   ]
  },
  {
   "cell_type": "code",
   "execution_count": 48,
   "metadata": {},
   "outputs": [
    {
     "data": {
      "text/plain": [
       "Serial Number       0\n",
       "List Year           0\n",
       "Date Recorded       0\n",
       "Town                0\n",
       "Assessed Value      0\n",
       "Sale Amount         0\n",
       "Sales Ratio         0\n",
       "Property Type       0\n",
       "Residential Type    0\n",
       "dtype: int64"
      ]
     },
     "execution_count": 48,
     "metadata": {},
     "output_type": "execute_result"
    }
   ],
   "source": [
    "df_dropped.isna().sum()"
   ]
  },
  {
   "cell_type": "code",
   "execution_count": 49,
   "metadata": {},
   "outputs": [
    {
     "data": {
      "image/png": "[encoded data removed]",
      "text/plain": [
       "<Figure size 1600x400 with 2 Axes>"
      ]
     },
     "metadata": {},
     "output_type": "display_data"
    }
   ],
   "source": [
    "# Create property and residential type after changes\n",
    "fig, (ax1, ax2) = plt.subplots(1, 2, figsize=(16, 4))\n",
    "\n",
    "sns.histplot(data=df_dropped, x='Property Type', ax=ax1)\n",
    "ax1.set_ylabel('Count')\n",
    "ax1.set_title('Property Type')\n",
    "\n",
    "sns.histplot(data=df_dropped, x='Residential Type', ax=ax2)\n",
    "ax2.set_ylabel('Count')\n",
    "ax2.set_title('Residential Type')\n",
    "\n",
    "plt.tight_layout()\n",
    "plt.show()"
   ]
  },
  {
   "cell_type": "markdown",
   "metadata": {},
   "source": [
    "Last step is data wrangling. The last columns we should deal with are [Date Recorded, Towns].\n",
    "\n",
    "The recorded date is now in an unusable format. We should divide it. We expect home values ​​to increase year by year and month by month, so the day (e.g. Monday, Friday) may impact sales.\n",
    "\n",
    "Town situation is different. During coding categorical variables we will need to choose proper encoder, lets focus on 2 the most usefull in this case:\n",
    "- Oridnal/Label Encoder - assign numbers arbitrarily to the categories. We will have 1 encoded column with values 0,1,2...169, however this can lead to issue with multicollinearity/ model might assume false relationships\n",
    "- One Hot Encoder - converts each unique category value into a new binary column. Unfortunately that means we will have 170 new colums (high dimensionality) so we will need a lot of memory\n",
    "\n",
    "In that case we should group cities into counties - our data is from Connecticut state, with 8 new columns we can try using One Hot Encoder. We can use LLM or write manually dictionary that will group cities."
   ]
  },
  {
   "cell_type": "code",
   "execution_count": 50,
   "metadata": {},
   "outputs": [],
   "source": [
    "df_dropped[['Month Recorded', 'Day Recorded', 'Year Recorded']] = df_dropped['Date Recorded'].str.split('/', expand=True)\n",
    "\n",
    "df_dropped['Day Recorded'] = df_dropped['Day Recorded'].astype(int)\n",
    "df_dropped['Month Recorded'] = df_dropped['Month Recorded'].astype(int)\n",
    "df_dropped['Year Recorded'] = df_dropped['Year Recorded'].astype(int)\n",
    "\n",
    "# We need datetype column to extract the day of the week (current object type)\n",
    "df_dropped['Date'] = pd.to_datetime(df_dropped['Date Recorded'], format='%m/%d/%Y')\n",
    "df_dropped['Day of Week'] = df_dropped['Date'].dt.day_name()\n",
    "df_dropped.drop(columns=['Date'], inplace=True)"
   ]
  },
  {
   "cell_type": "code",
   "execution_count": 51,
   "metadata": {},
   "outputs": [
    {
     "data": {
      "text/html": [
       "<div>\n",
       "<style scoped>\n",
       "    .dataframe tbody tr th:only-of-type {\n",
       "        vertical-align: middle;\n",
       "    }\n",
       "\n",
       "    .dataframe tbody tr th {\n",
       "        vertical-align: top;\n",
       "    }\n",
       "\n",
       "    .dataframe thead th {\n",
       "        text-align: right;\n",
       "    }\n",
       "</style>\n",
       "<table border=\"1\" class=\"dataframe\">\n",
       "  <thead>\n",
       "    <tr style=\"text-align: right;\">\n",
       "      <th></th>\n",
       "      <th>Serial Number</th>\n",
       "      <th>List Year</th>\n",
       "      <th>Date Recorded</th>\n",
       "      <th>Town</th>\n",
       "      <th>Assessed Value</th>\n",
       "      <th>Sale Amount</th>\n",
       "      <th>Sales Ratio</th>\n",
       "      <th>Property Type</th>\n",
       "      <th>Residential Type</th>\n",
       "      <th>Month Recorded</th>\n",
       "      <th>Day Recorded</th>\n",
       "      <th>Year Recorded</th>\n",
       "      <th>Day of Week</th>\n",
       "      <th>Counties</th>\n",
       "    </tr>\n",
       "  </thead>\n",
       "  <tbody>\n",
       "    <tr>\n",
       "      <th>0</th>\n",
       "      <td>2020177</td>\n",
       "      <td>2020</td>\n",
       "      <td>04/14/2021</td>\n",
       "      <td>Ansonia</td>\n",
       "      <td>133000.0</td>\n",
       "      <td>248400.0</td>\n",
       "      <td>0.5354</td>\n",
       "      <td>Other</td>\n",
       "      <td>Single Family</td>\n",
       "      <td>4</td>\n",
       "      <td>14</td>\n",
       "      <td>2021</td>\n",
       "      <td>Wednesday</td>\n",
       "      <td>Fairfield</td>\n",
       "    </tr>\n",
       "    <tr>\n",
       "      <th>1</th>\n",
       "      <td>2020225</td>\n",
       "      <td>2020</td>\n",
       "      <td>05/26/2021</td>\n",
       "      <td>Ansonia</td>\n",
       "      <td>110500.0</td>\n",
       "      <td>239900.0</td>\n",
       "      <td>0.4606</td>\n",
       "      <td>Other</td>\n",
       "      <td>Other</td>\n",
       "      <td>5</td>\n",
       "      <td>26</td>\n",
       "      <td>2021</td>\n",
       "      <td>Wednesday</td>\n",
       "      <td>Fairfield</td>\n",
       "    </tr>\n",
       "    <tr>\n",
       "      <th>2</th>\n",
       "      <td>2020348</td>\n",
       "      <td>2020</td>\n",
       "      <td>09/13/2021</td>\n",
       "      <td>Ansonia</td>\n",
       "      <td>150500.0</td>\n",
       "      <td>325000.0</td>\n",
       "      <td>0.4630</td>\n",
       "      <td>Other</td>\n",
       "      <td>Unknown</td>\n",
       "      <td>9</td>\n",
       "      <td>13</td>\n",
       "      <td>2021</td>\n",
       "      <td>Monday</td>\n",
       "      <td>Fairfield</td>\n",
       "    </tr>\n",
       "    <tr>\n",
       "      <th>3</th>\n",
       "      <td>2020090</td>\n",
       "      <td>2020</td>\n",
       "      <td>12/14/2020</td>\n",
       "      <td>Ansonia</td>\n",
       "      <td>127400.0</td>\n",
       "      <td>202500.0</td>\n",
       "      <td>0.6291</td>\n",
       "      <td>Other</td>\n",
       "      <td>Other</td>\n",
       "      <td>12</td>\n",
       "      <td>14</td>\n",
       "      <td>2020</td>\n",
       "      <td>Monday</td>\n",
       "      <td>Fairfield</td>\n",
       "    </tr>\n",
       "    <tr>\n",
       "      <th>4</th>\n",
       "      <td>200500</td>\n",
       "      <td>2020</td>\n",
       "      <td>09/07/2021</td>\n",
       "      <td>Avon</td>\n",
       "      <td>217640.0</td>\n",
       "      <td>400000.0</td>\n",
       "      <td>0.5441</td>\n",
       "      <td>Other</td>\n",
       "      <td>Single Family</td>\n",
       "      <td>9</td>\n",
       "      <td>7</td>\n",
       "      <td>2021</td>\n",
       "      <td>Tuesday</td>\n",
       "      <td>Hartford</td>\n",
       "    </tr>\n",
       "  </tbody>\n",
       "</table>\n",
       "</div>"
      ],
      "text/plain": [
       "   Serial Number  List Year Date Recorded     Town  Assessed Value  \\\n",
       "0        2020177       2020    04/14/2021  Ansonia        133000.0   \n",
       "1        2020225       2020    05/26/2021  Ansonia        110500.0   \n",
       "2        2020348       2020    09/13/2021  Ansonia        150500.0   \n",
       "3        2020090       2020    12/14/2020  Ansonia        127400.0   \n",
       "4         200500       2020    09/07/2021     Avon        217640.0   \n",
       "\n",
       "   Sale Amount  Sales Ratio Property Type Residential Type  Month Recorded  \\\n",
       "0     248400.0       0.5354         Other    Single Family               4   \n",
       "1     239900.0       0.4606         Other            Other               5   \n",
       "2     325000.0       0.4630         Other          Unknown               9   \n",
       "3     202500.0       0.6291         Other            Other              12   \n",
       "4     400000.0       0.5441         Other    Single Family               9   \n",
       "\n",
       "   Day Recorded  Year Recorded Day of Week   Counties  \n",
       "0            14           2021   Wednesday  Fairfield  \n",
       "1            26           2021   Wednesday  Fairfield  \n",
       "2            13           2021      Monday  Fairfield  \n",
       "3            14           2020      Monday  Fairfield  \n",
       "4             7           2021     Tuesday   Hartford  "
      ]
     },
     "execution_count": 51,
     "metadata": {},
     "output_type": "execute_result"
    }
   ],
   "source": [
    "# Dictionary made by ChatGPT, based on df['Towns'].unique()\n",
    "counties_cities = {\n",
    "    'Fairfield': ['Ansonia', 'Bethel', 'Bridgeport', 'Brookfield', 'Danbury', 'Darien', 'Derby', 'Easton', 'Fairfield', 'Greenwich', 'Monroe', 'New Canaan', 'New Fairfield', 'Newtown', 'Norwalk', 'Orange', 'Redding', 'Ridgefield', 'Shelton', 'Sherman', 'Stamford', 'Stratford', 'Trumbull', 'Weston', 'Westport', 'Wilton'],\n",
    "    'Hartford': ['Avon', 'Berlin', 'Bloomfield', 'Bristol', 'Burlington', 'Canton', 'East Granby', 'East Hartford', 'East Windsor', 'Enfield', 'Farmington', 'Glastonbury', 'Granby', 'Hartford', 'Hartland', 'Manchester', 'Marlborough', 'Newington', 'Plainville', 'Rocky Hill', 'Simsbury', 'South Windsor', 'Southington', 'Suffield', 'West Hartford', 'Wethersfield', 'Windsor', 'Windsor Locks'],\n",
    "    'Litchfield': ['Barkhamsted', 'Bethlehem', 'Bridgewater', 'Canaan', 'Colebrook', 'Cornwall', 'Goshen', 'Harwinton', 'Kent', 'Litchfield', 'Morris', 'New Hartford', 'New Milford', 'Norfolk', 'North Canaan', 'Plymouth', 'Roxbury', 'Salisbury', 'Sharon', 'Thomaston', 'Torrington', 'Warren', 'Washington', 'Watertown', 'Winchester', 'Woodbury'],\n",
    "    'Middlesex': ['Chester', 'Clinton', 'Cromwell', 'Deep River', 'Durham', 'East Haddam', 'East Hampton', 'Essex', 'Haddam', 'Killingworth', 'Middlefield', 'Middletown', 'Old Saybrook', 'Portland', 'Westbrook'],\n",
    "    'New Haven': ['Beacon Falls', 'Bethany', 'Branford', 'Cheshire', 'East Haven', 'Guilford', 'Hamden', 'Madison', 'Meriden', 'Middlebury', 'Milford', 'Naugatuck', 'New Haven', 'North Branford', 'North Haven', 'Orange', 'Prospect', 'Seymour', 'Southbury', 'Wallingford', 'Waterbury', 'West Haven', 'Wolcott', 'Woodbridge', 'Woodbury'],\n",
    "    'New London': ['Bozrah', 'Colchester', 'East Lyme', 'Franklin', 'Griswold', 'Groton', 'Lebanon', 'Ledyard', 'Lisbon', 'Lyme', 'Montville', 'New London', 'North Stonington', 'Norwich', 'Old Lyme', 'Preston', 'Salem', 'Sprague', 'Stonington', 'Voluntown', 'Waterford'],\n",
    "    'Tolland': ['Andover', 'Bolton', 'Columbia', 'Coventry', 'Ellington', 'Hebron', 'Mansfield', 'Somers', 'Stafford', 'Tolland', 'Union', 'Vernon', 'Willington'],\n",
    "    'Windham': ['Ashford', 'Brooklyn', 'Canterbury', 'Chaplin', 'Eastford', 'Hampton', 'Killingly', 'Plainfield', 'Pomfret', 'Putnam', 'Scotland', 'Sterling', 'Thompson', 'Windham', 'Woodstock']\n",
    "}\n",
    "\n",
    "def assign_county(town):\n",
    "    for county, cities in counties_cities.items():\n",
    "        if town in cities:\n",
    "            return county\n",
    "    return 'Unknown'\n",
    "\n",
    "df_dropped['Counties'] = df_dropped['Town'].apply(assign_county)\n",
    "\n",
    "df_dropped.head()"
   ]
  },
  {
   "cell_type": "code",
   "execution_count": 52,
   "metadata": {},
   "outputs": [
    {
     "name": "stdout",
     "output_type": "stream",
     "text": [
      "17147\n",
      "817368\n"
     ]
    }
   ],
   "source": [
    "# We can remove Date column now\n",
    "columns_to_drop = ['Date Recorded']\n",
    "df_dropped = df_dropped.drop(columns=columns_to_drop)\n",
    "\n",
    "print(df_dropped['Counties'].loc[df_dropped['Counties'] == 'Unknown'].count())\n",
    "print(len(df_dropped['Counties']))"
   ]
  },
  {
   "cell_type": "markdown",
   "metadata": {},
   "source": [
    "## Saving progress\n",
    "\n",
    "We should preserve the progress made during data preparation and cleaning. By saving the cleaned and processed dataset, we can avoid repeating time-consuming steps and maintain consistency in our analysis.\n",
    "\n",
    "Now we should choose proper file extension. CSV format doesn't save information about colum sizes, so while reading table we will have int64, float64... File size and df speed would be too low. We have few options: save as pickle, parquet or feather - choose based on speed/size we want. Speed (best) pickle>feather>parquet. Memory usage (best) parquet>feather>pickle."
   ]
  },
  {
   "cell_type": "code",
   "execution_count": 56,
   "metadata": {},
   "outputs": [],
   "source": [
    "def optimize_dataframe(df):\n",
    "    for col in df.columns:\n",
    "        col_type = df[col].dtype\n",
    "\n",
    "        if pd.api.types.is_integer_dtype(col_type):\n",
    "            max_val = df[col].max()\n",
    "            if max_val <= np.iinfo(np.int8).max:\n",
    "                df[col] = df[col].astype(np.int8)\n",
    "            elif max_val <= np.iinfo(np.int16).max:\n",
    "                df[col] = df[col].astype(np.int16)\n",
    "            elif max_val <= np.iinfo(np.int32).max:\n",
    "                df[col] = df[col].astype(np.int32)\n",
    "            else:\n",
    "                df[col] = df[col].astype(np.int64)\n",
    "        elif pd.api.types.is_float_dtype(col_type):\n",
    "            df[col] = df[col].astype(np.float32)\n",
    "        elif pd.api.types.is_object_dtype(col_type):\n",
    "            num_unique_values = len(df[col].unique())\n",
    "            num_total_values = len(df[col])\n",
    "            if num_unique_values / num_total_values < 0.5:\n",
    "                df[col] = df[col].astype('category')\n",
    "    \n",
    "    return df\n",
    "\n",
    "df_dropped_copy = df_dropped.copy(deep=True)\n",
    "df_cleared = optimize_dataframe(df_dropped_copy)\n",
    "\n",
    "df_cleared.to_pickle(r'../data/input/data_clear.pkl')"
   ]
  },
  {
   "cell_type": "code",
   "execution_count": 4,
   "metadata": {},
   "outputs": [],
   "source": [
    "df_pickle = pd.read_pickle(r'../data/input/data_clear.pkl')"
   ]
  },
  {
   "cell_type": "code",
   "execution_count": 55,
   "metadata": {},
   "outputs": [
    {
     "name": "stdout",
     "output_type": "stream",
     "text": [
      "<class 'pandas.core.frame.DataFrame'>\n",
      "Index: 817368 entries, 0 to 997211\n",
      "Data columns (total 13 columns):\n",
      " #   Column            Non-Null Count   Dtype   \n",
      "---  ------            --------------   -----   \n",
      " 0   Serial Number     817368 non-null  int32   \n",
      " 1   List Year         817368 non-null  int16   \n",
      " 2   Town              817368 non-null  category\n",
      " 3   Assessed Value    817368 non-null  float32 \n",
      " 4   Sale Amount       817368 non-null  float32 \n",
      " 5   Sales Ratio       817368 non-null  float32 \n",
      " 6   Property Type     817368 non-null  category\n",
      " 7   Residential Type  817368 non-null  category\n",
      " 8   Month Recorded    817368 non-null  int8    \n",
      " 9   Day Recorded      817368 non-null  int8    \n",
      " 10  Year Recorded     817368 non-null  int16   \n",
      " 11  Day of Week       817368 non-null  category\n",
      " 12  Counties          817368 non-null  category\n",
      "dtypes: category(5), float32(3), int16(2), int32(1), int8(2)\n",
      "memory usage: 28.1 MB\n"
     ]
    }
   ],
   "source": [
    "df_pickle.info()"
   ]
  },
  {
   "cell_type": "markdown",
   "metadata": {},
   "source": [
    "## Feature Engineering\n",
    "\n",
    "In this chapter, we focus on preparing our dataset for machine learning models. Initially, we select relevant features and drop unnecessary ones. Our target variable, 'Sale Amount', is defined, and we split the data into training and testing sets. Next, we preprocess the data by standardizing numeric features."
   ]
  },
  {
   "cell_type": "code",
   "execution_count": 5,
   "metadata": {},
   "outputs": [
    {
     "name": "stderr",
     "output_type": "stream",
     "text": [
      "c:\\Users\\Prezes\\AppData\\Local\\Programs\\Python\\Python310\\lib\\site-packages\\tqdm\\auto.py:21: TqdmWarning: IProgress not found. Please update jupyter and ipywidgets. See https://ipywidgets.readthedocs.io/en/stable/user_install.html\n",
      "  from .autonotebook import tqdm as notebook_tqdm\n"
     ]
    }
   ],
   "source": [
    "from sklearn.model_selection import train_test_split\n",
    "from sklearn.preprocessing import StandardScaler, OneHotEncoder\n",
    "from sklearn.compose import ColumnTransformer\n",
    "from sklearn.pipeline import Pipeline\n",
    "from sklearn.ensemble import RandomForestRegressor\n",
    "from sklearn.svm import SVR\n",
    "from sklearn.metrics import mean_squared_error, r2_score\n",
    "from sklearn.model_selection import RandomizedSearchCV\n",
    "from sklearn.linear_model import LinearRegression, Lasso, Ridge\n",
    "from scipy.stats import randint, uniform\n",
    "import joblib\n",
    "import lightgbm as lgb\n",
    "import optuna"
   ]
  },
  {
   "cell_type": "code",
   "execution_count": 6,
   "metadata": {},
   "outputs": [],
   "source": [
    "df_train = []"
   ]
  },
  {
   "cell_type": "code",
   "execution_count": 7,
   "metadata": {},
   "outputs": [
    {
     "data": {
      "text/html": [
       "<div>\n",
       "<style scoped>\n",
       "    .dataframe tbody tr th:only-of-type {\n",
       "        vertical-align: middle;\n",
       "    }\n",
       "\n",
       "    .dataframe tbody tr th {\n",
       "        vertical-align: top;\n",
       "    }\n",
       "\n",
       "    .dataframe thead th {\n",
       "        text-align: right;\n",
       "    }\n",
       "</style>\n",
       "<table border=\"1\" class=\"dataframe\">\n",
       "  <thead>\n",
       "    <tr style=\"text-align: right;\">\n",
       "      <th></th>\n",
       "      <th>Assessed Value</th>\n",
       "      <th>Sale Amount</th>\n",
       "      <th>Property Type</th>\n",
       "      <th>Residential Type</th>\n",
       "      <th>Month Recorded</th>\n",
       "      <th>Day Recorded</th>\n",
       "      <th>Year Recorded</th>\n",
       "      <th>Counties</th>\n",
       "    </tr>\n",
       "  </thead>\n",
       "  <tbody>\n",
       "    <tr>\n",
       "      <th>0</th>\n",
       "      <td>133000.0</td>\n",
       "      <td>248400.0</td>\n",
       "      <td>Other</td>\n",
       "      <td>Single Family</td>\n",
       "      <td>4</td>\n",
       "      <td>14</td>\n",
       "      <td>2021</td>\n",
       "      <td>Fairfield</td>\n",
       "    </tr>\n",
       "    <tr>\n",
       "      <th>1</th>\n",
       "      <td>110500.0</td>\n",
       "      <td>239900.0</td>\n",
       "      <td>Other</td>\n",
       "      <td>Other</td>\n",
       "      <td>5</td>\n",
       "      <td>26</td>\n",
       "      <td>2021</td>\n",
       "      <td>Fairfield</td>\n",
       "    </tr>\n",
       "    <tr>\n",
       "      <th>2</th>\n",
       "      <td>150500.0</td>\n",
       "      <td>325000.0</td>\n",
       "      <td>Other</td>\n",
       "      <td>Unknown</td>\n",
       "      <td>9</td>\n",
       "      <td>13</td>\n",
       "      <td>2021</td>\n",
       "      <td>Fairfield</td>\n",
       "    </tr>\n",
       "    <tr>\n",
       "      <th>3</th>\n",
       "      <td>127400.0</td>\n",
       "      <td>202500.0</td>\n",
       "      <td>Other</td>\n",
       "      <td>Other</td>\n",
       "      <td>12</td>\n",
       "      <td>14</td>\n",
       "      <td>2020</td>\n",
       "      <td>Fairfield</td>\n",
       "    </tr>\n",
       "    <tr>\n",
       "      <th>4</th>\n",
       "      <td>217640.0</td>\n",
       "      <td>400000.0</td>\n",
       "      <td>Other</td>\n",
       "      <td>Single Family</td>\n",
       "      <td>9</td>\n",
       "      <td>7</td>\n",
       "      <td>2021</td>\n",
       "      <td>Hartford</td>\n",
       "    </tr>\n",
       "  </tbody>\n",
       "</table>\n",
       "</div>"
      ],
      "text/plain": [
       "   Assessed Value  Sale Amount Property Type Residential Type  Month Recorded  \\\n",
       "0        133000.0     248400.0         Other    Single Family               4   \n",
       "1        110500.0     239900.0         Other            Other               5   \n",
       "2        150500.0     325000.0         Other          Unknown               9   \n",
       "3        127400.0     202500.0         Other            Other              12   \n",
       "4        217640.0     400000.0         Other    Single Family               9   \n",
       "\n",
       "   Day Recorded  Year Recorded   Counties  \n",
       "0            14           2021  Fairfield  \n",
       "1            26           2021  Fairfield  \n",
       "2            13           2021  Fairfield  \n",
       "3            14           2020  Fairfield  \n",
       "4             7           2021   Hartford  "
      ]
     },
     "execution_count": 7,
     "metadata": {},
     "output_type": "execute_result"
    }
   ],
   "source": [
    "# # Load data if needed\n",
    "df_dropped = pd.read_pickle(r'../data/input/data_clear.pkl')\n",
    "\n",
    "# 1st test - day recorded as number\n",
    "df_train = df_dropped[['Assessed Value', 'Sale Amount', 'Property Type', 'Residential Type', 'Month Recorded', 'Day Recorded', 'Year Recorded', 'Counties']]\n",
    "\n",
    "# 2nd test - day recorded changed to day of week (strings like monday...)\n",
    "# df_train = df_dropped[['Assessed Value', 'Sale Amount', 'Property Type', 'Residential Type', 'Month Recorded', 'Day of Week', 'Year Recorded', 'Counties']]\n",
    "\n",
    "# # 3nd test - without day\n",
    "# df_train = df_dropped[['Assessed Value', 'Sale Amount', 'Property Type', 'Residential Type', 'Month Recorded', 'Year Recorded', 'Counties']]\n",
    "\n",
    "df_train.head()"
   ]
  },
  {
   "cell_type": "code",
   "execution_count": 8,
   "metadata": {},
   "outputs": [],
   "source": [
    "X = df_train.drop(['Sale Amount'], axis=1)\n",
    "y = df_train['Sale Amount']\n",
    "\n",
    "X_train, X_test, y_train, y_test = train_test_split(X, y, test_size=0.3, random_state=12)"
   ]
  },
  {
   "cell_type": "code",
   "execution_count": 10,
   "metadata": {},
   "outputs": [],
   "source": [
    "# In categorical features we must remember about 'Town'\n",
    "\n",
    "# 1st test\n",
    "numeric_features = ['Assessed Value', 'Month Recorded', 'Day Recorded', 'Year Recorded']\n",
    "categorical_features = ['Property Type', 'Residential Type', 'Counties']\n",
    "\n",
    "# 2nd test\n",
    "# numeric_features = ['Assessed Value', 'Month Recorded', 'Year Recorded']\n",
    "# categorical_features = ['Property Type', 'Residential Type', 'Counties', 'Day of Week']\n",
    "\n",
    "# # 3rd test\n",
    "# numeric_features = ['Assessed Value', 'Month Recorded', 'Year Recorded']\n",
    "# categorical_features = ['Property Type', 'Residential Type', 'Counties']\n",
    "\n",
    "numeric_transformer = Pipeline(steps=[\n",
    "    ('scaler', StandardScaler())\n",
    "])\n",
    "\n",
    "categorical_transformer = Pipeline(steps=[\n",
    "    ('onehot', OneHotEncoder(handle_unknown='ignore'))\n",
    "])\n",
    "\n",
    "preprocessor = ColumnTransformer(\n",
    "    transformers=[\n",
    "        ('num', numeric_transformer, numeric_features),\n",
    "        ('cat', categorical_transformer, categorical_features)\n",
    "    ])"
   ]
  },
  {
   "cell_type": "markdown",
   "metadata": {},
   "source": [
    "## Model training and evaluation\n",
    "\n",
    "In this chapter, we embark on training various machine learning models to predict house prices effectively. We start by defining the evaluation metrics, such as mean squared error (MSE) and R2 score, which help us assess the performance of each model.\n",
    "\n",
    "The models that we train include: linear, lasso, ridge, random forest regression and lightGBM and my own neural network. We will only save the models that made best scores.\n",
    "\n",
    "Calculating all possibilities may take too much time with larger data sets. For this purpose, you can roughly approximate the searched range using GridSearchCV or by accelerating the calculations using GPU."
   ]
  },
  {
   "cell_type": "markdown",
   "metadata": {},
   "source": [
    "### Linear Regression"
   ]
  },
  {
   "cell_type": "code",
   "execution_count": 141,
   "metadata": {},
   "outputs": [],
   "source": [
    "results = []\n",
    "\n",
    "# Definicja pipeline\n",
    "pipeline_lr = Pipeline(steps=[\n",
    "    ('preprocessor', preprocessor),\n",
    "    ('regressor', LinearRegression())\n",
    "])\n",
    "\n",
    "# Definicja siatki parametrów do strojenia\n",
    "param_dist_lr = {\n",
    "    'regressor__fit_intercept': [True, False]\n",
    "}"
   ]
  },
  {
   "cell_type": "code",
   "execution_count": 142,
   "metadata": {},
   "outputs": [
    {
     "name": "stderr",
     "output_type": "stream",
     "text": [
      "/usr/local/lib/python3.11/dist-packages/sklearn/model_selection/_search.py:320: UserWarning: The total space of parameters 2 is smaller than n_iter=20. Running 2 iterations. For exhaustive searches, use GridSearchCV.\n",
      "  warnings.warn(\n"
     ]
    },
    {
     "name": "stdout",
     "output_type": "stream",
     "text": [
      "Fitting 5 folds for each of 2 candidates, totalling 10 fits\n",
      "Best parameters found for LinearRegression:\n",
      "{'regressor__fit_intercept': False}\n",
      "Best score found for LinearRegression: 0.7928\n",
      "\n",
      "Linear Regression - Evaluation:\n",
      "Test Mean Squared Error: 5854913928.9402\n",
      "Test R2 Score: 0.7918\n"
     ]
    }
   ],
   "source": [
    "random_search_lr = RandomizedSearchCV(pipeline_lr, param_distributions=param_dist_lr, n_iter=20, cv=5, verbose=1, n_jobs=-1)\n",
    "random_search_lr.fit(X_train, y_train)\n",
    "\n",
    "# Wyniki strojenia\n",
    "print(\"Best parameters found for LinearRegression:\")\n",
    "print(random_search_lr.best_params_)\n",
    "print(\"Best score found for LinearRegression: {:.4f}\".format(random_search_lr.best_score_))\n",
    "\n",
    "# Predykcja na zbiorze testowym i ocena\n",
    "y_pred_lr = random_search_lr.predict(X_test)\n",
    "mse = mean_squared_error(y_test, y_pred_lr)\n",
    "r2 = r2_score(y_test, y_pred_lr)\n",
    "results = {\n",
    "    'Model': 'LinearRegression',\n",
    "    'Params': random_search_lr.best_params_,\n",
    "    'Best Score': random_search_lr.best_score_,\n",
    "    'Mean Squared Error': mse,\n",
    "    'R2 Score': r2\n",
    "}\n",
    "\n",
    "print(\"\\nLinear Regression - Evaluation:\")\n",
    "print(f\"Test Mean Squared Error: {mse:.4f}\")\n",
    "print(f\"Test R2 Score: {r2:.4f}\")"
   ]
  },
  {
   "cell_type": "code",
   "execution_count": 143,
   "metadata": {},
   "outputs": [
    {
     "name": "stdout",
     "output_type": "stream",
     "text": [
      "Results saved to results.txt\n"
     ]
    }
   ],
   "source": [
    "with open(r'../data/output/results.txt', 'a') as f:\n",
    "    f.write(f\"Model: {results['Model']}_1\\n\")\n",
    "    f.write(f\"Params: {results['Params']}\\n\")\n",
    "    f.write(f\"Best Score: {results['Best Score']:.4f}\\n\")\n",
    "    f.write(f\"Mean Squared Error: {results['Mean Squared Error']:.4f}\\n\")\n",
    "    f.write(f\"R2 Score: {results['R2 Score']:.4f}\\n\\n\")\n",
    "\n",
    "print(\"Results saved to results.txt\")"
   ]
  },
  {
   "cell_type": "markdown",
   "metadata": {},
   "source": [
    "### Lasso Regresion"
   ]
  },
  {
   "cell_type": "code",
   "execution_count": 68,
   "metadata": {},
   "outputs": [],
   "source": [
    "results = []\n",
    "\n",
    "pipeline_lasso = Pipeline(steps=[\n",
    "    ('preprocessor', preprocessor),\n",
    "    ('regressor', Lasso(random_state=42))\n",
    "])\n",
    "\n",
    "param_dist_lasso = {\n",
    "    'regressor__alpha': uniform(0.01, 10.0),\n",
    "    'regressor__fit_intercept': [True, False],\n",
    "    'regressor__max_iter': randint(50,1000)\n",
    "}"
   ]
  },
  {
   "cell_type": "code",
   "execution_count": 69,
   "metadata": {},
   "outputs": [
    {
     "name": "stdout",
     "output_type": "stream",
     "text": [
      "Fitting 5 folds for each of 20 candidates, totalling 100 fits\n"
     ]
    },
    {
     "name": "stderr",
     "output_type": "stream",
     "text": [
      "/usr/local/lib/python3.11/dist-packages/sklearn/linear_model/_coordinate_descent.py:658: ConvergenceWarning: Objective did not converge. You might want to increase the number of iterations. Duality gap: 873216850479254.0, tolerance: 1295332812122.1348\n",
      "  model = cd_fast.sparse_enet_coordinate_descent(\n",
      "/usr/local/lib/python3.11/dist-packages/sklearn/linear_model/_coordinate_descent.py:658: ConvergenceWarning: Objective did not converge. You might want to increase the number of iterations. Duality gap: 899461025161915.6, tolerance: 1295891974203.874\n",
      "  model = cd_fast.sparse_enet_coordinate_descent(\n",
      "/usr/local/lib/python3.11/dist-packages/sklearn/linear_model/_coordinate_descent.py:658: ConvergenceWarning: Objective did not converge. You might want to increase the number of iterations. Duality gap: 905048767120494.5, tolerance: 1294431794989.28\n",
      "  model = cd_fast.sparse_enet_coordinate_descent(\n",
      "/usr/local/lib/python3.11/dist-packages/sklearn/linear_model/_coordinate_descent.py:658: ConvergenceWarning: Objective did not converge. You might want to increase the number of iterations. Duality gap: 874820579529638.2, tolerance: 1293748876249.3816\n",
      "  model = cd_fast.sparse_enet_coordinate_descent(\n",
      "/usr/local/lib/python3.11/dist-packages/sklearn/linear_model/_coordinate_descent.py:658: ConvergenceWarning: Objective did not converge. You might want to increase the number of iterations. Duality gap: 887026614093235.2, tolerance: 1294319330464.8408\n",
      "  model = cd_fast.sparse_enet_coordinate_descent(\n",
      "/usr/local/lib/python3.11/dist-packages/sklearn/linear_model/_coordinate_descent.py:658: ConvergenceWarning: Objective did not converge. You might want to increase the number of iterations. Duality gap: 155522254327997.0, tolerance: 1294431794989.28\n",
      "  model = cd_fast.sparse_enet_coordinate_descent(\n",
      "/usr/local/lib/python3.11/dist-packages/sklearn/linear_model/_coordinate_descent.py:658: ConvergenceWarning: Objective did not converge. You might want to increase the number of iterations. Duality gap: 155323859086346.0, tolerance: 1295332812122.1348\n",
      "  model = cd_fast.sparse_enet_coordinate_descent(\n",
      "/usr/local/lib/python3.11/dist-packages/sklearn/linear_model/_coordinate_descent.py:658: ConvergenceWarning: Objective did not converge. You might want to increase the number of iterations. Duality gap: 357689645446970.5, tolerance: 1295891974203.874\n",
      "  model = cd_fast.sparse_enet_coordinate_descent(\n",
      "/usr/local/lib/python3.11/dist-packages/sklearn/linear_model/_coordinate_descent.py:658: ConvergenceWarning: Objective did not converge. You might want to increase the number of iterations. Duality gap: 154415017214912.0, tolerance: 1294319330464.8408\n",
      "  model = cd_fast.sparse_enet_coordinate_descent(\n",
      "/usr/local/lib/python3.11/dist-packages/sklearn/linear_model/_coordinate_descent.py:658: ConvergenceWarning: Objective did not converge. You might want to increase the number of iterations. Duality gap: 154209448290552.0, tolerance: 1293748876249.3816\n",
      "  model = cd_fast.sparse_enet_coordinate_descent(\n",
      "/usr/local/lib/python3.11/dist-packages/sklearn/linear_model/_coordinate_descent.py:658: ConvergenceWarning: Objective did not converge. You might want to increase the number of iterations. Duality gap: 154166480464220.0, tolerance: 1295891974203.874\n",
      "  model = cd_fast.sparse_enet_coordinate_descent(\n",
      "/usr/local/lib/python3.11/dist-packages/sklearn/linear_model/_coordinate_descent.py:658: ConvergenceWarning: Objective did not converge. You might want to increase the number of iterations. Duality gap: 328914407309387.75, tolerance: 1295332812122.1348\n",
      "  model = cd_fast.sparse_enet_coordinate_descent(\n",
      "/usr/local/lib/python3.11/dist-packages/sklearn/linear_model/_coordinate_descent.py:658: ConvergenceWarning: Objective did not converge. You might want to increase the number of iterations. Duality gap: 242842715610144.25, tolerance: 4669604323064.649\n",
      "  model = cd_fast.sparse_enet_coordinate_descent(\n",
      "/usr/local/lib/python3.11/dist-packages/sklearn/linear_model/_coordinate_descent.py:658: ConvergenceWarning: Objective did not converge. You might want to increase the number of iterations. Duality gap: 350657408806022.75, tolerance: 1293748876249.3816\n",
      "  model = cd_fast.sparse_enet_coordinate_descent(\n",
      "/usr/local/lib/python3.11/dist-packages/sklearn/linear_model/_coordinate_descent.py:658: ConvergenceWarning: Objective did not converge. You might want to increase the number of iterations. Duality gap: 335123900080942.0, tolerance: 1294319330464.8408\n",
      "  model = cd_fast.sparse_enet_coordinate_descent(\n",
      "/usr/local/lib/python3.11/dist-packages/sklearn/linear_model/_coordinate_descent.py:658: ConvergenceWarning: Objective did not converge. You might want to increase the number of iterations. Duality gap: 325952536305920.5, tolerance: 1294431794989.28\n",
      "  model = cd_fast.sparse_enet_coordinate_descent(\n",
      "/usr/local/lib/python3.11/dist-packages/sklearn/linear_model/_coordinate_descent.py:658: ConvergenceWarning: Objective did not converge. You might want to increase the number of iterations. Duality gap: 235023835775452.5, tolerance: 4667689125846.459\n",
      "  model = cd_fast.sparse_enet_coordinate_descent(\n",
      "/usr/local/lib/python3.11/dist-packages/sklearn/linear_model/_coordinate_descent.py:658: ConvergenceWarning: Objective did not converge. You might want to increase the number of iterations. Duality gap: 463050508405338.4, tolerance: 4667689125846.459\n",
      "  model = cd_fast.sparse_enet_coordinate_descent(\n",
      "/usr/local/lib/python3.11/dist-packages/sklearn/linear_model/_coordinate_descent.py:658: ConvergenceWarning: Objective did not converge. You might want to increase the number of iterations. Duality gap: 439966798067599.5, tolerance: 4669604323064.649\n",
      "  model = cd_fast.sparse_enet_coordinate_descent(\n",
      "/usr/local/lib/python3.11/dist-packages/sklearn/linear_model/_coordinate_descent.py:658: ConvergenceWarning: Objective did not converge. You might want to increase the number of iterations. Duality gap: 494938350625880.0, tolerance: 4664429360586.461\n",
      "  model = cd_fast.sparse_enet_coordinate_descent(\n",
      "/usr/local/lib/python3.11/dist-packages/sklearn/linear_model/_coordinate_descent.py:658: ConvergenceWarning: Objective did not converge. You might want to increase the number of iterations. Duality gap: 437899071015129.0, tolerance: 4658859760188.38\n",
      "  model = cd_fast.sparse_enet_coordinate_descent(\n",
      "/usr/local/lib/python3.11/dist-packages/sklearn/linear_model/_coordinate_descent.py:658: ConvergenceWarning: Objective did not converge. You might want to increase the number of iterations. Duality gap: 440296639452708.75, tolerance: 4664236504540.114\n",
      "  model = cd_fast.sparse_enet_coordinate_descent(\n",
      "/usr/local/lib/python3.11/dist-packages/sklearn/linear_model/_coordinate_descent.py:658: ConvergenceWarning: Objective did not converge. You might want to increase the number of iterations. Duality gap: 234741587329505.75, tolerance: 4664429360586.461\n",
      "  model = cd_fast.sparse_enet_coordinate_descent(\n",
      "/usr/local/lib/python3.11/dist-packages/sklearn/linear_model/_coordinate_descent.py:658: ConvergenceWarning: Objective did not converge. You might want to increase the number of iterations. Duality gap: 241829348918964.25, tolerance: 4658859760188.38\n",
      "  model = cd_fast.sparse_enet_coordinate_descent(\n",
      "/usr/local/lib/python3.11/dist-packages/sklearn/linear_model/_coordinate_descent.py:658: ConvergenceWarning: Objective did not converge. You might want to increase the number of iterations. Duality gap: 235509698932293.75, tolerance: 4664236504540.114\n",
      "  model = cd_fast.sparse_enet_coordinate_descent(\n",
      "/usr/local/lib/python3.11/dist-packages/sklearn/linear_model/_coordinate_descent.py:658: ConvergenceWarning: Objective did not converge. You might want to increase the number of iterations. Duality gap: 477427836846925.75, tolerance: 4667689125846.459\n",
      "  model = cd_fast.sparse_enet_coordinate_descent(\n",
      "/usr/local/lib/python3.11/dist-packages/sklearn/linear_model/_coordinate_descent.py:658: ConvergenceWarning: Objective did not converge. You might want to increase the number of iterations. Duality gap: 477247070331487.9, tolerance: 4664429360586.461\n",
      "  model = cd_fast.sparse_enet_coordinate_descent(\n",
      "/usr/local/lib/python3.11/dist-packages/sklearn/linear_model/_coordinate_descent.py:658: ConvergenceWarning: Objective did not converge. You might want to increase the number of iterations. Duality gap: 476598837536733.6, tolerance: 4669604323064.649\n",
      "  model = cd_fast.sparse_enet_coordinate_descent(\n",
      "/usr/local/lib/python3.11/dist-packages/sklearn/linear_model/_coordinate_descent.py:658: ConvergenceWarning: Objective did not converge. You might want to increase the number of iterations. Duality gap: 10379678621695.0, tolerance: 4667689125846.459\n",
      "  model = cd_fast.sparse_enet_coordinate_descent(\n",
      "/usr/local/lib/python3.11/dist-packages/sklearn/linear_model/_coordinate_descent.py:658: ConvergenceWarning: Objective did not converge. You might want to increase the number of iterations. Duality gap: 476400181379073.6, tolerance: 4658859760188.38\n",
      "  model = cd_fast.sparse_enet_coordinate_descent(\n",
      "/usr/local/lib/python3.11/dist-packages/sklearn/linear_model/_coordinate_descent.py:658: ConvergenceWarning: Objective did not converge. You might want to increase the number of iterations. Duality gap: 15339480301720.0, tolerance: 4664429360586.461\n",
      "  model = cd_fast.sparse_enet_coordinate_descent(\n",
      "/usr/local/lib/python3.11/dist-packages/sklearn/linear_model/_coordinate_descent.py:658: ConvergenceWarning: Objective did not converge. You might want to increase the number of iterations. Duality gap: 475665722606303.4, tolerance: 4664236504540.114\n",
      "  model = cd_fast.sparse_enet_coordinate_descent(\n",
      "/usr/local/lib/python3.11/dist-packages/sklearn/linear_model/_coordinate_descent.py:658: ConvergenceWarning: Objective did not converge. You might want to increase the number of iterations. Duality gap: 594503818338219.5, tolerance: 1295332812122.1348\n",
      "  model = cd_fast.sparse_enet_coordinate_descent(\n",
      "/usr/local/lib/python3.11/dist-packages/sklearn/linear_model/_coordinate_descent.py:658: ConvergenceWarning: Objective did not converge. You might want to increase the number of iterations. Duality gap: 626201142089418.8, tolerance: 1295891974203.874\n",
      "  model = cd_fast.sparse_enet_coordinate_descent(\n",
      "/usr/local/lib/python3.11/dist-packages/sklearn/linear_model/_coordinate_descent.py:658: ConvergenceWarning: Objective did not converge. You might want to increase the number of iterations. Duality gap: 252573429613976.75, tolerance: 4667689125846.459\n",
      "  model = cd_fast.sparse_enet_coordinate_descent(\n",
      "/usr/local/lib/python3.11/dist-packages/sklearn/linear_model/_coordinate_descent.py:658: ConvergenceWarning: Objective did not converge. You might want to increase the number of iterations. Duality gap: 600739123704763.0, tolerance: 1294431794989.28\n",
      "  model = cd_fast.sparse_enet_coordinate_descent(\n",
      "/usr/local/lib/python3.11/dist-packages/sklearn/linear_model/_coordinate_descent.py:658: ConvergenceWarning: Objective did not converge. You might want to increase the number of iterations. Duality gap: 614192740862390.4, tolerance: 1293748876249.3816\n",
      "  model = cd_fast.sparse_enet_coordinate_descent(\n",
      "/usr/local/lib/python3.11/dist-packages/sklearn/linear_model/_coordinate_descent.py:658: ConvergenceWarning: Objective did not converge. You might want to increase the number of iterations. Duality gap: 261110492991089.5, tolerance: 4669604323064.649\n",
      "  model = cd_fast.sparse_enet_coordinate_descent(\n",
      "/usr/local/lib/python3.11/dist-packages/sklearn/linear_model/_coordinate_descent.py:658: ConvergenceWarning: Objective did not converge. You might want to increase the number of iterations. Duality gap: 603245807143034.5, tolerance: 1294319330464.8408\n",
      "  model = cd_fast.sparse_enet_coordinate_descent(\n",
      "/usr/local/lib/python3.11/dist-packages/sklearn/linear_model/_coordinate_descent.py:658: ConvergenceWarning: Objective did not converge. You might want to increase the number of iterations. Duality gap: 251434455044267.0, tolerance: 4664429360586.461\n",
      "  model = cd_fast.sparse_enet_coordinate_descent(\n",
      "/usr/local/lib/python3.11/dist-packages/sklearn/linear_model/_coordinate_descent.py:658: ConvergenceWarning: Objective did not converge. You might want to increase the number of iterations. Duality gap: 258295677780064.25, tolerance: 4658859760188.38\n",
      "  model = cd_fast.sparse_enet_coordinate_descent(\n",
      "/usr/local/lib/python3.11/dist-packages/sklearn/linear_model/_coordinate_descent.py:658: ConvergenceWarning: Objective did not converge. You might want to increase the number of iterations. Duality gap: 254040605736749.5, tolerance: 4664236504540.114\n",
      "  model = cd_fast.sparse_enet_coordinate_descent(\n",
      "/usr/local/lib/python3.11/dist-packages/sklearn/linear_model/_coordinate_descent.py:658: ConvergenceWarning: Objective did not converge. You might want to increase the number of iterations. Duality gap: 152662386723615.25, tolerance: 1295332812122.1348\n",
      "  model = cd_fast.sparse_enet_coordinate_descent(\n",
      "/usr/local/lib/python3.11/dist-packages/sklearn/linear_model/_coordinate_descent.py:658: ConvergenceWarning: Objective did not converge. You might want to increase the number of iterations. Duality gap: 151238321242184.0, tolerance: 1295891974203.874\n",
      "  model = cd_fast.sparse_enet_coordinate_descent(\n",
      "/usr/local/lib/python3.11/dist-packages/sklearn/linear_model/_coordinate_descent.py:658: ConvergenceWarning: Objective did not converge. You might want to increase the number of iterations. Duality gap: 4700800455978.0, tolerance: 4664429360586.461\n",
      "  model = cd_fast.sparse_enet_coordinate_descent(\n",
      "/usr/local/lib/python3.11/dist-packages/sklearn/linear_model/_coordinate_descent.py:658: ConvergenceWarning: Objective did not converge. You might want to increase the number of iterations. Duality gap: 167141512958464.5, tolerance: 1295332812122.1348\n",
      "  model = cd_fast.sparse_enet_coordinate_descent(\n",
      "/usr/local/lib/python3.11/dist-packages/sklearn/linear_model/_coordinate_descent.py:658: ConvergenceWarning: Objective did not converge. You might want to increase the number of iterations. Duality gap: 152217740550459.75, tolerance: 1294431794989.28\n",
      "  model = cd_fast.sparse_enet_coordinate_descent(\n",
      "/usr/local/lib/python3.11/dist-packages/sklearn/linear_model/_coordinate_descent.py:658: ConvergenceWarning: Objective did not converge. You might want to increase the number of iterations. Duality gap: 167144466643175.25, tolerance: 1295891974203.874\n",
      "  model = cd_fast.sparse_enet_coordinate_descent(\n",
      "/usr/local/lib/python3.11/dist-packages/sklearn/linear_model/_coordinate_descent.py:658: ConvergenceWarning: Objective did not converge. You might want to increase the number of iterations. Duality gap: 167081040016410.0, tolerance: 1294431794989.28\n",
      "  model = cd_fast.sparse_enet_coordinate_descent(\n",
      "/usr/local/lib/python3.11/dist-packages/sklearn/linear_model/_coordinate_descent.py:658: ConvergenceWarning: Objective did not converge. You might want to increase the number of iterations. Duality gap: 166471184868065.5, tolerance: 1294319330464.8408\n",
      "  model = cd_fast.sparse_enet_coordinate_descent(\n",
      "/usr/local/lib/python3.11/dist-packages/sklearn/linear_model/_coordinate_descent.py:658: ConvergenceWarning: Objective did not converge. You might want to increase the number of iterations. Duality gap: 167012697759416.0, tolerance: 1293748876249.3816\n",
      "  model = cd_fast.sparse_enet_coordinate_descent(\n",
      "/usr/local/lib/python3.11/dist-packages/sklearn/linear_model/_coordinate_descent.py:658: ConvergenceWarning: Objective did not converge. You might want to increase the number of iterations. Duality gap: 151531855506859.75, tolerance: 1294319330464.8408\n",
      "  model = cd_fast.sparse_enet_coordinate_descent(\n",
      "/usr/local/lib/python3.11/dist-packages/sklearn/linear_model/_coordinate_descent.py:658: ConvergenceWarning: Objective did not converge. You might want to increase the number of iterations. Duality gap: 151686974426848.25, tolerance: 1293748876249.3816\n",
      "  model = cd_fast.sparse_enet_coordinate_descent(\n",
      "/usr/local/lib/python3.11/dist-packages/sklearn/linear_model/_coordinate_descent.py:658: ConvergenceWarning: Objective did not converge. You might want to increase the number of iterations. Duality gap: 235020036850411.25, tolerance: 4658859760188.38\n",
      "  model = cd_fast.sparse_enet_coordinate_descent(\n",
      "/usr/local/lib/python3.11/dist-packages/sklearn/linear_model/_coordinate_descent.py:658: ConvergenceWarning: Objective did not converge. You might want to increase the number of iterations. Duality gap: 234954970553333.75, tolerance: 4664429360586.461\n",
      "  model = cd_fast.sparse_enet_coordinate_descent(\n",
      "/usr/local/lib/python3.11/dist-packages/sklearn/linear_model/_coordinate_descent.py:658: ConvergenceWarning: Objective did not converge. You might want to increase the number of iterations. Duality gap: 235235821519271.25, tolerance: 4667689125846.459\n",
      "  model = cd_fast.sparse_enet_coordinate_descent(\n",
      "/usr/local/lib/python3.11/dist-packages/sklearn/linear_model/_coordinate_descent.py:658: ConvergenceWarning: Objective did not converge. You might want to increase the number of iterations. Duality gap: 234887713051708.25, tolerance: 4669604323064.649\n",
      "  model = cd_fast.sparse_enet_coordinate_descent(\n",
      "/usr/local/lib/python3.11/dist-packages/sklearn/linear_model/_coordinate_descent.py:658: ConvergenceWarning: Objective did not converge. You might want to increase the number of iterations. Duality gap: 234253408469237.25, tolerance: 4664236504540.114\n",
      "  model = cd_fast.sparse_enet_coordinate_descent(\n",
      "/usr/local/lib/python3.11/dist-packages/sklearn/linear_model/_coordinate_descent.py:658: ConvergenceWarning: Objective did not converge. You might want to increase the number of iterations. Duality gap: 134198894476932.25, tolerance: 1295332812122.1348\n",
      "  model = cd_fast.sparse_enet_coordinate_descent(\n",
      "/usr/local/lib/python3.11/dist-packages/sklearn/linear_model/_coordinate_descent.py:658: ConvergenceWarning: Objective did not converge. You might want to increase the number of iterations. Duality gap: 141295773385515.75, tolerance: 1295891974203.874\n",
      "  model = cd_fast.sparse_enet_coordinate_descent(\n",
      "/usr/local/lib/python3.11/dist-packages/sklearn/linear_model/_coordinate_descent.py:658: ConvergenceWarning: Objective did not converge. You might want to increase the number of iterations. Duality gap: 133228483363822.25, tolerance: 1294431794989.28\n",
      "  model = cd_fast.sparse_enet_coordinate_descent(\n",
      "/usr/local/lib/python3.11/dist-packages/sklearn/linear_model/_coordinate_descent.py:658: ConvergenceWarning: Objective did not converge. You might want to increase the number of iterations. Duality gap: 134623358905573.75, tolerance: 1293748876249.3816\n",
      "  model = cd_fast.sparse_enet_coordinate_descent(\n",
      "/usr/local/lib/python3.11/dist-packages/sklearn/linear_model/_coordinate_descent.py:658: ConvergenceWarning: Objective did not converge. You might want to increase the number of iterations. Duality gap: 132542074864776.25, tolerance: 1294319330464.8408\n",
      "  model = cd_fast.sparse_enet_coordinate_descent(\n",
      "/usr/local/lib/python3.11/dist-packages/sklearn/linear_model/_coordinate_descent.py:658: ConvergenceWarning: Objective did not converge. You might want to increase the number of iterations. Duality gap: 24680269661600.5, tolerance: 1295332812122.1348\n",
      "  model = cd_fast.sparse_enet_coordinate_descent(\n",
      "/usr/local/lib/python3.11/dist-packages/sklearn/linear_model/_coordinate_descent.py:658: ConvergenceWarning: Objective did not converge. You might want to increase the number of iterations. Duality gap: 47366869203437.75, tolerance: 1295891974203.874\n",
      "  model = cd_fast.sparse_enet_coordinate_descent(\n",
      "/usr/local/lib/python3.11/dist-packages/sklearn/linear_model/_coordinate_descent.py:658: ConvergenceWarning: Objective did not converge. You might want to increase the number of iterations. Duality gap: 633227567873538.4, tolerance: 1295332812122.1348\n",
      "  model = cd_fast.sparse_enet_coordinate_descent(\n",
      "/usr/local/lib/python3.11/dist-packages/sklearn/linear_model/_coordinate_descent.py:658: ConvergenceWarning: Objective did not converge. You might want to increase the number of iterations. Duality gap: 670106907564291.8, tolerance: 1295891974203.874\n",
      "  model = cd_fast.sparse_enet_coordinate_descent(\n",
      "/usr/local/lib/python3.11/dist-packages/sklearn/linear_model/_coordinate_descent.py:658: ConvergenceWarning: Objective did not converge. You might want to increase the number of iterations. Duality gap: 611831242501879.8, tolerance: 1294431794989.28\n",
      "  model = cd_fast.sparse_enet_coordinate_descent(\n",
      "/usr/local/lib/python3.11/dist-packages/sklearn/linear_model/_coordinate_descent.py:658: ConvergenceWarning: Objective did not converge. You might want to increase the number of iterations. Duality gap: 670310601855934.4, tolerance: 1293748876249.3816\n",
      "  model = cd_fast.sparse_enet_coordinate_descent(\n",
      "/usr/local/lib/python3.11/dist-packages/sklearn/linear_model/_coordinate_descent.py:658: ConvergenceWarning: Objective did not converge. You might want to increase the number of iterations. Duality gap: 56953992447112.25, tolerance: 1294431794989.28\n",
      "  model = cd_fast.sparse_enet_coordinate_descent(\n",
      "/usr/local/lib/python3.11/dist-packages/sklearn/linear_model/_coordinate_descent.py:658: ConvergenceWarning: Objective did not converge. You might want to increase the number of iterations. Duality gap: 28959270364718.0, tolerance: 1293748876249.3816\n",
      "  model = cd_fast.sparse_enet_coordinate_descent(\n",
      "/usr/local/lib/python3.11/dist-packages/sklearn/linear_model/_coordinate_descent.py:658: ConvergenceWarning: Objective did not converge. You might want to increase the number of iterations. Duality gap: 636906482444408.5, tolerance: 1294319330464.8408\n",
      "  model = cd_fast.sparse_enet_coordinate_descent(\n",
      "/usr/local/lib/python3.11/dist-packages/sklearn/linear_model/_coordinate_descent.py:658: ConvergenceWarning: Objective did not converge. You might want to increase the number of iterations. Duality gap: 36916799022273.0, tolerance: 1294319330464.8408\n",
      "  model = cd_fast.sparse_enet_coordinate_descent(\n",
      "/usr/local/lib/python3.11/dist-packages/sklearn/linear_model/_coordinate_descent.py:658: ConvergenceWarning: Objective did not converge. You might want to increase the number of iterations. Duality gap: 477404134163705.75, tolerance: 4667689125846.459\n",
      "  model = cd_fast.sparse_enet_coordinate_descent(\n",
      "/usr/local/lib/python3.11/dist-packages/sklearn/linear_model/_coordinate_descent.py:658: ConvergenceWarning: Objective did not converge. You might want to increase the number of iterations. Duality gap: 476376615585363.4, tolerance: 4658859760188.38\n",
      "  model = cd_fast.sparse_enet_coordinate_descent(\n",
      "/usr/local/lib/python3.11/dist-packages/sklearn/linear_model/_coordinate_descent.py:658: ConvergenceWarning: Objective did not converge. You might want to increase the number of iterations. Duality gap: 477223404896864.0, tolerance: 4664429360586.461\n",
      "  model = cd_fast.sparse_enet_coordinate_descent(\n",
      "/usr/local/lib/python3.11/dist-packages/sklearn/linear_model/_coordinate_descent.py:658: ConvergenceWarning: Objective did not converge. You might want to increase the number of iterations. Duality gap: 475641870594049.4, tolerance: 4664236504540.114\n",
      "  model = cd_fast.sparse_enet_coordinate_descent(\n",
      "/usr/local/lib/python3.11/dist-packages/sklearn/linear_model/_coordinate_descent.py:658: ConvergenceWarning: Objective did not converge. You might want to increase the number of iterations. Duality gap: 476574948265362.4, tolerance: 4669604323064.649\n",
      "  model = cd_fast.sparse_enet_coordinate_descent(\n",
      "/usr/local/lib/python3.11/dist-packages/sklearn/linear_model/_coordinate_descent.py:658: ConvergenceWarning: Objective did not converge. You might want to increase the number of iterations. Duality gap: 235834195394525.0, tolerance: 4669604323064.649\n",
      "  model = cd_fast.sparse_enet_coordinate_descent(\n",
      "/usr/local/lib/python3.11/dist-packages/sklearn/linear_model/_coordinate_descent.py:658: ConvergenceWarning: Objective did not converge. You might want to increase the number of iterations. Duality gap: 236180662513115.0, tolerance: 4667689125846.459\n",
      "  model = cd_fast.sparse_enet_coordinate_descent(\n",
      "/usr/local/lib/python3.11/dist-packages/sklearn/linear_model/_coordinate_descent.py:658: ConvergenceWarning: Objective did not converge. You might want to increase the number of iterations. Duality gap: 235900046809541.75, tolerance: 4664429360586.461\n",
      "  model = cd_fast.sparse_enet_coordinate_descent(\n",
      "/usr/local/lib/python3.11/dist-packages/sklearn/linear_model/_coordinate_descent.py:658: ConvergenceWarning: Objective did not converge. You might want to increase the number of iterations. Duality gap: 235965165493748.75, tolerance: 4658859760188.38\n",
      "  model = cd_fast.sparse_enet_coordinate_descent(\n",
      "/usr/local/lib/python3.11/dist-packages/sklearn/linear_model/_coordinate_descent.py:658: ConvergenceWarning: Objective did not converge. You might want to increase the number of iterations. Duality gap: 235198694689970.25, tolerance: 4664236504540.114\n",
      "  model = cd_fast.sparse_enet_coordinate_descent(\n",
      "/usr/local/lib/python3.11/dist-packages/sklearn/linear_model/_coordinate_descent.py:658: ConvergenceWarning: Objective did not converge. You might want to increase the number of iterations. Duality gap: 806034547270937.5, tolerance: 1618431996280.1992\n",
      "  model = cd_fast.sparse_enet_coordinate_descent(\n"
     ]
    },
    {
     "name": "stdout",
     "output_type": "stream",
     "text": [
      "Best parameters found for Lasso:\n",
      "{'regressor__alpha': 0.1426496115986653, 'regressor__fit_intercept': True, 'regressor__max_iter': 365}\n",
      "Best score found for Lasso: 0.7928\n"
     ]
    }
   ],
   "source": [
    "random_search_lasso = RandomizedSearchCV(pipeline_lasso, param_distributions=param_dist_lasso, n_iter=20, cv=5, verbose=1, n_jobs=-1, random_state=42)\n",
    "random_search_lasso.fit(X_train, y_train)\n",
    "\n",
    "print(\"Best parameters found for Lasso:\")\n",
    "print(random_search_lasso.best_params_)\n",
    "print(\"Best score found for Lasso: {:.4f}\".format(random_search_lasso.best_score_))\n",
    "\n",
    "# Predykcja na zbiorze testowym i ocena\n",
    "y_pred_lasso = random_search_lasso.predict(X_test)\n",
    "mse = mean_squared_error(y_test, y_pred_lasso)\n",
    "r2 = r2_score(y_test, y_pred_lasso)\n",
    "results.append({\n",
    "    'Model': 'Lasso',\n",
    "    'Params': random_search_lasso.best_params_,\n",
    "    'Best Score': random_search_lasso.best_score_,\n",
    "    'Mean Squared Error': mse,\n",
    "    'R2 Score': r2\n",
    "})"
   ]
  },
  {
   "cell_type": "code",
   "execution_count": 71,
   "metadata": {},
   "outputs": [
    {
     "name": "stdout",
     "output_type": "stream",
     "text": [
      "Results saved to results.txt\n"
     ]
    }
   ],
   "source": [
    "with open(r'../data/output/results.txt', 'a') as f:\n",
    "    for result in results:\n",
    "        # f.write(f\"Model: {result['Model']}\\n\")\n",
    "        f.write(f\"Model: {result['Model']}_2nd_test\\n\")\n",
    "        f.write(f\"Params: {result['Params']}\\n\")\n",
    "        f.write(f\"Best Score: {result['Best Score']:.4f}\\n\")\n",
    "        f.write(f\"Mean Squared Error: {result['Mean Squared Error']:.4f}\\n\")\n",
    "        f.write(f\"R2 Score: {result['R2 Score']:.4f}\\n\\n\")\n",
    "\n",
    "print(\"Results saved to results.txt\")"
   ]
  },
  {
   "cell_type": "markdown",
   "metadata": {},
   "source": [
    "### Ridge Regression"
   ]
  },
  {
   "cell_type": "code",
   "execution_count": 72,
   "metadata": {},
   "outputs": [],
   "source": [
    "results = []\n",
    "\n",
    "pipeline_ridge = Pipeline(steps=[\n",
    "    ('preprocessor', preprocessor),\n",
    "    ('regressor', Ridge(random_state=42))\n",
    "])\n",
    "\n",
    "# Siatka parametrów do strojenia\n",
    "param_dist_ridge = {\n",
    "    'regressor__alpha': uniform(0.01, 10.0),  # Losowy zakres wartości dla parametru alpha\n",
    "    'regressor__fit_intercept': [True, False],\n",
    "    'regressor__solver': ['svd', 'lsqr', 'sparse_cg', 'lbfsg', 'sag', 'saga']\n",
    "}"
   ]
  },
  {
   "cell_type": "code",
   "execution_count": 73,
   "metadata": {},
   "outputs": [
    {
     "name": "stdout",
     "output_type": "stream",
     "text": [
      "Fitting 5 folds for each of 15 candidates, totalling 75 fits\n"
     ]
    },
    {
     "name": "stderr",
     "output_type": "stream",
     "text": [
      "/usr/local/lib/python3.11/dist-packages/sklearn/model_selection/_validation.py:540: FitFailedWarning: \n",
      "25 fits failed out of a total of 75.\n",
      "The score on these train-test partitions for these parameters will be set to nan.\n",
      "If these failures are not expected, you can try to debug them by setting error_score='raise'.\n",
      "\n",
      "Below are more details about the failures:\n",
      "--------------------------------------------------------------------------------\n",
      "1 fits failed with the following error:\n",
      "Traceback (most recent call last):\n",
      "  File \"/usr/local/lib/python3.11/dist-packages/sklearn/model_selection/_validation.py\", line 888, in _fit_and_score\n",
      "    estimator.fit(X_train, y_train, **fit_params)\n",
      "  File \"/usr/local/lib/python3.11/dist-packages/sklearn/base.py\", line 1473, in wrapper\n",
      "    return fit_method(estimator, *args, **kwargs)\n",
      "           ^^^^^^^^^^^^^^^^^^^^^^^^^^^^^^^^^^^^^^\n",
      "  File \"/usr/local/lib/python3.11/dist-packages/sklearn/pipeline.py\", line 476, in fit\n",
      "    self._final_estimator.fit(Xt, y, **last_step_params[\"fit\"])\n",
      "  File \"/usr/local/lib/python3.11/dist-packages/sklearn/base.py\", line 1466, in wrapper\n",
      "    estimator._validate_params()\n",
      "  File \"/usr/local/lib/python3.11/dist-packages/sklearn/base.py\", line 666, in _validate_params\n",
      "    validate_parameter_constraints(\n",
      "  File \"/usr/local/lib/python3.11/dist-packages/sklearn/utils/_param_validation.py\", line 95, in validate_parameter_constraints\n",
      "    raise InvalidParameterError(\n",
      "sklearn.utils._param_validation.InvalidParameterError: The 'solver' parameter of Ridge must be a str among {'auto', 'saga', 'sag', 'cholesky', 'svd', 'sparse_cg', 'lbfgs', 'lsqr'}. Got 'lbfsg' instead.\n",
      "\n",
      "--------------------------------------------------------------------------------\n",
      "1 fits failed with the following error:\n",
      "Traceback (most recent call last):\n",
      "  File \"/usr/local/lib/python3.11/dist-packages/sklearn/model_selection/_validation.py\", line 888, in _fit_and_score\n",
      "    estimator.fit(X_train, y_train, **fit_params)\n",
      "  File \"/usr/local/lib/python3.11/dist-packages/sklearn/base.py\", line 1473, in wrapper\n",
      "    return fit_method(estimator, *args, **kwargs)\n",
      "           ^^^^^^^^^^^^^^^^^^^^^^^^^^^^^^^^^^^^^^\n",
      "  File \"/usr/local/lib/python3.11/dist-packages/sklearn/pipeline.py\", line 476, in fit\n",
      "    self._final_estimator.fit(Xt, y, **last_step_params[\"fit\"])\n",
      "  File \"/usr/local/lib/python3.11/dist-packages/sklearn/base.py\", line 1466, in wrapper\n",
      "    estimator._validate_params()\n",
      "  File \"/usr/local/lib/python3.11/dist-packages/sklearn/base.py\", line 666, in _validate_params\n",
      "    validate_parameter_constraints(\n",
      "  File \"/usr/local/lib/python3.11/dist-packages/sklearn/utils/_param_validation.py\", line 95, in validate_parameter_constraints\n",
      "    raise InvalidParameterError(\n",
      "sklearn.utils._param_validation.InvalidParameterError: The 'solver' parameter of Ridge must be a str among {'lsqr', 'auto', 'svd', 'cholesky', 'sag', 'lbfgs', 'saga', 'sparse_cg'}. Got 'lbfsg' instead.\n",
      "\n",
      "--------------------------------------------------------------------------------\n",
      "2 fits failed with the following error:\n",
      "Traceback (most recent call last):\n",
      "  File \"/usr/local/lib/python3.11/dist-packages/sklearn/model_selection/_validation.py\", line 888, in _fit_and_score\n",
      "    estimator.fit(X_train, y_train, **fit_params)\n",
      "  File \"/usr/local/lib/python3.11/dist-packages/sklearn/base.py\", line 1473, in wrapper\n",
      "    return fit_method(estimator, *args, **kwargs)\n",
      "           ^^^^^^^^^^^^^^^^^^^^^^^^^^^^^^^^^^^^^^\n",
      "  File \"/usr/local/lib/python3.11/dist-packages/sklearn/pipeline.py\", line 476, in fit\n",
      "    self._final_estimator.fit(Xt, y, **last_step_params[\"fit\"])\n",
      "  File \"/usr/local/lib/python3.11/dist-packages/sklearn/base.py\", line 1466, in wrapper\n",
      "    estimator._validate_params()\n",
      "  File \"/usr/local/lib/python3.11/dist-packages/sklearn/base.py\", line 666, in _validate_params\n",
      "    validate_parameter_constraints(\n",
      "  File \"/usr/local/lib/python3.11/dist-packages/sklearn/utils/_param_validation.py\", line 95, in validate_parameter_constraints\n",
      "    raise InvalidParameterError(\n",
      "sklearn.utils._param_validation.InvalidParameterError: The 'solver' parameter of Ridge must be a str among {'cholesky', 'lbfgs', 'sparse_cg', 'saga', 'svd', 'sag', 'lsqr', 'auto'}. Got 'lbfsg' instead.\n",
      "\n",
      "--------------------------------------------------------------------------------\n",
      "1 fits failed with the following error:\n",
      "Traceback (most recent call last):\n",
      "  File \"/usr/local/lib/python3.11/dist-packages/sklearn/model_selection/_validation.py\", line 888, in _fit_and_score\n",
      "    estimator.fit(X_train, y_train, **fit_params)\n",
      "  File \"/usr/local/lib/python3.11/dist-packages/sklearn/base.py\", line 1473, in wrapper\n",
      "    return fit_method(estimator, *args, **kwargs)\n",
      "           ^^^^^^^^^^^^^^^^^^^^^^^^^^^^^^^^^^^^^^\n",
      "  File \"/usr/local/lib/python3.11/dist-packages/sklearn/pipeline.py\", line 476, in fit\n",
      "    self._final_estimator.fit(Xt, y, **last_step_params[\"fit\"])\n",
      "  File \"/usr/local/lib/python3.11/dist-packages/sklearn/base.py\", line 1466, in wrapper\n",
      "    estimator._validate_params()\n",
      "  File \"/usr/local/lib/python3.11/dist-packages/sklearn/base.py\", line 666, in _validate_params\n",
      "    validate_parameter_constraints(\n",
      "  File \"/usr/local/lib/python3.11/dist-packages/sklearn/utils/_param_validation.py\", line 95, in validate_parameter_constraints\n",
      "    raise InvalidParameterError(\n",
      "sklearn.utils._param_validation.InvalidParameterError: The 'solver' parameter of Ridge must be a str among {'cholesky', 'sag', 'svd', 'lsqr', 'auto', 'saga', 'sparse_cg', 'lbfgs'}. Got 'lbfsg' instead.\n",
      "\n",
      "--------------------------------------------------------------------------------\n",
      "1 fits failed with the following error:\n",
      "Traceback (most recent call last):\n",
      "  File \"/usr/local/lib/python3.11/dist-packages/sklearn/model_selection/_validation.py\", line 888, in _fit_and_score\n",
      "    estimator.fit(X_train, y_train, **fit_params)\n",
      "  File \"/usr/local/lib/python3.11/dist-packages/sklearn/base.py\", line 1473, in wrapper\n",
      "    return fit_method(estimator, *args, **kwargs)\n",
      "           ^^^^^^^^^^^^^^^^^^^^^^^^^^^^^^^^^^^^^^\n",
      "  File \"/usr/local/lib/python3.11/dist-packages/sklearn/pipeline.py\", line 476, in fit\n",
      "    self._final_estimator.fit(Xt, y, **last_step_params[\"fit\"])\n",
      "  File \"/usr/local/lib/python3.11/dist-packages/sklearn/base.py\", line 1466, in wrapper\n",
      "    estimator._validate_params()\n",
      "  File \"/usr/local/lib/python3.11/dist-packages/sklearn/base.py\", line 666, in _validate_params\n",
      "    validate_parameter_constraints(\n",
      "  File \"/usr/local/lib/python3.11/dist-packages/sklearn/utils/_param_validation.py\", line 95, in validate_parameter_constraints\n",
      "    raise InvalidParameterError(\n",
      "sklearn.utils._param_validation.InvalidParameterError: The 'solver' parameter of Ridge must be a str among {'sparse_cg', 'lbfgs', 'svd', 'lsqr', 'saga', 'sag', 'auto', 'cholesky'}. Got 'lbfsg' instead.\n",
      "\n",
      "--------------------------------------------------------------------------------\n",
      "1 fits failed with the following error:\n",
      "Traceback (most recent call last):\n",
      "  File \"/usr/local/lib/python3.11/dist-packages/sklearn/model_selection/_validation.py\", line 888, in _fit_and_score\n",
      "    estimator.fit(X_train, y_train, **fit_params)\n",
      "  File \"/usr/local/lib/python3.11/dist-packages/sklearn/base.py\", line 1473, in wrapper\n",
      "    return fit_method(estimator, *args, **kwargs)\n",
      "           ^^^^^^^^^^^^^^^^^^^^^^^^^^^^^^^^^^^^^^\n",
      "  File \"/usr/local/lib/python3.11/dist-packages/sklearn/pipeline.py\", line 476, in fit\n",
      "    self._final_estimator.fit(Xt, y, **last_step_params[\"fit\"])\n",
      "  File \"/usr/local/lib/python3.11/dist-packages/sklearn/base.py\", line 1466, in wrapper\n",
      "    estimator._validate_params()\n",
      "  File \"/usr/local/lib/python3.11/dist-packages/sklearn/base.py\", line 666, in _validate_params\n",
      "    validate_parameter_constraints(\n",
      "  File \"/usr/local/lib/python3.11/dist-packages/sklearn/utils/_param_validation.py\", line 95, in validate_parameter_constraints\n",
      "    raise InvalidParameterError(\n",
      "sklearn.utils._param_validation.InvalidParameterError: The 'solver' parameter of Ridge must be a str among {'saga', 'auto', 'lsqr', 'cholesky', 'sag', 'lbfgs', 'svd', 'sparse_cg'}. Got 'lbfsg' instead.\n",
      "\n",
      "--------------------------------------------------------------------------------\n",
      "1 fits failed with the following error:\n",
      "Traceback (most recent call last):\n",
      "  File \"/usr/local/lib/python3.11/dist-packages/sklearn/model_selection/_validation.py\", line 888, in _fit_and_score\n",
      "    estimator.fit(X_train, y_train, **fit_params)\n",
      "  File \"/usr/local/lib/python3.11/dist-packages/sklearn/base.py\", line 1473, in wrapper\n",
      "    return fit_method(estimator, *args, **kwargs)\n",
      "           ^^^^^^^^^^^^^^^^^^^^^^^^^^^^^^^^^^^^^^\n",
      "  File \"/usr/local/lib/python3.11/dist-packages/sklearn/pipeline.py\", line 476, in fit\n",
      "    self._final_estimator.fit(Xt, y, **last_step_params[\"fit\"])\n",
      "  File \"/usr/local/lib/python3.11/dist-packages/sklearn/base.py\", line 1466, in wrapper\n",
      "    estimator._validate_params()\n",
      "  File \"/usr/local/lib/python3.11/dist-packages/sklearn/base.py\", line 666, in _validate_params\n",
      "    validate_parameter_constraints(\n",
      "  File \"/usr/local/lib/python3.11/dist-packages/sklearn/utils/_param_validation.py\", line 95, in validate_parameter_constraints\n",
      "    raise InvalidParameterError(\n",
      "sklearn.utils._param_validation.InvalidParameterError: The 'solver' parameter of Ridge must be a str among {'lsqr', 'cholesky', 'sag', 'sparse_cg', 'svd', 'lbfgs', 'auto', 'saga'}. Got 'lbfsg' instead.\n",
      "\n",
      "--------------------------------------------------------------------------------\n",
      "2 fits failed with the following error:\n",
      "Traceback (most recent call last):\n",
      "  File \"/usr/local/lib/python3.11/dist-packages/sklearn/model_selection/_validation.py\", line 888, in _fit_and_score\n",
      "    estimator.fit(X_train, y_train, **fit_params)\n",
      "  File \"/usr/local/lib/python3.11/dist-packages/sklearn/base.py\", line 1473, in wrapper\n",
      "    return fit_method(estimator, *args, **kwargs)\n",
      "           ^^^^^^^^^^^^^^^^^^^^^^^^^^^^^^^^^^^^^^\n",
      "  File \"/usr/local/lib/python3.11/dist-packages/sklearn/pipeline.py\", line 476, in fit\n",
      "    self._final_estimator.fit(Xt, y, **last_step_params[\"fit\"])\n",
      "  File \"/usr/local/lib/python3.11/dist-packages/sklearn/base.py\", line 1466, in wrapper\n",
      "    estimator._validate_params()\n",
      "  File \"/usr/local/lib/python3.11/dist-packages/sklearn/base.py\", line 666, in _validate_params\n",
      "    validate_parameter_constraints(\n",
      "  File \"/usr/local/lib/python3.11/dist-packages/sklearn/utils/_param_validation.py\", line 95, in validate_parameter_constraints\n",
      "    raise InvalidParameterError(\n",
      "sklearn.utils._param_validation.InvalidParameterError: The 'solver' parameter of Ridge must be a str among {'svd', 'sparse_cg', 'cholesky', 'sag', 'auto', 'saga', 'lbfgs', 'lsqr'}. Got 'lbfsg' instead.\n",
      "\n",
      "--------------------------------------------------------------------------------\n",
      "2 fits failed with the following error:\n",
      "Traceback (most recent call last):\n",
      "  File \"/usr/local/lib/python3.11/dist-packages/sklearn/model_selection/_validation.py\", line 888, in _fit_and_score\n",
      "    estimator.fit(X_train, y_train, **fit_params)\n",
      "  File \"/usr/local/lib/python3.11/dist-packages/sklearn/base.py\", line 1473, in wrapper\n",
      "    return fit_method(estimator, *args, **kwargs)\n",
      "           ^^^^^^^^^^^^^^^^^^^^^^^^^^^^^^^^^^^^^^\n",
      "  File \"/usr/local/lib/python3.11/dist-packages/sklearn/pipeline.py\", line 476, in fit\n",
      "    self._final_estimator.fit(Xt, y, **last_step_params[\"fit\"])\n",
      "  File \"/usr/local/lib/python3.11/dist-packages/sklearn/base.py\", line 1466, in wrapper\n",
      "    estimator._validate_params()\n",
      "  File \"/usr/local/lib/python3.11/dist-packages/sklearn/base.py\", line 666, in _validate_params\n",
      "    validate_parameter_constraints(\n",
      "  File \"/usr/local/lib/python3.11/dist-packages/sklearn/utils/_param_validation.py\", line 95, in validate_parameter_constraints\n",
      "    raise InvalidParameterError(\n",
      "sklearn.utils._param_validation.InvalidParameterError: The 'solver' parameter of Ridge must be a str among {'cholesky', 'svd', 'sparse_cg', 'sag', 'saga', 'lbfgs', 'auto', 'lsqr'}. Got 'lbfsg' instead.\n",
      "\n",
      "--------------------------------------------------------------------------------\n",
      "2 fits failed with the following error:\n",
      "Traceback (most recent call last):\n",
      "  File \"/usr/local/lib/python3.11/dist-packages/sklearn/model_selection/_validation.py\", line 888, in _fit_and_score\n",
      "    estimator.fit(X_train, y_train, **fit_params)\n",
      "  File \"/usr/local/lib/python3.11/dist-packages/sklearn/base.py\", line 1473, in wrapper\n",
      "    return fit_method(estimator, *args, **kwargs)\n",
      "           ^^^^^^^^^^^^^^^^^^^^^^^^^^^^^^^^^^^^^^\n",
      "  File \"/usr/local/lib/python3.11/dist-packages/sklearn/pipeline.py\", line 476, in fit\n",
      "    self._final_estimator.fit(Xt, y, **last_step_params[\"fit\"])\n",
      "  File \"/usr/local/lib/python3.11/dist-packages/sklearn/base.py\", line 1466, in wrapper\n",
      "    estimator._validate_params()\n",
      "  File \"/usr/local/lib/python3.11/dist-packages/sklearn/base.py\", line 666, in _validate_params\n",
      "    validate_parameter_constraints(\n",
      "  File \"/usr/local/lib/python3.11/dist-packages/sklearn/utils/_param_validation.py\", line 95, in validate_parameter_constraints\n",
      "    raise InvalidParameterError(\n",
      "sklearn.utils._param_validation.InvalidParameterError: The 'solver' parameter of Ridge must be a str among {'sag', 'saga', 'sparse_cg', 'cholesky', 'auto', 'lsqr', 'svd', 'lbfgs'}. Got 'lbfsg' instead.\n",
      "\n",
      "--------------------------------------------------------------------------------\n",
      "10 fits failed with the following error:\n",
      "Traceback (most recent call last):\n",
      "  File \"/usr/local/lib/python3.11/dist-packages/sklearn/model_selection/_validation.py\", line 888, in _fit_and_score\n",
      "    estimator.fit(X_train, y_train, **fit_params)\n",
      "  File \"/usr/local/lib/python3.11/dist-packages/sklearn/base.py\", line 1473, in wrapper\n",
      "    return fit_method(estimator, *args, **kwargs)\n",
      "           ^^^^^^^^^^^^^^^^^^^^^^^^^^^^^^^^^^^^^^\n",
      "  File \"/usr/local/lib/python3.11/dist-packages/sklearn/pipeline.py\", line 476, in fit\n",
      "    self._final_estimator.fit(Xt, y, **last_step_params[\"fit\"])\n",
      "  File \"/usr/local/lib/python3.11/dist-packages/sklearn/base.py\", line 1473, in wrapper\n",
      "    return fit_method(estimator, *args, **kwargs)\n",
      "           ^^^^^^^^^^^^^^^^^^^^^^^^^^^^^^^^^^^^^^\n",
      "  File \"/usr/local/lib/python3.11/dist-packages/sklearn/linear_model/_ridge.py\", line 1250, in fit\n",
      "    return super().fit(X, y, sample_weight=sample_weight)\n",
      "           ^^^^^^^^^^^^^^^^^^^^^^^^^^^^^^^^^^^^^^^^^^^^^^\n",
      "  File \"/usr/local/lib/python3.11/dist-packages/sklearn/linear_model/_ridge.py\", line 994, in fit\n",
      "    self.coef_, self.n_iter_, self.solver_ = _ridge_regression(\n",
      "                                             ^^^^^^^^^^^^^^^^^^\n",
      "  File \"/usr/local/lib/python3.11/dist-packages/sklearn/linear_model/_ridge.py\", line 810, in _ridge_regression\n",
      "    raise TypeError(\"SVD solver does not support sparse inputs currently\")\n",
      "TypeError: SVD solver does not support sparse inputs currently\n",
      "\n",
      "--------------------------------------------------------------------------------\n",
      "1 fits failed with the following error:\n",
      "Traceback (most recent call last):\n",
      "  File \"/usr/local/lib/python3.11/dist-packages/sklearn/model_selection/_validation.py\", line 888, in _fit_and_score\n",
      "    estimator.fit(X_train, y_train, **fit_params)\n",
      "  File \"/usr/local/lib/python3.11/dist-packages/sklearn/base.py\", line 1473, in wrapper\n",
      "    return fit_method(estimator, *args, **kwargs)\n",
      "           ^^^^^^^^^^^^^^^^^^^^^^^^^^^^^^^^^^^^^^\n",
      "  File \"/usr/local/lib/python3.11/dist-packages/sklearn/pipeline.py\", line 476, in fit\n",
      "    self._final_estimator.fit(Xt, y, **last_step_params[\"fit\"])\n",
      "  File \"/usr/local/lib/python3.11/dist-packages/sklearn/base.py\", line 1466, in wrapper\n",
      "    estimator._validate_params()\n",
      "  File \"/usr/local/lib/python3.11/dist-packages/sklearn/base.py\", line 666, in _validate_params\n",
      "    validate_parameter_constraints(\n",
      "  File \"/usr/local/lib/python3.11/dist-packages/sklearn/utils/_param_validation.py\", line 95, in validate_parameter_constraints\n",
      "    raise InvalidParameterError(\n",
      "sklearn.utils._param_validation.InvalidParameterError: The 'solver' parameter of Ridge must be a str among {'svd', 'lbfgs', 'lsqr', 'sparse_cg', 'saga', 'sag', 'auto', 'cholesky'}. Got 'lbfsg' instead.\n",
      "\n",
      "  warnings.warn(some_fits_failed_message, FitFailedWarning)\n",
      "/usr/local/lib/python3.11/dist-packages/sklearn/model_selection/_search.py:1052: UserWarning: One or more of the test scores are non-finite: [0.79279888 0.79279888 0.79279888 0.79279656        nan        nan\n",
      " 0.79279841        nan 0.79279888 0.79279902 0.79279665        nan\n",
      " 0.79279888        nan 0.79279836]\n",
      "  warnings.warn(\n"
     ]
    },
    {
     "name": "stdout",
     "output_type": "stream",
     "text": [
      "Best parameters found for Ridge:\n",
      "{'regressor__alpha': 0.4766566321361543, 'regressor__fit_intercept': False, 'regressor__solver': 'saga'}\n",
      "Best score found for Ridge: 0.7928\n"
     ]
    }
   ],
   "source": [
    "random_search_ridge = RandomizedSearchCV(pipeline_ridge, param_distributions=param_dist_ridge, n_iter=20, cv=5, verbose=1, n_jobs=-1, random_state=42)\n",
    "random_search_ridge.fit(X_train, y_train)\n",
    "\n",
    "print(\"Best parameters found for Ridge:\")\n",
    "print(random_search_ridge.best_params_)\n",
    "print(\"Best score found for Ridge: {:.4f}\".format(random_search_ridge.best_score_))\n",
    "\n",
    "# Predykcja na zbiorze testowym i ocena\n",
    "y_pred_ridge = random_search_ridge.predict(X_test)\n",
    "mse = mean_squared_error(y_test, y_pred_ridge)\n",
    "r2 = r2_score(y_test, y_pred_ridge)\n",
    "results.append({\n",
    "    'Model': 'Ridge',\n",
    "    'Params': random_search_ridge.best_params_,\n",
    "    'Best Score': random_search_ridge.best_score_,\n",
    "    'Mean Squared Error': mse,\n",
    "    'R2 Score': r2\n",
    "})"
   ]
  },
  {
   "cell_type": "code",
   "execution_count": 74,
   "metadata": {},
   "outputs": [
    {
     "name": "stdout",
     "output_type": "stream",
     "text": [
      "Results saved to results.txt\n"
     ]
    }
   ],
   "source": [
    "with open(r'../data/output/results.txt', 'a') as f:\n",
    "    for result in results:\n",
    "        # f.write(f\"Model: {result['Model']}\\n\")\n",
    "        f.write(f\"Model: {result['Model']}_2nd_test\\n\")\n",
    "        f.write(f\"Params: {result['Params']}\\n\")\n",
    "        f.write(f\"Best Score: {result['Best Score']:.4f}\\n\")\n",
    "        f.write(f\"Mean Squared Error: {result['Mean Squared Error']:.4f}\\n\")\n",
    "        f.write(f\"R2 Score: {result['R2 Score']:.4f}\\n\\n\")\n",
    "\n",
    "print(\"Results saved to results.txt\")"
   ]
  },
  {
   "cell_type": "markdown",
   "metadata": {},
   "source": [
    "### Random Forest Regression\n"
   ]
  },
  {
   "cell_type": "code",
   "execution_count": 144,
   "metadata": {},
   "outputs": [],
   "source": [
    "results = []\n",
    "\n",
    "pipeline_rf = Pipeline(steps=[\n",
    "    ('preprocessor', preprocessor),\n",
    "    ('regressor', RandomForestRegressor(random_state=42))\n",
    "])\n",
    "\n",
    "param_dist_rf = {\n",
    "    'regressor__n_estimators': randint(50, 300),\n",
    "    'regressor__max_features': ['sqrt'], # auto and log2 were worse in previous tests\n",
    "    'regressor__max_depth': randint(5, 10)\n",
    "}"
   ]
  },
  {
   "cell_type": "code",
   "execution_count": 145,
   "metadata": {},
   "outputs": [
    {
     "name": "stdout",
     "output_type": "stream",
     "text": [
      "Fitting 5 folds for each of 15 candidates, totalling 75 fits\n",
      "Best parameters found for RandomForestRegressor:\n",
      "{'regressor__max_depth': 8, 'regressor__max_features': 'sqrt', 'regressor__n_estimators': 235}\n",
      "Best score found for RandomForestRegressor: 0.7765\n"
     ]
    }
   ],
   "source": [
    "# Second method\n",
    "random_search_rf = RandomizedSearchCV(pipeline_rf, param_distributions=param_dist_rf, n_iter=15, cv=5, verbose=1, n_jobs=-1)\n",
    "random_search_rf.fit(X_train, y_train)\n",
    "\n",
    "print(\"Best parameters found for RandomForestRegressor:\")\n",
    "print(random_search_rf.best_params_)\n",
    "print(\"Best score found for RandomForestRegressor: {:.4f}\".format(random_search_rf.best_score_))\n",
    "\n",
    "y_pred_rf = random_search_rf.predict(X_test)\n",
    "mse = mean_squared_error(y_test, y_pred_rf)\n",
    "r2 = r2_score(y_test, y_pred_rf)\n",
    "results.append({\n",
    "    'Model': 'RandomForestRegressor',\n",
    "    'Params': random_search_rf.best_params_,\n",
    "    'Best Score': random_search_rf.best_score_,\n",
    "    'Mean Squared Error': mse,\n",
    "    'R2 Score': r2\n",
    "})"
   ]
  },
  {
   "cell_type": "code",
   "execution_count": 146,
   "metadata": {},
   "outputs": [],
   "source": [
    "# Saving results in txt file\n",
    "with open(r'../data/output/results.txt', 'a') as f:\n",
    "    for result in results:\n",
    "        f.write(f\"Model: {result['Model']}_1\\n\")\n",
    "        f.write(f\"Params: {result['Params']}\\n\")\n",
    "        f.write(f\"Best Score: {result['Best Score']:.4f}\\n\")\n",
    "        f.write(f\"Mean Squared Error: {result['Mean Squared Error']:.4f}\\n\")\n",
    "        f.write(f\"R2 Score: {result['R2 Score']:.4f}\\n\\n\")"
   ]
  },
  {
   "cell_type": "code",
   "execution_count": 147,
   "metadata": {},
   "outputs": [
    {
     "data": {
      "text/plain": [
       "['../data/output/models/random_forest_model_1.pkl']"
      ]
     },
     "execution_count": 147,
     "metadata": {},
     "output_type": "execute_result"
    }
   ],
   "source": [
    "joblib.dump(random_search_rf, r'../data/output/models/random_forest_model_1.pkl')"
   ]
  },
  {
   "cell_type": "markdown",
   "metadata": {},
   "source": [
    "### LightGBM"
   ]
  },
  {
   "cell_type": "code",
   "execution_count": 52,
   "metadata": {},
   "outputs": [],
   "source": [
    "results = []\n",
    "\n",
    "def objective(trial):\n",
    "    params = {\n",
    "        'n_estimators': trial.suggest_int('n_estimators', 50, 300),\n",
    "        'learning_rate': trial.suggest_uniform('learning_rate', 0.005, 0.3),\n",
    "        'num_leaves': trial.suggest_int('num_leaves', 20, 50),\n",
    "        'max_depth': trial.suggest_int('max_depth', 5, 25),\n",
    "        'min_child_samples': trial.suggest_int('min_child_samples', 10, 70),\n",
    "        'subsample': trial.suggest_uniform('subsample', 0.4, 1.0),\n",
    "        'colsample_bytree': trial.suggest_uniform('colsample_bytree', 0.5, 1.0)\n",
    "    }\n",
    "\n",
    "    model = lgb.LGBMRegressor(**params, random_state=42)\n",
    "\n",
    "    pipeline = Pipeline(steps=[\n",
    "        ('preprocessor', preprocessor),\n",
    "        ('regressor', model)\n",
    "    ])\n",
    "    \n",
    "    pipeline.fit(X_train, y_train)\n",
    "    y_pred = pipeline.predict(X_test)\n",
    "    mse = mean_squared_error(y_test, y_pred)\n",
    "    \n",
    "    return mse"
   ]
  },
  {
   "cell_type": "code",
   "execution_count": null,
   "metadata": {},
   "outputs": [],
   "source": [
    "study = optuna.create_study(direction='minimize')\n",
    "study.optimize(objective, n_trials=20)\n",
    "\n",
    "print(\"Best parameters found for LightGBM:\")\n",
    "print(study.best_params)\n",
    "\n",
    "best_params = study.best_params\n",
    "best_model = lgb.LGBMRegressor(**best_params, random_state=42)\n",
    "\n",
    "pipeline_best = Pipeline(steps=[\n",
    "    ('preprocessor', preprocessor),\n",
    "    ('regressor', best_model)\n",
    "])\n",
    "\n",
    "pipeline_best.fit(X_train, y_train)\n",
    "y_pred_best = pipeline_best.predict(X_test)\n",
    "\n",
    "mse_best = mean_squared_error(y_test, y_pred_best)\n",
    "r2_best = r2_score(y_test, y_pred_best)\n",
    "\n",
    "results = [{\n",
    "    'Model': 'LightGBM',\n",
    "    'Params': study.best_params,\n",
    "    'Mean Squared Error': mse_best,\n",
    "    'R2 Score': r2_best\n",
    "}]"
   ]
  },
  {
   "cell_type": "code",
   "execution_count": 151,
   "metadata": {},
   "outputs": [
    {
     "name": "stdout",
     "output_type": "stream",
     "text": [
      "Results saved to results.txt\n"
     ]
    }
   ],
   "source": [
    "with open(r'../data/output/results.txt', 'a') as f:\n",
    "    for result in results:\n",
    "        # f.write(f\"Model: {result['Model']}\\n\")\n",
    "        f.write(f\"Model: {result['Model']}_1\\n\")\n",
    "        f.write(f\"Params: {result['Params']}\\n\")\n",
    "        f.write(f\"Mean Squared Error: {result['Mean Squared Error']:.4f}\\n\")\n",
    "        f.write(f\"R2 Score: {result['R2 Score']:.4f}\\n\\n\")\n",
    "\n",
    "print(\"Results saved to results.txt\")"
   ]
  },
  {
   "cell_type": "code",
   "execution_count": 152,
   "metadata": {},
   "outputs": [
    {
     "data": {
      "text/plain": [
       "['../data/output/models/LightGBM_model_1.pkl']"
      ]
     },
     "execution_count": 152,
     "metadata": {},
     "output_type": "execute_result"
    }
   ],
   "source": [
    "# Save the model\n",
    "joblib.dump(pipeline_best, r'../data/output/models/LightGBM_model_1.pkl')"
   ]
  },
  {
   "cell_type": "markdown",
   "metadata": {},
   "source": [
    "### Neural Network"
   ]
  },
  {
   "cell_type": "code",
   "execution_count": 14,
   "metadata": {},
   "outputs": [],
   "source": [
    "import tensorflow as tf\n",
    "from tensorflow.keras.models import Sequential\n",
    "from tensorflow.keras.layers import Dense, Dropout, BatchNormalization\n",
    "from tensorflow.keras.optimizers import SGD, Adam\n",
    "from tensorflow.keras.regularizers import l2"
   ]
  },
  {
   "cell_type": "code",
   "execution_count": 52,
   "metadata": {},
   "outputs": [
    {
     "name": "stdout",
     "output_type": "stream",
     "text": [
      "Num GPUs Available:  0\n",
      "TensorFlow version: 2.16.1\n",
      "Error checking cuDNN version: module 'tensorflow.python.platform.build_info' has no attribute 'cudnn_version_number'\n"
     ]
    }
   ],
   "source": [
    "# Check if TensorFlow can access the GPU\n",
    "print(\"Num GPUs Available: \", len(tf.config.list_physical_devices('GPU')))\n",
    "\n",
    "# Print TensorFlow version and cuDNN version if available\n",
    "print(\"TensorFlow version:\", tf.__version__)\n",
    "\n",
    "# Check if cuDNN is properly installed\n",
    "try:\n",
    "    from tensorflow.python.platform import build_info as tf_build_info\n",
    "    print(\"cuDNN version:\", tf_build_info.cudnn_version_number)\n",
    "except Exception as e:\n",
    "    print(\"Error checking cuDNN version:\", e)"
   ]
  },
  {
   "cell_type": "code",
   "execution_count": 157,
   "metadata": {},
   "outputs": [
    {
     "name": "stdout",
     "output_type": "stream",
     "text": [
      "(19,)\n"
     ]
    }
   ],
   "source": [
    "X_train_processed = preprocessor.fit_transform(X_train)\n",
    "X_test_processed = preprocessor.transform(X_test)\n",
    "\n",
    "input_shape=(X_train_processed.shape[1],)\n",
    "print(input_shape)"
   ]
  },
  {
   "cell_type": "code",
   "execution_count": 15,
   "metadata": {},
   "outputs": [
    {
     "name": "stdout",
     "output_type": "stream",
     "text": [
      "Epoch 1/25\n"
     ]
    },
    {
     "name": "stderr",
     "output_type": "stream",
     "text": [
      "c:\\Users\\Prezes\\AppData\\Local\\Programs\\Python\\Python310\\lib\\site-packages\\keras\\src\\layers\\core\\dense.py:87: UserWarning: Do not pass an `input_shape`/`input_dim` argument to a layer. When using Sequential models, prefer using an `Input(shape)` object as the first layer in the model instead.\n",
      "  super().__init__(activity_regularizer=activity_regularizer, **kwargs)\n"
     ]
    },
    {
     "name": "stdout",
     "output_type": "stream",
     "text": [
      "\u001b[1m4470/4470\u001b[0m \u001b[32m━━━━━━━━━━━━━━━━━━━━\u001b[0m\u001b[37m\u001b[0m \u001b[1m11s\u001b[0m 2ms/step - loss: 101799821312.0000 - mean_squared_error: 101799821312.0000 - val_loss: 100472045568.0000 - val_mean_squared_error: 100472045568.0000\n",
      "Epoch 2/25\n",
      "\u001b[1m4470/4470\u001b[0m \u001b[32m━━━━━━━━━━━━━━━━━━━━\u001b[0m\u001b[37m\u001b[0m \u001b[1m9s\u001b[0m 2ms/step - loss: 99962413056.0000 - mean_squared_error: 99962413056.0000 - val_loss: 97630806016.0000 - val_mean_squared_error: 97630806016.0000\n",
      "Epoch 3/25\n",
      "\u001b[1m4470/4470\u001b[0m \u001b[32m━━━━━━━━━━━━━━━━━━━━\u001b[0m\u001b[37m\u001b[0m \u001b[1m8s\u001b[0m 2ms/step - loss: 96872636416.0000 - mean_squared_error: 96872636416.0000 - val_loss: 93791068160.0000 - val_mean_squared_error: 93791068160.0000\n",
      "Epoch 4/25\n",
      "\u001b[1m4470/4470\u001b[0m \u001b[32m━━━━━━━━━━━━━━━━━━━━\u001b[0m\u001b[37m\u001b[0m \u001b[1m8s\u001b[0m 2ms/step - loss: 92987957248.0000 - mean_squared_error: 92987957248.0000 - val_loss: 89020530688.0000 - val_mean_squared_error: 89020530688.0000\n",
      "Epoch 5/25\n",
      "\u001b[1m4470/4470\u001b[0m \u001b[32m━━━━━━━━━━━━━━━━━━━━\u001b[0m\u001b[37m\u001b[0m \u001b[1m8s\u001b[0m 2ms/step - loss: 87874379776.0000 - mean_squared_error: 87874379776.0000 - val_loss: 82934079488.0000 - val_mean_squared_error: 82934079488.0000\n",
      "Epoch 6/25\n",
      "\u001b[1m4470/4470\u001b[0m \u001b[32m━━━━━━━━━━━━━━━━━━━━\u001b[0m\u001b[37m\u001b[0m \u001b[1m8s\u001b[0m 2ms/step - loss: 81601888256.0000 - mean_squared_error: 81601888256.0000 - val_loss: 75563728896.0000 - val_mean_squared_error: 75563728896.0000\n",
      "Epoch 7/25\n",
      "\u001b[1m4470/4470\u001b[0m \u001b[32m━━━━━━━━━━━━━━━━━━━━\u001b[0m\u001b[37m\u001b[0m \u001b[1m8s\u001b[0m 2ms/step - loss: 74356137984.0000 - mean_squared_error: 74356137984.0000 - val_loss: 69706481664.0000 - val_mean_squared_error: 69706481664.0000\n",
      "Epoch 8/25\n",
      "\u001b[1m4470/4470\u001b[0m \u001b[32m━━━━━━━━━━━━━━━━━━━━\u001b[0m\u001b[37m\u001b[0m \u001b[1m8s\u001b[0m 2ms/step - loss: 67210911744.0000 - mean_squared_error: 67210911744.0000 - val_loss: 60666019840.0000 - val_mean_squared_error: 60666019840.0000\n",
      "Epoch 9/25\n",
      "\u001b[1m4470/4470\u001b[0m \u001b[32m━━━━━━━━━━━━━━━━━━━━\u001b[0m\u001b[37m\u001b[0m \u001b[1m8s\u001b[0m 2ms/step - loss: 59324850176.0000 - mean_squared_error: 59324850176.0000 - val_loss: 53423173632.0000 - val_mean_squared_error: 53423173632.0000\n",
      "Epoch 10/25\n",
      "\u001b[1m4470/4470\u001b[0m \u001b[32m━━━━━━━━━━━━━━━━━━━━\u001b[0m\u001b[37m\u001b[0m \u001b[1m8s\u001b[0m 2ms/step - loss: 51195469824.0000 - mean_squared_error: 51195469824.0000 - val_loss: 48572420096.0000 - val_mean_squared_error: 48572420096.0000\n",
      "Epoch 11/25\n",
      "\u001b[1m4470/4470\u001b[0m \u001b[32m━━━━━━━━━━━━━━━━━━━━\u001b[0m\u001b[37m\u001b[0m \u001b[1m8s\u001b[0m 2ms/step - loss: 43433414656.0000 - mean_squared_error: 43433414656.0000 - val_loss: 37577420800.0000 - val_mean_squared_error: 37577420800.0000\n",
      "Epoch 12/25\n",
      "\u001b[1m4470/4470\u001b[0m \u001b[32m━━━━━━━━━━━━━━━━━━━━\u001b[0m\u001b[37m\u001b[0m \u001b[1m8s\u001b[0m 2ms/step - loss: 35722166272.0000 - mean_squared_error: 35722166272.0000 - val_loss: 31098662912.0000 - val_mean_squared_error: 31098662912.0000\n",
      "Epoch 13/25\n",
      "\u001b[1m4470/4470\u001b[0m \u001b[32m━━━━━━━━━━━━━━━━━━━━\u001b[0m\u001b[37m\u001b[0m \u001b[1m8s\u001b[0m 2ms/step - loss: 28753336320.0000 - mean_squared_error: 28753336320.0000 - val_loss: 23538317312.0000 - val_mean_squared_error: 23538317312.0000\n",
      "Epoch 14/25\n",
      "\u001b[1m4470/4470\u001b[0m \u001b[32m━━━━━━━━━━━━━━━━━━━━\u001b[0m\u001b[37m\u001b[0m \u001b[1m8s\u001b[0m 2ms/step - loss: 22773524480.0000 - mean_squared_error: 22773524480.0000 - val_loss: 17140919296.0000 - val_mean_squared_error: 17140919296.0000\n",
      "Epoch 15/25\n",
      "\u001b[1m4470/4470\u001b[0m \u001b[32m━━━━━━━━━━━━━━━━━━━━\u001b[0m\u001b[37m\u001b[0m \u001b[1m8s\u001b[0m 2ms/step - loss: 17418940416.0000 - mean_squared_error: 17418940416.0000 - val_loss: 13295391744.0000 - val_mean_squared_error: 13295391744.0000\n",
      "Epoch 16/25\n",
      "\u001b[1m4470/4470\u001b[0m \u001b[32m━━━━━━━━━━━━━━━━━━━━\u001b[0m\u001b[37m\u001b[0m \u001b[1m8s\u001b[0m 2ms/step - loss: 13227237376.0000 - mean_squared_error: 13227237376.0000 - val_loss: 10317808640.0000 - val_mean_squared_error: 10317808640.0000\n",
      "Epoch 17/25\n",
      "\u001b[1m4470/4470\u001b[0m \u001b[32m━━━━━━━━━━━━━━━━━━━━\u001b[0m\u001b[37m\u001b[0m \u001b[1m8s\u001b[0m 2ms/step - loss: 9693427712.0000 - mean_squared_error: 9693427712.0000 - val_loss: 6767206912.0000 - val_mean_squared_error: 6767206912.0000\n",
      "Epoch 18/25\n",
      "\u001b[1m4470/4470\u001b[0m \u001b[32m━━━━━━━━━━━━━━━━━━━━\u001b[0m\u001b[37m\u001b[0m \u001b[1m8s\u001b[0m 2ms/step - loss: 7180091904.0000 - mean_squared_error: 7180091904.0000 - val_loss: 5854124544.0000 - val_mean_squared_error: 5854124544.0000\n",
      "Epoch 19/25\n",
      "\u001b[1m4470/4470\u001b[0m \u001b[32m━━━━━━━━━━━━━━━━━━━━\u001b[0m\u001b[37m\u001b[0m \u001b[1m8s\u001b[0m 2ms/step - loss: 5545843712.0000 - mean_squared_error: 5545843712.0000 - val_loss: 4596635648.0000 - val_mean_squared_error: 4596635648.0000\n",
      "Epoch 20/25\n",
      "\u001b[1m4470/4470\u001b[0m \u001b[32m━━━━━━━━━━━━━━━━━━━━\u001b[0m\u001b[37m\u001b[0m \u001b[1m8s\u001b[0m 2ms/step - loss: 4944839680.0000 - mean_squared_error: 4944839680.0000 - val_loss: 4557476352.0000 - val_mean_squared_error: 4557476352.0000\n",
      "Epoch 21/25\n",
      "\u001b[1m4470/4470\u001b[0m \u001b[32m━━━━━━━━━━━━━━━━━━━━\u001b[0m\u001b[37m\u001b[0m \u001b[1m8s\u001b[0m 2ms/step - loss: 4829434368.0000 - mean_squared_error: 4829434368.0000 - val_loss: 4613748736.0000 - val_mean_squared_error: 4613748736.0000\n",
      "Epoch 22/25\n",
      "\u001b[1m4470/4470\u001b[0m \u001b[32m━━━━━━━━━━━━━━━━━━━━\u001b[0m\u001b[37m\u001b[0m \u001b[1m8s\u001b[0m 2ms/step - loss: 4833371648.0000 - mean_squared_error: 4833371648.0000 - val_loss: 4547813888.0000 - val_mean_squared_error: 4547813888.0000\n",
      "Epoch 23/25\n",
      "\u001b[1m4470/4470\u001b[0m \u001b[32m━━━━━━━━━━━━━━━━━━━━\u001b[0m\u001b[37m\u001b[0m \u001b[1m8s\u001b[0m 2ms/step - loss: 4826311168.0000 - mean_squared_error: 4826311168.0000 - val_loss: 4548752384.0000 - val_mean_squared_error: 4548752384.0000\n",
      "Epoch 24/25\n",
      "\u001b[1m4470/4470\u001b[0m \u001b[32m━━━━━━━━━━━━━━━━━━━━\u001b[0m\u001b[37m\u001b[0m \u001b[1m9s\u001b[0m 2ms/step - loss: 4790795264.0000 - mean_squared_error: 4790795264.0000 - val_loss: 4548598784.0000 - val_mean_squared_error: 4548598784.0000\n",
      "Epoch 25/25\n",
      "\u001b[1m4470/4470\u001b[0m \u001b[32m━━━━━━━━━━━━━━━━━━━━\u001b[0m\u001b[37m\u001b[0m \u001b[1m9s\u001b[0m 2ms/step - loss: 4807864320.0000 - mean_squared_error: 4807864320.0000 - val_loss: 4578360832.0000 - val_mean_squared_error: 4578360832.0000\n",
      "\u001b[1m7663/7663\u001b[0m \u001b[32m━━━━━━━━━━━━━━━━━━━━\u001b[0m\u001b[37m\u001b[0m \u001b[1m7s\u001b[0m 942us/step - loss: 4604988928.0000 - mean_squared_error: 4604988928.0000\n",
      "\n",
      "Simple Neural Network - Evaluation:\n",
      "Test MSE: 4578354176.0000\n",
      "\u001b[1m7663/7663\u001b[0m \u001b[32m━━━━━━━━━━━━━━━━━━━━\u001b[0m\u001b[37m\u001b[0m \u001b[1m7s\u001b[0m 943us/step\n",
      "Mean Squared Error: 4578358784.0000\n",
      "R2 Score: 0.8372\n"
     ]
    }
   ],
   "source": [
    "X_train_processed = preprocessor.fit_transform(X_train)\n",
    "X_test_processed = preprocessor.transform(X_test)\n",
    "\n",
    "# Konwersja macierzy rzadkich na gęste\n",
    "# X_train_processed = X_train_processed.toarray()\n",
    "# X_test_processed = X_test_processed.toarray()\n",
    "\n",
    "# Model definition\n",
    "model = Sequential([\n",
    "    Dense(16, activation='relu', input_shape=(X_train_processed.shape[1],)), # 19\n",
    "    BatchNormalization(),\n",
    "    Dense(8, activation='relu'),\n",
    "    BatchNormalization(),\n",
    "    Dense(4, activation='relu'),\n",
    "    BatchNormalization(),\n",
    "    Dense(1, activation='linear')  # Use linear activation for regression\n",
    "])\n",
    "\n",
    "# Model compilation\n",
    "learning_rate = 0.003\n",
    "batch_size = 128\n",
    "epochs = 25\n",
    "model.compile(optimizer=Adam(learning_rate=learning_rate),  # Adam(learning_rate=0.0003)\n",
    "              loss='mean_squared_error',  # Use mean_squared_error for regression\n",
    "              metrics=['mean_squared_error'])\n",
    "\n",
    "# Model training\n",
    "history = model.fit(X_train_processed, y_train, epochs=epochs, batch_size=batch_size, validation_data=(X_test_processed, y_test), verbose=1)\n",
    "\n",
    "# Model evaluation\n",
    "test_loss, test_mse = model.evaluate(X_test_processed, y_test, verbose=1)\n",
    "print(\"\\nSimple Neural Network - Evaluation:\")\n",
    "print(f'Test MSE: {test_mse:.4f}')\n",
    "\n",
    "# Prediction\n",
    "y_pred_nn = model.predict(X_test_processed)\n",
    "\n",
    "# Compute additional metrics\n",
    "mse_nn = mean_squared_error(y_test, y_pred_nn)\n",
    "r2_nn = r2_score(y_test, y_pred_nn)\n",
    "\n",
    "print(f'Mean Squared Error: {mse_nn:.4f}')\n",
    "print(f'R2 Score: {r2_nn:.4f}')\n",
    "\n",
    "# Save results to a file with additional parameters\n",
    "results = [{\n",
    "    'Model': 'Simple Neural Network',\n",
    "    'Mean Squared Error': mse_nn,\n",
    "    'R2 Score': r2_nn,\n",
    "    'Model Architecture': [\n",
    "        {'layer_type': 'Dense', 'units': 64, 'activation': 'relu'},\n",
    "        {'layer_type': 'BatchNormalization'},\n",
    "        {'layer_type': 'Dense', 'units': 8, 'activation': 'relu'},\n",
    "        {'layer_type': 'BatchNormalization'},\n",
    "        {'layer_type': 'Dense', 'units': 4, 'activation': 'relu'},\n",
    "        {'layer_type': 'BatchNormalization'},\n",
    "        {'layer_type': 'Dense', 'units': 1, 'activation': 'linear'}\n",
    "    ],\n",
    "    'Optimizer': 'Adam',\n",
    "    'Learning Rate': learning_rate,\n",
    "    'Batch Size': batch_size,\n",
    "    'Epochs': epochs\n",
    "}]\n"
   ]
  },
  {
   "cell_type": "code",
   "execution_count": 16,
   "metadata": {},
   "outputs": [
    {
     "data": {
      "image/png": "[encoded data removed]",
      "text/plain": [
       "<Figure size 1200x600 with 1 Axes>"
      ]
     },
     "metadata": {},
     "output_type": "display_data"
    }
   ],
   "source": [
    "plt.figure(figsize=(12, 6))\n",
    "plt.plot(history.history['loss'], label='Training Loss')\n",
    "plt.plot(history.history['val_loss'], label='Validation Loss')\n",
    "plt.title('Training and Validation Loss')\n",
    "plt.xlabel('Epochs')\n",
    "plt.ylabel('Loss')\n",
    "plt.legend()\n",
    "plt.show()"
   ]
  },
  {
   "cell_type": "code",
   "execution_count": 119,
   "metadata": {},
   "outputs": [
    {
     "name": "stdout",
     "output_type": "stream",
     "text": [
      "Results appended to results.txt\n"
     ]
    }
   ],
   "source": [
    "with open('../data/output/results.txt', 'a') as f:\n",
    "    for result in results:\n",
    "        # f.write(f\"Model: {result['Model']}\\n\")\n",
    "        f.write(f\"Model: {result['Model']}_1\\n\")\n",
    "        f.write(f\"Mean Squared Error: {result['Mean Squared Error']:.4f}\\n\")\n",
    "        f.write(f\"R2 Score: {result['R2 Score']:.4f}\\n\")\n",
    "        f.write(f\"Model Architecture: {result['Model Architecture']}\\n\")\n",
    "        f.write(f\"Optimizer: {result['Optimizer']}\\n\")\n",
    "        f.write(f\"Learning Rate: {result['Learning Rate']}\\n\")\n",
    "        f.write(f\"Batch Size: {result['Batch Size']}\\n\")\n",
    "        f.write(f\"Epochs: {result['Epochs']}\\n\")\n",
    "        f.write(\"\\n\")\n",
    "\n",
    "print(\"Results appended to results.txt\")"
   ]
  },
  {
   "cell_type": "code",
   "execution_count": 121,
   "metadata": {},
   "outputs": [
    {
     "name": "stderr",
     "output_type": "stream",
     "text": [
      "WARNING:absl:You are saving your model as an HDF5 file via `model.save()` or `keras.saving.save_model(model)`. This file format is considered legacy. We recommend using instead the native Keras format, e.g. `model.save('my_model.keras')` or `keras.saving.save_model(model, 'my_model.keras')`. \n"
     ]
    },
    {
     "name": "stdout",
     "output_type": "stream",
     "text": [
      "Model saved as 'simple_nn_model.h5'\n"
     ]
    }
   ],
   "source": [
    "\n",
    "# Save the model\n",
    "model.save(r'../data/output/models/nn_model_SGD_1.h5')\n",
    "print(\"Model saved as 'simple_nn_model.h5'\")\n"
   ]
  },
  {
   "cell_type": "markdown",
   "metadata": {},
   "source": [
    "## Model Comparison"
   ]
  },
  {
   "cell_type": "code",
   "execution_count": 5,
   "metadata": {},
   "outputs": [
    {
     "data": {
      "image/png": "[encoded data removed]",
      "text/plain": [
       "<Figure size 1000x600 with 1 Axes>"
      ]
     },
     "metadata": {},
     "output_type": "display_data"
    }
   ],
   "source": [
    "results_file = r'../data/output/results2.txt'\n",
    "\n",
    "results = []\n",
    "\n",
    "with open(results_file, 'r') as file:\n",
    "    lines = file.readlines()\n",
    "\n",
    "i = 0\n",
    "while i < len(lines):\n",
    "    if lines[i].strip() == '':\n",
    "        i += 1\n",
    "        continue\n",
    "    \n",
    "    model_name = None\n",
    "    mse = None\n",
    "    r2 = None\n",
    "    \n",
    "    while i < len(lines) and lines[i].strip() != '':\n",
    "        line = lines[i].strip()\n",
    "        \n",
    "        if line.startswith('Model:'):\n",
    "            model_name = line.split(': ')[1]\n",
    "        elif line.startswith('Mean Squared Error:'):\n",
    "            mse = float(line.split(': ')[1])\n",
    "        elif line.startswith('R2 Score:'):\n",
    "            r2 = float(line.split(': ')[1])\n",
    "        \n",
    "        i += 1\n",
    "    \n",
    "    if model_name and mse is not None and r2 is not None:\n",
    "        results.append({\n",
    "            'Model': model_name,\n",
    "            'MSE': mse,\n",
    "            'R2 Score': r2\n",
    "        })\n",
    "\n",
    "mse_scores = [result['MSE'] for result in results]\n",
    "r2_scores = [result['R2 Score'] for result in results]\n",
    "model_names = [result['Model'] for result in results]\n",
    "\n",
    "plt.figure(figsize=(10, 6))\n",
    "plt.scatter(mse_scores, r2_scores, color='b', alpha=0.7)\n",
    "plt.title('MSE vs R2 Score for Different Models')\n",
    "plt.xlabel('Mean Squared Error (MSE)')\n",
    "plt.ylabel('R2 Score')\n",
    "\n",
    "for i, model_name in enumerate(model_names):\n",
    "    plt.text(mse_scores[i], r2_scores[i], model_name, fontsize=9, ha='left', va='bottom')\n",
    "\n",
    "plt.savefig('../data/output/models_comparison.png')\n",
    "\n",
    "plt.grid(True)\n",
    "plt.tight_layout()\n",
    "plt.show()\n"
   ]
  },
  {
   "cell_type": "markdown",
   "metadata": {},
   "source": [
    "Linear Regression models perform consistently across different tests, indicating stability in predictions regardless of parameter adjustments. The best score and performance metrics remain identical. Therefore for simple linear regression day doesn't matter.\n",
    "\n",
    "Random Forest Regression shows variability in performance with different day settings. The best performance is achieved when day was removed, indicating that day data gives harmful noise for training.\n",
    "\n",
    "Neural network shows minor fluctuations in performance, with all tests yielding similar MSE and R2R2 scores. This indicates that while neural networks are slightly more sensitive to day adjustments, their performance remains fairly consistent.\n",
    "\n",
    "LightGBM models perform consistently well across all tests, demonstrating strong predictive power and stability. LightGBM is sensitive for nonlinearity and didn't find any pattern in day data.\n",
    "\n",
    "LightGBM consistently outperforms other models in terms of Mean Squared Error and R2R2 score, indicating it is the most effective model for this dataset. Random Forest Regressor shows potential to improve with proper tuning, while Linear Regression provide stable but less optimal performance. \n",
    "\n",
    "If we look closer to results (file results2.txt) we can see neural network with SGD optimizer is much closer to LightBGM models than with ADAM optimizers. I made one NN model with SGD- its more difficoult to set and optimize than ADAM, but learning speed and results are better. If we keep with NN opimalization we should get nearly the same results like LightGBM, maybe slightly better. However we need keep in mind that gradient boosting machines are highly performance for structured data (and much easier to train)."
   ]
  }
 ],
 "metadata": {
  "kernelspec": {
   "display_name": "Python 3",
   "language": "python",
   "name": "python3"
  },
  "language_info": {
   "codemirror_mode": {
    "name": "ipython",
    "version": 3
   },
   "file_extension": ".py",
   "mimetype": "text/x-python",
   "name": "python",
   "nbconvert_exporter": "python",
   "pygments_lexer": "ipython3",
   "version": "3.10.11"
  }
 },
 "nbformat": 4,
 "nbformat_minor": 2
}
